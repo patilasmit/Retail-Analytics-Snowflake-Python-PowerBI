{
 "cells": [
  {
   "cell_type": "code",
   "execution_count": 2,
   "id": "42478028-843f-416f-93a3-74ef70a22131",
   "metadata": {},
   "outputs": [
    {
     "name": "stdout",
     "output_type": "stream",
     "text": [
      "Requirement already satisfied: snowflake-connector-python[pandas] in c:\\users\\asmit\\appdata\\local\\programs\\python\\python312\\lib\\site-packages (3.12.4)\n",
      "Requirement already satisfied: asn1crypto<2.0.0,>0.24.0 in c:\\users\\asmit\\appdata\\local\\programs\\python\\python312\\lib\\site-packages (from snowflake-connector-python[pandas]) (1.5.1)\n",
      "Requirement already satisfied: cffi<2.0.0,>=1.9 in c:\\users\\asmit\\appdata\\local\\programs\\python\\python312\\lib\\site-packages (from snowflake-connector-python[pandas]) (1.17.0)\n",
      "Requirement already satisfied: cryptography>=3.1.0 in c:\\users\\asmit\\appdata\\local\\programs\\python\\python312\\lib\\site-packages (from snowflake-connector-python[pandas]) (44.0.0)\n",
      "Requirement already satisfied: pyOpenSSL<25.0.0,>=22.0.0 in c:\\users\\asmit\\appdata\\local\\programs\\python\\python312\\lib\\site-packages (from snowflake-connector-python[pandas]) (24.3.0)\n",
      "Requirement already satisfied: pyjwt<3.0.0 in c:\\users\\asmit\\appdata\\local\\programs\\python\\python312\\lib\\site-packages (from snowflake-connector-python[pandas]) (2.10.1)\n",
      "Requirement already satisfied: pytz in c:\\users\\asmit\\appdata\\local\\programs\\python\\python312\\lib\\site-packages (from snowflake-connector-python[pandas]) (2024.1)\n",
      "Requirement already satisfied: requests<3.0.0 in c:\\users\\asmit\\appdata\\local\\programs\\python\\python312\\lib\\site-packages (from snowflake-connector-python[pandas]) (2.32.3)\n",
      "Requirement already satisfied: packaging in c:\\users\\asmit\\appdata\\local\\programs\\python\\python312\\lib\\site-packages (from snowflake-connector-python[pandas]) (24.1)\n",
      "Requirement already satisfied: charset_normalizer<4,>=2 in c:\\users\\asmit\\appdata\\local\\programs\\python\\python312\\lib\\site-packages (from snowflake-connector-python[pandas]) (3.3.2)\n",
      "Requirement already satisfied: idna<4,>=2.5 in c:\\users\\asmit\\appdata\\local\\programs\\python\\python312\\lib\\site-packages (from snowflake-connector-python[pandas]) (3.7)\n",
      "Requirement already satisfied: certifi>=2017.4.17 in c:\\users\\asmit\\appdata\\local\\programs\\python\\python312\\lib\\site-packages (from snowflake-connector-python[pandas]) (2024.7.4)\n",
      "Requirement already satisfied: typing_extensions<5,>=4.3 in c:\\users\\asmit\\appdata\\local\\programs\\python\\python312\\lib\\site-packages (from snowflake-connector-python[pandas]) (4.12.2)\n",
      "Requirement already satisfied: filelock<4,>=3.5 in c:\\users\\asmit\\appdata\\local\\programs\\python\\python312\\lib\\site-packages (from snowflake-connector-python[pandas]) (3.16.1)\n",
      "Requirement already satisfied: sortedcontainers>=2.4.0 in c:\\users\\asmit\\appdata\\local\\programs\\python\\python312\\lib\\site-packages (from snowflake-connector-python[pandas]) (2.4.0)\n",
      "Requirement already satisfied: platformdirs<5.0.0,>=2.6.0 in c:\\users\\asmit\\appdata\\local\\programs\\python\\python312\\lib\\site-packages (from snowflake-connector-python[pandas]) (4.2.2)\n",
      "Requirement already satisfied: tomlkit in c:\\users\\asmit\\appdata\\local\\programs\\python\\python312\\lib\\site-packages (from snowflake-connector-python[pandas]) (0.13.2)\n",
      "Requirement already satisfied: pandas<3.0.0,>=1.0.0 in c:\\users\\asmit\\appdata\\local\\programs\\python\\python312\\lib\\site-packages (from snowflake-connector-python[pandas]) (2.2.2)\n",
      "Requirement already satisfied: pyarrow in c:\\users\\asmit\\appdata\\local\\programs\\python\\python312\\lib\\site-packages (from snowflake-connector-python[pandas]) (19.0.0)\n",
      "Requirement already satisfied: pycparser in c:\\users\\asmit\\appdata\\local\\programs\\python\\python312\\lib\\site-packages (from cffi<2.0.0,>=1.9->snowflake-connector-python[pandas]) (2.22)\n",
      "Requirement already satisfied: numpy>=1.26.0 in c:\\users\\asmit\\appdata\\local\\programs\\python\\python312\\lib\\site-packages (from pandas<3.0.0,>=1.0.0->snowflake-connector-python[pandas]) (2.0.1)\n",
      "Requirement already satisfied: python-dateutil>=2.8.2 in c:\\users\\asmit\\appdata\\local\\programs\\python\\python312\\lib\\site-packages (from pandas<3.0.0,>=1.0.0->snowflake-connector-python[pandas]) (2.9.0.post0)\n",
      "Requirement already satisfied: tzdata>=2022.7 in c:\\users\\asmit\\appdata\\local\\programs\\python\\python312\\lib\\site-packages (from pandas<3.0.0,>=1.0.0->snowflake-connector-python[pandas]) (2024.1)\n",
      "Requirement already satisfied: urllib3<3,>=1.21.1 in c:\\users\\asmit\\appdata\\local\\programs\\python\\python312\\lib\\site-packages (from requests<3.0.0->snowflake-connector-python[pandas]) (2.2.2)\n",
      "Requirement already satisfied: six>=1.5 in c:\\users\\asmit\\appdata\\local\\programs\\python\\python312\\lib\\site-packages (from python-dateutil>=2.8.2->pandas<3.0.0,>=1.0.0->snowflake-connector-python[pandas]) (1.16.0)\n",
      "Note: you may need to restart the kernel to use updated packages.\n"
     ]
    },
    {
     "name": "stderr",
     "output_type": "stream",
     "text": [
      "WARNING: Ignoring invalid distribution ~cipy (C:\\Users\\asmit\\AppData\\Local\\Programs\\Python\\Python312\\Lib\\site-packages)\n",
      "WARNING: Ignoring invalid distribution ~cipy (C:\\Users\\asmit\\AppData\\Local\\Programs\\Python\\Python312\\Lib\\site-packages)\n",
      "WARNING: Ignoring invalid distribution ~cipy (C:\\Users\\asmit\\AppData\\Local\\Programs\\Python\\Python312\\Lib\\site-packages)\n",
      "\n",
      "[notice] A new release of pip is available: 24.2 -> 24.3.1\n",
      "[notice] To update, run: python.exe -m pip install --upgrade pip\n"
     ]
    }
   ],
   "source": [
    "pip install snowflake-connector-python[pandas]"
   ]
  },
  {
   "cell_type": "code",
   "execution_count": 4,
   "id": "655f9c64-dd76-4971-9f50-f599017db3fb",
   "metadata": {},
   "outputs": [
    {
     "name": "stdout",
     "output_type": "stream",
     "text": [
      "Requirement already satisfied: pip in c:\\users\\asmit\\appdata\\local\\programs\\python\\python312\\lib\\site-packages (24.2)\n",
      "Collecting pip\n",
      "  Downloading pip-24.3.1-py3-none-any.whl.metadata (3.7 kB)\n",
      "Downloading pip-24.3.1-py3-none-any.whl (1.8 MB)\n",
      "   ---------------------------------------- 0.0/1.8 MB ? eta -:--:--\n",
      "   ----------------------- ---------------- 1.0/1.8 MB 5.0 MB/s eta 0:00:01\n",
      "   ---------------------------------- ----- 1.6/1.8 MB 4.6 MB/s eta 0:00:01\n",
      "   ---------------------------------------- 1.8/1.8 MB 3.6 MB/s eta 0:00:00\n",
      "Installing collected packages: pip\n",
      "  Attempting uninstall: pip\n",
      "    Found existing installation: pip 24.2\n",
      "    Uninstalling pip-24.2:\n",
      "      Successfully uninstalled pip-24.2\n",
      "Successfully installed pip-24.3.1\n",
      "Note: you may need to restart the kernel to use updated packages.\n"
     ]
    },
    {
     "name": "stderr",
     "output_type": "stream",
     "text": [
      "WARNING: Ignoring invalid distribution ~cipy (C:\\Users\\asmit\\AppData\\Local\\Programs\\Python\\Python312\\Lib\\site-packages)\n",
      "WARNING: Ignoring invalid distribution ~cipy (C:\\Users\\asmit\\AppData\\Local\\Programs\\Python\\Python312\\Lib\\site-packages)\n",
      "WARNING: Ignoring invalid distribution ~cipy (C:\\Users\\asmit\\AppData\\Local\\Programs\\Python\\Python312\\Lib\\site-packages)\n"
     ]
    }
   ],
   "source": [
    " pip install --upgrade pip"
   ]
  },
  {
   "cell_type": "code",
   "execution_count": 5,
   "id": "8404c1fb-a2c9-458e-b466-df7d1ecc8b4b",
   "metadata": {
    "scrolled": true
   },
   "outputs": [
    {
     "name": "stdout",
     "output_type": "stream",
     "text": [
      "Requirement already satisfied: snowflake-connector-python[pandas] in c:\\users\\asmit\\appdata\\local\\programs\\python\\python312\\lib\\site-packages (3.12.4)\n",
      "Requirement already satisfied: asn1crypto<2.0.0,>0.24.0 in c:\\users\\asmit\\appdata\\local\\programs\\python\\python312\\lib\\site-packages (from snowflake-connector-python[pandas]) (1.5.1)\n",
      "Requirement already satisfied: cffi<2.0.0,>=1.9 in c:\\users\\asmit\\appdata\\local\\programs\\python\\python312\\lib\\site-packages (from snowflake-connector-python[pandas]) (1.17.0)\n",
      "Requirement already satisfied: cryptography>=3.1.0 in c:\\users\\asmit\\appdata\\local\\programs\\python\\python312\\lib\\site-packages (from snowflake-connector-python[pandas]) (44.0.0)\n",
      "Requirement already satisfied: pyOpenSSL<25.0.0,>=22.0.0 in c:\\users\\asmit\\appdata\\local\\programs\\python\\python312\\lib\\site-packages (from snowflake-connector-python[pandas]) (24.3.0)\n",
      "Requirement already satisfied: pyjwt<3.0.0 in c:\\users\\asmit\\appdata\\local\\programs\\python\\python312\\lib\\site-packages (from snowflake-connector-python[pandas]) (2.10.1)\n",
      "Requirement already satisfied: pytz in c:\\users\\asmit\\appdata\\local\\programs\\python\\python312\\lib\\site-packages (from snowflake-connector-python[pandas]) (2024.1)\n",
      "Requirement already satisfied: requests<3.0.0 in c:\\users\\asmit\\appdata\\local\\programs\\python\\python312\\lib\\site-packages (from snowflake-connector-python[pandas]) (2.32.3)\n",
      "Requirement already satisfied: packaging in c:\\users\\asmit\\appdata\\local\\programs\\python\\python312\\lib\\site-packages (from snowflake-connector-python[pandas]) (24.1)\n",
      "Requirement already satisfied: charset_normalizer<4,>=2 in c:\\users\\asmit\\appdata\\local\\programs\\python\\python312\\lib\\site-packages (from snowflake-connector-python[pandas]) (3.3.2)\n",
      "Requirement already satisfied: idna<4,>=2.5 in c:\\users\\asmit\\appdata\\local\\programs\\python\\python312\\lib\\site-packages (from snowflake-connector-python[pandas]) (3.7)\n",
      "Requirement already satisfied: certifi>=2017.4.17 in c:\\users\\asmit\\appdata\\local\\programs\\python\\python312\\lib\\site-packages (from snowflake-connector-python[pandas]) (2024.7.4)\n",
      "Requirement already satisfied: typing_extensions<5,>=4.3 in c:\\users\\asmit\\appdata\\local\\programs\\python\\python312\\lib\\site-packages (from snowflake-connector-python[pandas]) (4.12.2)\n",
      "Requirement already satisfied: filelock<4,>=3.5 in c:\\users\\asmit\\appdata\\local\\programs\\python\\python312\\lib\\site-packages (from snowflake-connector-python[pandas]) (3.16.1)\n",
      "Requirement already satisfied: sortedcontainers>=2.4.0 in c:\\users\\asmit\\appdata\\local\\programs\\python\\python312\\lib\\site-packages (from snowflake-connector-python[pandas]) (2.4.0)\n",
      "Requirement already satisfied: platformdirs<5.0.0,>=2.6.0 in c:\\users\\asmit\\appdata\\local\\programs\\python\\python312\\lib\\site-packages (from snowflake-connector-python[pandas]) (4.2.2)\n",
      "Requirement already satisfied: tomlkit in c:\\users\\asmit\\appdata\\local\\programs\\python\\python312\\lib\\site-packages (from snowflake-connector-python[pandas]) (0.13.2)\n",
      "Requirement already satisfied: pandas<3.0.0,>=1.0.0 in c:\\users\\asmit\\appdata\\local\\programs\\python\\python312\\lib\\site-packages (from snowflake-connector-python[pandas]) (2.2.2)\n",
      "Requirement already satisfied: pyarrow in c:\\users\\asmit\\appdata\\local\\programs\\python\\python312\\lib\\site-packages (from snowflake-connector-python[pandas]) (19.0.0)\n",
      "Requirement already satisfied: pycparser in c:\\users\\asmit\\appdata\\local\\programs\\python\\python312\\lib\\site-packages (from cffi<2.0.0,>=1.9->snowflake-connector-python[pandas]) (2.22)\n",
      "Requirement already satisfied: numpy>=1.26.0 in c:\\users\\asmit\\appdata\\local\\programs\\python\\python312\\lib\\site-packages (from pandas<3.0.0,>=1.0.0->snowflake-connector-python[pandas]) (2.0.1)\n",
      "Requirement already satisfied: python-dateutil>=2.8.2 in c:\\users\\asmit\\appdata\\local\\programs\\python\\python312\\lib\\site-packages (from pandas<3.0.0,>=1.0.0->snowflake-connector-python[pandas]) (2.9.0.post0)\n",
      "Requirement already satisfied: tzdata>=2022.7 in c:\\users\\asmit\\appdata\\local\\programs\\python\\python312\\lib\\site-packages (from pandas<3.0.0,>=1.0.0->snowflake-connector-python[pandas]) (2024.1)\n",
      "Requirement already satisfied: urllib3<3,>=1.21.1 in c:\\users\\asmit\\appdata\\local\\programs\\python\\python312\\lib\\site-packages (from requests<3.0.0->snowflake-connector-python[pandas]) (2.2.2)\n",
      "Requirement already satisfied: six>=1.5 in c:\\users\\asmit\\appdata\\local\\programs\\python\\python312\\lib\\site-packages (from python-dateutil>=2.8.2->pandas<3.0.0,>=1.0.0->snowflake-connector-python[pandas]) (1.16.0)\n",
      "Note: you may need to restart the kernel to use updated packages.\n"
     ]
    },
    {
     "name": "stderr",
     "output_type": "stream",
     "text": [
      "WARNING: Ignoring invalid distribution ~cipy (C:\\Users\\asmit\\AppData\\Local\\Programs\\Python\\Python312\\Lib\\site-packages)\n",
      "WARNING: Ignoring invalid distribution ~cipy (C:\\Users\\asmit\\AppData\\Local\\Programs\\Python\\Python312\\Lib\\site-packages)\n",
      "WARNING: Ignoring invalid distribution ~cipy (C:\\Users\\asmit\\AppData\\Local\\Programs\\Python\\Python312\\Lib\\site-packages)\n"
     ]
    }
   ],
   "source": [
    "pip install --upgrade snowflake-connector-python[pandas]"
   ]
  },
  {
   "cell_type": "code",
   "execution_count": 7,
   "id": "5fd9b8c9-80d3-4524-b738-483915d8a1aa",
   "metadata": {
    "scrolled": true
   },
   "outputs": [
    {
     "name": "stdout",
     "output_type": "stream",
     "text": [
      "Requirement already satisfied: snowflake-sqlalchemy in c:\\users\\asmit\\appdata\\local\\programs\\python\\python312\\lib\\site-packages (1.7.3)\n",
      "Requirement already satisfied: snowflake-connector-python<4.0.0 in c:\\users\\asmit\\appdata\\local\\programs\\python\\python312\\lib\\site-packages (from snowflake-sqlalchemy) (3.12.4)\n",
      "Requirement already satisfied: sqlalchemy>=1.4.19 in c:\\users\\asmit\\appdata\\local\\programs\\python\\python312\\lib\\site-packages (from snowflake-sqlalchemy) (2.0.32)\n",
      "Requirement already satisfied: asn1crypto<2.0.0,>0.24.0 in c:\\users\\asmit\\appdata\\local\\programs\\python\\python312\\lib\\site-packages (from snowflake-connector-python<4.0.0->snowflake-sqlalchemy) (1.5.1)\n",
      "Requirement already satisfied: cffi<2.0.0,>=1.9 in c:\\users\\asmit\\appdata\\local\\programs\\python\\python312\\lib\\site-packages (from snowflake-connector-python<4.0.0->snowflake-sqlalchemy) (1.17.0)\n",
      "Requirement already satisfied: cryptography>=3.1.0 in c:\\users\\asmit\\appdata\\local\\programs\\python\\python312\\lib\\site-packages (from snowflake-connector-python<4.0.0->snowflake-sqlalchemy) (44.0.0)\n",
      "Requirement already satisfied: pyOpenSSL<25.0.0,>=22.0.0 in c:\\users\\asmit\\appdata\\local\\programs\\python\\python312\\lib\\site-packages (from snowflake-connector-python<4.0.0->snowflake-sqlalchemy) (24.3.0)\n",
      "Requirement already satisfied: pyjwt<3.0.0 in c:\\users\\asmit\\appdata\\local\\programs\\python\\python312\\lib\\site-packages (from snowflake-connector-python<4.0.0->snowflake-sqlalchemy) (2.10.1)\n",
      "Requirement already satisfied: pytz in c:\\users\\asmit\\appdata\\local\\programs\\python\\python312\\lib\\site-packages (from snowflake-connector-python<4.0.0->snowflake-sqlalchemy) (2024.1)\n",
      "Requirement already satisfied: requests<3.0.0 in c:\\users\\asmit\\appdata\\local\\programs\\python\\python312\\lib\\site-packages (from snowflake-connector-python<4.0.0->snowflake-sqlalchemy) (2.32.3)\n",
      "Requirement already satisfied: packaging in c:\\users\\asmit\\appdata\\local\\programs\\python\\python312\\lib\\site-packages (from snowflake-connector-python<4.0.0->snowflake-sqlalchemy) (24.1)\n",
      "Requirement already satisfied: charset_normalizer<4,>=2 in c:\\users\\asmit\\appdata\\local\\programs\\python\\python312\\lib\\site-packages (from snowflake-connector-python<4.0.0->snowflake-sqlalchemy) (3.3.2)\n",
      "Requirement already satisfied: idna<4,>=2.5 in c:\\users\\asmit\\appdata\\local\\programs\\python\\python312\\lib\\site-packages (from snowflake-connector-python<4.0.0->snowflake-sqlalchemy) (3.7)\n",
      "Requirement already satisfied: certifi>=2017.4.17 in c:\\users\\asmit\\appdata\\local\\programs\\python\\python312\\lib\\site-packages (from snowflake-connector-python<4.0.0->snowflake-sqlalchemy) (2024.7.4)\n",
      "Requirement already satisfied: typing_extensions<5,>=4.3 in c:\\users\\asmit\\appdata\\local\\programs\\python\\python312\\lib\\site-packages (from snowflake-connector-python<4.0.0->snowflake-sqlalchemy) (4.12.2)\n",
      "Requirement already satisfied: filelock<4,>=3.5 in c:\\users\\asmit\\appdata\\local\\programs\\python\\python312\\lib\\site-packages (from snowflake-connector-python<4.0.0->snowflake-sqlalchemy) (3.16.1)\n",
      "Requirement already satisfied: sortedcontainers>=2.4.0 in c:\\users\\asmit\\appdata\\local\\programs\\python\\python312\\lib\\site-packages (from snowflake-connector-python<4.0.0->snowflake-sqlalchemy) (2.4.0)\n",
      "Requirement already satisfied: platformdirs<5.0.0,>=2.6.0 in c:\\users\\asmit\\appdata\\local\\programs\\python\\python312\\lib\\site-packages (from snowflake-connector-python<4.0.0->snowflake-sqlalchemy) (4.2.2)\n",
      "Requirement already satisfied: tomlkit in c:\\users\\asmit\\appdata\\local\\programs\\python\\python312\\lib\\site-packages (from snowflake-connector-python<4.0.0->snowflake-sqlalchemy) (0.13.2)\n",
      "Requirement already satisfied: greenlet!=0.4.17 in c:\\users\\asmit\\appdata\\local\\programs\\python\\python312\\lib\\site-packages (from sqlalchemy>=1.4.19->snowflake-sqlalchemy) (3.0.3)\n",
      "Requirement already satisfied: pycparser in c:\\users\\asmit\\appdata\\local\\programs\\python\\python312\\lib\\site-packages (from cffi<2.0.0,>=1.9->snowflake-connector-python<4.0.0->snowflake-sqlalchemy) (2.22)\n",
      "Requirement already satisfied: urllib3<3,>=1.21.1 in c:\\users\\asmit\\appdata\\local\\programs\\python\\python312\\lib\\site-packages (from requests<3.0.0->snowflake-connector-python<4.0.0->snowflake-sqlalchemy) (2.2.2)\n",
      "Note: you may need to restart the kernel to use updated packages.\n"
     ]
    },
    {
     "name": "stderr",
     "output_type": "stream",
     "text": [
      "WARNING: Ignoring invalid distribution ~cipy (C:\\Users\\asmit\\AppData\\Local\\Programs\\Python\\Python312\\Lib\\site-packages)\n",
      "WARNING: Ignoring invalid distribution ~cipy (C:\\Users\\asmit\\AppData\\Local\\Programs\\Python\\Python312\\Lib\\site-packages)\n",
      "WARNING: Ignoring invalid distribution ~cipy (C:\\Users\\asmit\\AppData\\Local\\Programs\\Python\\Python312\\Lib\\site-packages)\n"
     ]
    }
   ],
   "source": [
    "pip install snowflake-sqlalchemy"
   ]
  },
  {
   "cell_type": "code",
   "execution_count": 9,
   "id": "0cf564cf-0c0b-4003-87b4-1967563cd40f",
   "metadata": {},
   "outputs": [
    {
     "name": "stdout",
     "output_type": "stream",
     "text": [
      "Requirement already satisfied: snowflake-connector-python in c:\\users\\asmit\\appdata\\local\\programs\\python\\python312\\lib\\site-packages (3.12.4)\n",
      "Requirement already satisfied: asn1crypto<2.0.0,>0.24.0 in c:\\users\\asmit\\appdata\\local\\programs\\python\\python312\\lib\\site-packages (from snowflake-connector-python) (1.5.1)\n",
      "Requirement already satisfied: cffi<2.0.0,>=1.9 in c:\\users\\asmit\\appdata\\local\\programs\\python\\python312\\lib\\site-packages (from snowflake-connector-python) (1.17.0)\n",
      "Requirement already satisfied: cryptography>=3.1.0 in c:\\users\\asmit\\appdata\\local\\programs\\python\\python312\\lib\\site-packages (from snowflake-connector-python) (44.0.0)\n",
      "Requirement already satisfied: pyOpenSSL<25.0.0,>=22.0.0 in c:\\users\\asmit\\appdata\\local\\programs\\python\\python312\\lib\\site-packages (from snowflake-connector-python) (24.3.0)\n",
      "Requirement already satisfied: pyjwt<3.0.0 in c:\\users\\asmit\\appdata\\local\\programs\\python\\python312\\lib\\site-packages (from snowflake-connector-python) (2.10.1)\n",
      "Requirement already satisfied: pytz in c:\\users\\asmit\\appdata\\local\\programs\\python\\python312\\lib\\site-packages (from snowflake-connector-python) (2024.1)\n",
      "Requirement already satisfied: requests<3.0.0 in c:\\users\\asmit\\appdata\\local\\programs\\python\\python312\\lib\\site-packages (from snowflake-connector-python) (2.32.3)\n",
      "Requirement already satisfied: packaging in c:\\users\\asmit\\appdata\\local\\programs\\python\\python312\\lib\\site-packages (from snowflake-connector-python) (24.1)\n",
      "Requirement already satisfied: charset_normalizer<4,>=2 in c:\\users\\asmit\\appdata\\local\\programs\\python\\python312\\lib\\site-packages (from snowflake-connector-python) (3.3.2)\n",
      "Requirement already satisfied: idna<4,>=2.5 in c:\\users\\asmit\\appdata\\local\\programs\\python\\python312\\lib\\site-packages (from snowflake-connector-python) (3.7)\n",
      "Requirement already satisfied: certifi>=2017.4.17 in c:\\users\\asmit\\appdata\\local\\programs\\python\\python312\\lib\\site-packages (from snowflake-connector-python) (2024.7.4)\n",
      "Requirement already satisfied: typing_extensions<5,>=4.3 in c:\\users\\asmit\\appdata\\local\\programs\\python\\python312\\lib\\site-packages (from snowflake-connector-python) (4.12.2)\n",
      "Requirement already satisfied: filelock<4,>=3.5 in c:\\users\\asmit\\appdata\\local\\programs\\python\\python312\\lib\\site-packages (from snowflake-connector-python) (3.16.1)\n",
      "Requirement already satisfied: sortedcontainers>=2.4.0 in c:\\users\\asmit\\appdata\\local\\programs\\python\\python312\\lib\\site-packages (from snowflake-connector-python) (2.4.0)\n",
      "Requirement already satisfied: platformdirs<5.0.0,>=2.6.0 in c:\\users\\asmit\\appdata\\local\\programs\\python\\python312\\lib\\site-packages (from snowflake-connector-python) (4.2.2)\n",
      "Requirement already satisfied: tomlkit in c:\\users\\asmit\\appdata\\local\\programs\\python\\python312\\lib\\site-packages (from snowflake-connector-python) (0.13.2)\n",
      "Requirement already satisfied: pycparser in c:\\users\\asmit\\appdata\\local\\programs\\python\\python312\\lib\\site-packages (from cffi<2.0.0,>=1.9->snowflake-connector-python) (2.22)\n",
      "Requirement already satisfied: urllib3<3,>=1.21.1 in c:\\users\\asmit\\appdata\\local\\programs\\python\\python312\\lib\\site-packages (from requests<3.0.0->snowflake-connector-python) (2.2.2)\n",
      "Note: you may need to restart the kernel to use updated packages.\n"
     ]
    },
    {
     "name": "stderr",
     "output_type": "stream",
     "text": [
      "WARNING: Ignoring invalid distribution ~cipy (C:\\Users\\asmit\\AppData\\Local\\Programs\\Python\\Python312\\Lib\\site-packages)\n",
      "WARNING: Ignoring invalid distribution ~cipy (C:\\Users\\asmit\\AppData\\Local\\Programs\\Python\\Python312\\Lib\\site-packages)\n",
      "WARNING: Ignoring invalid distribution ~cipy (C:\\Users\\asmit\\AppData\\Local\\Programs\\Python\\Python312\\Lib\\site-packages)\n"
     ]
    }
   ],
   "source": [
    "pip install snowflake-connector-python"
   ]
  },
  {
   "cell_type": "code",
   "execution_count": 103,
   "id": "66224b4e-4302-45d0-b119-7016811a62ac",
   "metadata": {},
   "outputs": [
    {
     "name": "stdout",
     "output_type": "stream",
     "text": [
      "Note: you may need to restart the kernel to use updated packages.\n",
      "Collecting datetime\n",
      "  Downloading DateTime-5.5-py3-none-any.whl.metadata (33 kB)\n",
      "Collecting zope.interface (from datetime)\n",
      "  Downloading zope.interface-7.2-cp312-cp312-win_amd64.whl.metadata (45 kB)\n",
      "Requirement already satisfied: pytz in c:\\users\\asmit\\appdata\\local\\programs\\python\\python312\\lib\\site-packages (from datetime) (2024.1)\n",
      "Requirement already satisfied: setuptools in c:\\users\\asmit\\appdata\\local\\programs\\python\\python312\\lib\\site-packages (from zope.interface->datetime) (72.1.0)\n",
      "Downloading DateTime-5.5-py3-none-any.whl (52 kB)\n",
      "Downloading zope.interface-7.2-cp312-cp312-win_amd64.whl (212 kB)\n",
      "Installing collected packages: zope.interface, datetime\n",
      "Successfully installed datetime-5.5 zope.interface-7.2\n"
     ]
    },
    {
     "name": "stderr",
     "output_type": "stream",
     "text": [
      "WARNING: Ignoring invalid distribution ~cipy (C:\\Users\\asmit\\AppData\\Local\\Programs\\Python\\Python312\\Lib\\site-packages)\n",
      "WARNING: Ignoring invalid distribution ~cipy (C:\\Users\\asmit\\AppData\\Local\\Programs\\Python\\Python312\\Lib\\site-packages)\n",
      "WARNING: Ignoring invalid distribution ~cipy (C:\\Users\\asmit\\AppData\\Local\\Programs\\Python\\Python312\\Lib\\site-packages)\n"
     ]
    }
   ],
   "source": [
    "pip install datetime"
   ]
  },
  {
   "cell_type": "code",
   "execution_count": 147,
   "id": "62e8fba7-7492-4b36-8d0d-a03acb1c306d",
   "metadata": {},
   "outputs": [
    {
     "name": "stderr",
     "output_type": "stream",
     "text": [
      "C:\\Users\\asmit\\AppData\\Local\\Temp\\ipykernel_15500\\3541215196.py:3: DeprecationWarning: `import pandas_profiling` is going to be deprecated by April 1st. Please use `import ydata_profiling` instead.\n",
      "  import pandas_profiling\n"
     ]
    }
   ],
   "source": [
    "import numpy as np\n",
    "import pandas as pd\n",
    "import pandas_profiling\n",
    "import matplotlib.pyplot as plt\n",
    "import seaborn as sns\n",
    "import getpass\n",
    "import snowflake.connector\n",
    "%matplotlib inline\n",
    "from datetime import datetime , timedelta"
   ]
  },
  {
   "cell_type": "code",
   "execution_count": 333,
   "id": "d1e4c40f-5ba6-4aed-b3ac-5ad262cd8768",
   "metadata": {},
   "outputs": [],
   "source": [
    "import snowflake.connector\n",
    "conn = snowflake.connector.connect(\n",
    "        user=\"MAUU\",\n",
    "        password=\"Mauu@1623\",\n",
    "        account=\"gq46029.ap-southeast-1\",  # Use the full account identifier\n",
    "        database=\"RETAILS\",  # Ensure this database exists\n",
    "        schema=\"PUBLIC\",    # Ensure this schema exists\n",
    "        warehouse=\"COMPUTE_WH\"  # Ensure this warehouse is available\n",
    "    )\n"
   ]
  },
  {
   "cell_type": "code",
   "execution_count": 334,
   "id": "0b746fab-da4d-4970-aa7e-965e094ea849",
   "metadata": {},
   "outputs": [],
   "source": [
    "cur = conn.cursor()"
   ]
  },
  {
   "cell_type": "code",
   "execution_count": 335,
   "id": "d1c28652-9daa-413a-bdec-318cc2e907b2",
   "metadata": {},
   "outputs": [],
   "source": [
    "select_demographic_RAW = 'SELECT * FROM demographic_RAW'\n",
    "select_CAMPAIGN_DESC_RAW = 'SELECT * FROM CAMPAIGN_DESC_RAW'\n",
    "select_CAMPAIGN_RAW = 'SELECT * FROM CAMPAIGN_RAW'\n",
    "select_PRODUCT_RAW = 'SELECT * FROM PRODUCT_RAW'\n",
    "select_COUPON_RAW = 'SELECT * FROM COUPON_RAW'\n",
    "select_COUPON_REDEMPT_RAW = 'SELECT * FROM COUPON_REDEMPT_RAW'\n",
    "select_TRANSACTION_RAW = 'SELECT * FROM TRANSACTION_RAW'\n"
   ]
  },
  {
   "cell_type": "code",
   "execution_count": 336,
   "id": "d09a8805-9a07-455f-b08f-bf19a86b3abc",
   "metadata": {},
   "outputs": [],
   "source": [
    "cur.execute(select_demographic_RAW)\n",
    "demographic_RAW = cur.fetch_pandas_all()"
   ]
  },
  {
   "cell_type": "code",
   "execution_count": 337,
   "id": "58bf2852-f7a0-4d40-8f87-620c6da63466",
   "metadata": {},
   "outputs": [],
   "source": [
    "cur.execute(select_CAMPAIGN_DESC_RAW)\n",
    "CAMPAIGN_DESC_RAW = cur.fetch_pandas_all()"
   ]
  },
  {
   "cell_type": "code",
   "execution_count": 338,
   "id": "824cbe37-89d6-4fa9-9a1e-522d1c793e15",
   "metadata": {},
   "outputs": [],
   "source": [
    "cur.execute(select_CAMPAIGN_RAW)\n",
    "CAMPAIGN_RAW = cur.fetch_pandas_all()"
   ]
  },
  {
   "cell_type": "code",
   "execution_count": 339,
   "id": "db437781-cab5-48b5-a006-60ae39962564",
   "metadata": {},
   "outputs": [],
   "source": [
    "cur.execute(select_PRODUCT_RAW)\n",
    "PRODUCT_RAW = cur.fetch_pandas_all()"
   ]
  },
  {
   "cell_type": "code",
   "execution_count": 340,
   "id": "514bdfec-6927-434a-a9b9-eac521c63a34",
   "metadata": {},
   "outputs": [],
   "source": [
    "cur.execute(select_COUPON_RAW)\n",
    "COUPON_RAW = cur.fetch_pandas_all()"
   ]
  },
  {
   "cell_type": "code",
   "execution_count": 341,
   "id": "1e0a1885-604d-4abb-8d70-fe365ff33e21",
   "metadata": {},
   "outputs": [],
   "source": [
    "cur.execute(select_COUPON_REDEMPT_RAW)\n",
    "COUPON_REDEMPT_RAW = cur.fetch_pandas_all()\n"
   ]
  },
  {
   "cell_type": "code",
   "execution_count": 342,
   "id": "1ca05fb3-38c3-4632-8c6f-330076321f48",
   "metadata": {},
   "outputs": [],
   "source": [
    "cur.execute(select_TRANSACTION_RAW)\n",
    "TRANSACTION_RAW = cur.fetch_pandas_all()"
   ]
  },
  {
   "cell_type": "code",
   "execution_count": 343,
   "id": "bd0d6ca5-3cab-4187-a6ec-9f706dd37541",
   "metadata": {},
   "outputs": [],
   "source": [
    "cur.close()\n",
    "conn.close()"
   ]
  },
  {
   "cell_type": "code",
   "execution_count": 344,
   "id": "a4706725-ed68-4f39-bccc-29b74acb197c",
   "metadata": {},
   "outputs": [
    {
     "data": {
      "text/html": [
       "<div>\n",
       "<style scoped>\n",
       "    .dataframe tbody tr th:only-of-type {\n",
       "        vertical-align: middle;\n",
       "    }\n",
       "\n",
       "    .dataframe tbody tr th {\n",
       "        vertical-align: top;\n",
       "    }\n",
       "\n",
       "    .dataframe thead th {\n",
       "        text-align: right;\n",
       "    }\n",
       "</style>\n",
       "<table border=\"1\" class=\"dataframe\">\n",
       "  <thead>\n",
       "    <tr style=\"text-align: right;\">\n",
       "      <th></th>\n",
       "      <th>AGE_DESC</th>\n",
       "      <th>MARITAL_STATUS_CODE</th>\n",
       "      <th>INCOME_DESC</th>\n",
       "      <th>HOMEOWNER_DESC</th>\n",
       "      <th>HH_COMP_DESC</th>\n",
       "      <th>HOUSEHOLD_SIZE_DESC</th>\n",
       "      <th>KID_CATEGORY_DESC</th>\n",
       "      <th>HOUSEHOLD_KEY</th>\n",
       "    </tr>\n",
       "  </thead>\n",
       "  <tbody>\n",
       "    <tr>\n",
       "      <th>0</th>\n",
       "      <td>65+</td>\n",
       "      <td>A</td>\n",
       "      <td>35-49K</td>\n",
       "      <td>Homeowner</td>\n",
       "      <td>2 Adults No Kids</td>\n",
       "      <td>2</td>\n",
       "      <td>None/Unknown</td>\n",
       "      <td>1</td>\n",
       "    </tr>\n",
       "    <tr>\n",
       "      <th>1</th>\n",
       "      <td>45-54</td>\n",
       "      <td>A</td>\n",
       "      <td>50-74K</td>\n",
       "      <td>Homeowner</td>\n",
       "      <td>2 Adults No Kids</td>\n",
       "      <td>2</td>\n",
       "      <td>None/Unknown</td>\n",
       "      <td>7</td>\n",
       "    </tr>\n",
       "    <tr>\n",
       "      <th>2</th>\n",
       "      <td>25-34</td>\n",
       "      <td>U</td>\n",
       "      <td>25-34K</td>\n",
       "      <td>Unknown</td>\n",
       "      <td>2 Adults Kids</td>\n",
       "      <td>3</td>\n",
       "      <td>1</td>\n",
       "      <td>8</td>\n",
       "    </tr>\n",
       "    <tr>\n",
       "      <th>3</th>\n",
       "      <td>25-34</td>\n",
       "      <td>U</td>\n",
       "      <td>75-99K</td>\n",
       "      <td>Homeowner</td>\n",
       "      <td>2 Adults Kids</td>\n",
       "      <td>4</td>\n",
       "      <td>2</td>\n",
       "      <td>13</td>\n",
       "    </tr>\n",
       "    <tr>\n",
       "      <th>4</th>\n",
       "      <td>45-54</td>\n",
       "      <td>B</td>\n",
       "      <td>50-74K</td>\n",
       "      <td>Homeowner</td>\n",
       "      <td>Single Female</td>\n",
       "      <td>1</td>\n",
       "      <td>None/Unknown</td>\n",
       "      <td>16</td>\n",
       "    </tr>\n",
       "  </tbody>\n",
       "</table>\n",
       "</div>"
      ],
      "text/plain": [
       "  AGE_DESC MARITAL_STATUS_CODE INCOME_DESC HOMEOWNER_DESC      HH_COMP_DESC  \\\n",
       "0      65+                   A      35-49K      Homeowner  2 Adults No Kids   \n",
       "1    45-54                   A      50-74K      Homeowner  2 Adults No Kids   \n",
       "2    25-34                   U      25-34K        Unknown     2 Adults Kids   \n",
       "3    25-34                   U      75-99K      Homeowner     2 Adults Kids   \n",
       "4    45-54                   B      50-74K      Homeowner     Single Female   \n",
       "\n",
       "  HOUSEHOLD_SIZE_DESC KID_CATEGORY_DESC  HOUSEHOLD_KEY  \n",
       "0                   2      None/Unknown              1  \n",
       "1                   2      None/Unknown              7  \n",
       "2                   3                 1              8  \n",
       "3                   4                 2             13  \n",
       "4                   1      None/Unknown             16  "
      ]
     },
     "execution_count": 344,
     "metadata": {},
     "output_type": "execute_result"
    }
   ],
   "source": [
    "demographic_RAW.head(5)\n"
   ]
  },
  {
   "cell_type": "code",
   "execution_count": 345,
   "id": "15976362-6ea4-4d39-ad5d-ef60165bd421",
   "metadata": {},
   "outputs": [
    {
     "data": {
      "text/html": [
       "<div>\n",
       "<style scoped>\n",
       "    .dataframe tbody tr th:only-of-type {\n",
       "        vertical-align: middle;\n",
       "    }\n",
       "\n",
       "    .dataframe tbody tr th {\n",
       "        vertical-align: top;\n",
       "    }\n",
       "\n",
       "    .dataframe thead th {\n",
       "        text-align: right;\n",
       "    }\n",
       "</style>\n",
       "<table border=\"1\" class=\"dataframe\">\n",
       "  <thead>\n",
       "    <tr style=\"text-align: right;\">\n",
       "      <th></th>\n",
       "      <th>DESCRIPTION</th>\n",
       "      <th>CAMPAIGN</th>\n",
       "      <th>START_DAY</th>\n",
       "      <th>END_DAY</th>\n",
       "    </tr>\n",
       "  </thead>\n",
       "  <tbody>\n",
       "    <tr>\n",
       "      <th>0</th>\n",
       "      <td>TypeB</td>\n",
       "      <td>24</td>\n",
       "      <td>659</td>\n",
       "      <td>719</td>\n",
       "    </tr>\n",
       "    <tr>\n",
       "      <th>1</th>\n",
       "      <td>TypeC</td>\n",
       "      <td>15</td>\n",
       "      <td>547</td>\n",
       "      <td>708</td>\n",
       "    </tr>\n",
       "    <tr>\n",
       "      <th>2</th>\n",
       "      <td>TypeB</td>\n",
       "      <td>25</td>\n",
       "      <td>659</td>\n",
       "      <td>691</td>\n",
       "    </tr>\n",
       "    <tr>\n",
       "      <th>3</th>\n",
       "      <td>TypeC</td>\n",
       "      <td>20</td>\n",
       "      <td>615</td>\n",
       "      <td>685</td>\n",
       "    </tr>\n",
       "    <tr>\n",
       "      <th>4</th>\n",
       "      <td>TypeB</td>\n",
       "      <td>23</td>\n",
       "      <td>646</td>\n",
       "      <td>684</td>\n",
       "    </tr>\n",
       "  </tbody>\n",
       "</table>\n",
       "</div>"
      ],
      "text/plain": [
       "  DESCRIPTION  CAMPAIGN  START_DAY  END_DAY\n",
       "0       TypeB        24        659      719\n",
       "1       TypeC        15        547      708\n",
       "2       TypeB        25        659      691\n",
       "3       TypeC        20        615      685\n",
       "4       TypeB        23        646      684"
      ]
     },
     "execution_count": 345,
     "metadata": {},
     "output_type": "execute_result"
    }
   ],
   "source": [
    "CAMPAIGN_DESC_RAW.head(5)"
   ]
  },
  {
   "cell_type": "code",
   "execution_count": 346,
   "id": "e87ff9c0-dfec-41ee-b48f-70384bc2d6c5",
   "metadata": {},
   "outputs": [
    {
     "data": {
      "text/html": [
       "<div>\n",
       "<style scoped>\n",
       "    .dataframe tbody tr th:only-of-type {\n",
       "        vertical-align: middle;\n",
       "    }\n",
       "\n",
       "    .dataframe tbody tr th {\n",
       "        vertical-align: top;\n",
       "    }\n",
       "\n",
       "    .dataframe thead th {\n",
       "        text-align: right;\n",
       "    }\n",
       "</style>\n",
       "<table border=\"1\" class=\"dataframe\">\n",
       "  <thead>\n",
       "    <tr style=\"text-align: right;\">\n",
       "      <th></th>\n",
       "      <th>DESCRIPTION</th>\n",
       "      <th>HOUSEHOLD_KEY</th>\n",
       "      <th>CAMPAIGN</th>\n",
       "    </tr>\n",
       "  </thead>\n",
       "  <tbody>\n",
       "    <tr>\n",
       "      <th>0</th>\n",
       "      <td>TypeA</td>\n",
       "      <td>17</td>\n",
       "      <td>26</td>\n",
       "    </tr>\n",
       "    <tr>\n",
       "      <th>1</th>\n",
       "      <td>TypeA</td>\n",
       "      <td>27</td>\n",
       "      <td>26</td>\n",
       "    </tr>\n",
       "    <tr>\n",
       "      <th>2</th>\n",
       "      <td>TypeA</td>\n",
       "      <td>212</td>\n",
       "      <td>26</td>\n",
       "    </tr>\n",
       "    <tr>\n",
       "      <th>3</th>\n",
       "      <td>TypeA</td>\n",
       "      <td>208</td>\n",
       "      <td>26</td>\n",
       "    </tr>\n",
       "    <tr>\n",
       "      <th>4</th>\n",
       "      <td>TypeA</td>\n",
       "      <td>192</td>\n",
       "      <td>26</td>\n",
       "    </tr>\n",
       "  </tbody>\n",
       "</table>\n",
       "</div>"
      ],
      "text/plain": [
       "  DESCRIPTION  HOUSEHOLD_KEY  CAMPAIGN\n",
       "0       TypeA             17        26\n",
       "1       TypeA             27        26\n",
       "2       TypeA            212        26\n",
       "3       TypeA            208        26\n",
       "4       TypeA            192        26"
      ]
     },
     "execution_count": 346,
     "metadata": {},
     "output_type": "execute_result"
    }
   ],
   "source": [
    "CAMPAIGN_RAW.head(5)"
   ]
  },
  {
   "cell_type": "code",
   "execution_count": 347,
   "id": "5f93f733-751d-40a5-b4b4-fc75c6ce0b15",
   "metadata": {},
   "outputs": [
    {
     "data": {
      "text/html": [
       "<div>\n",
       "<style scoped>\n",
       "    .dataframe tbody tr th:only-of-type {\n",
       "        vertical-align: middle;\n",
       "    }\n",
       "\n",
       "    .dataframe tbody tr th {\n",
       "        vertical-align: top;\n",
       "    }\n",
       "\n",
       "    .dataframe thead th {\n",
       "        text-align: right;\n",
       "    }\n",
       "</style>\n",
       "<table border=\"1\" class=\"dataframe\">\n",
       "  <thead>\n",
       "    <tr style=\"text-align: right;\">\n",
       "      <th></th>\n",
       "      <th>PRODUCT_ID</th>\n",
       "      <th>MANUFACTURER</th>\n",
       "      <th>DEPARTMENT</th>\n",
       "      <th>BRAND</th>\n",
       "      <th>COMMODITY_DESC</th>\n",
       "      <th>SUB_COMMODITY_DESC</th>\n",
       "      <th>CURR_SIZE_OF_PRODUCT</th>\n",
       "    </tr>\n",
       "  </thead>\n",
       "  <tbody>\n",
       "    <tr>\n",
       "      <th>0</th>\n",
       "      <td>25671</td>\n",
       "      <td>2</td>\n",
       "      <td>GROCERY</td>\n",
       "      <td>National</td>\n",
       "      <td>FRZN ICE</td>\n",
       "      <td>ICE - CRUSHED/CUBED</td>\n",
       "      <td>22 LB</td>\n",
       "    </tr>\n",
       "    <tr>\n",
       "      <th>1</th>\n",
       "      <td>26190</td>\n",
       "      <td>69</td>\n",
       "      <td>GROCERY</td>\n",
       "      <td>Private</td>\n",
       "      <td>FRUIT - SHELF STABLE</td>\n",
       "      <td>APPLE SAUCE</td>\n",
       "      <td>50 OZ</td>\n",
       "    </tr>\n",
       "    <tr>\n",
       "      <th>2</th>\n",
       "      <td>26355</td>\n",
       "      <td>69</td>\n",
       "      <td>GROCERY</td>\n",
       "      <td>Private</td>\n",
       "      <td>COOKIES/CONES</td>\n",
       "      <td>SPECIALTY COOKIES</td>\n",
       "      <td>14 OZ</td>\n",
       "    </tr>\n",
       "    <tr>\n",
       "      <th>3</th>\n",
       "      <td>26426</td>\n",
       "      <td>69</td>\n",
       "      <td>GROCERY</td>\n",
       "      <td>Private</td>\n",
       "      <td>SPICES &amp; EXTRACTS</td>\n",
       "      <td>SPICES &amp; SEASONINGS</td>\n",
       "      <td>2.5 OZ</td>\n",
       "    </tr>\n",
       "    <tr>\n",
       "      <th>4</th>\n",
       "      <td>26540</td>\n",
       "      <td>69</td>\n",
       "      <td>GROCERY</td>\n",
       "      <td>Private</td>\n",
       "      <td>COOKIES/CONES</td>\n",
       "      <td>TRAY PACK/CHOC CHIP COOKIES</td>\n",
       "      <td>16 OZ</td>\n",
       "    </tr>\n",
       "  </tbody>\n",
       "</table>\n",
       "</div>"
      ],
      "text/plain": [
       "   PRODUCT_ID  MANUFACTURER DEPARTMENT     BRAND        COMMODITY_DESC  \\\n",
       "0       25671             2    GROCERY  National              FRZN ICE   \n",
       "1       26190            69    GROCERY   Private  FRUIT - SHELF STABLE   \n",
       "2       26355            69    GROCERY   Private         COOKIES/CONES   \n",
       "3       26426            69    GROCERY   Private     SPICES & EXTRACTS   \n",
       "4       26540            69    GROCERY   Private         COOKIES/CONES   \n",
       "\n",
       "            SUB_COMMODITY_DESC CURR_SIZE_OF_PRODUCT  \n",
       "0          ICE - CRUSHED/CUBED                22 LB  \n",
       "1                  APPLE SAUCE                50 OZ  \n",
       "2            SPECIALTY COOKIES                14 OZ  \n",
       "3          SPICES & SEASONINGS               2.5 OZ  \n",
       "4  TRAY PACK/CHOC CHIP COOKIES                16 OZ  "
      ]
     },
     "execution_count": 347,
     "metadata": {},
     "output_type": "execute_result"
    }
   ],
   "source": [
    "PRODUCT_RAW.head(5)"
   ]
  },
  {
   "cell_type": "code",
   "execution_count": 348,
   "id": "5c054997-e084-4d1b-a3e9-1488ff6accbc",
   "metadata": {},
   "outputs": [
    {
     "data": {
      "text/html": [
       "<div>\n",
       "<style scoped>\n",
       "    .dataframe tbody tr th:only-of-type {\n",
       "        vertical-align: middle;\n",
       "    }\n",
       "\n",
       "    .dataframe tbody tr th {\n",
       "        vertical-align: top;\n",
       "    }\n",
       "\n",
       "    .dataframe thead th {\n",
       "        text-align: right;\n",
       "    }\n",
       "</style>\n",
       "<table border=\"1\" class=\"dataframe\">\n",
       "  <thead>\n",
       "    <tr style=\"text-align: right;\">\n",
       "      <th></th>\n",
       "      <th>COUPON_UPC</th>\n",
       "      <th>PRODUCT_ID</th>\n",
       "      <th>CAMPAIGN</th>\n",
       "    </tr>\n",
       "  </thead>\n",
       "  <tbody>\n",
       "    <tr>\n",
       "      <th>0</th>\n",
       "      <td>10000089061</td>\n",
       "      <td>27160</td>\n",
       "      <td>4</td>\n",
       "    </tr>\n",
       "    <tr>\n",
       "      <th>1</th>\n",
       "      <td>10000089064</td>\n",
       "      <td>27754</td>\n",
       "      <td>9</td>\n",
       "    </tr>\n",
       "    <tr>\n",
       "      <th>2</th>\n",
       "      <td>10000089073</td>\n",
       "      <td>28897</td>\n",
       "      <td>12</td>\n",
       "    </tr>\n",
       "    <tr>\n",
       "      <th>3</th>\n",
       "      <td>51800009050</td>\n",
       "      <td>28919</td>\n",
       "      <td>28</td>\n",
       "    </tr>\n",
       "    <tr>\n",
       "      <th>4</th>\n",
       "      <td>52100000076</td>\n",
       "      <td>28929</td>\n",
       "      <td>25</td>\n",
       "    </tr>\n",
       "  </tbody>\n",
       "</table>\n",
       "</div>"
      ],
      "text/plain": [
       "    COUPON_UPC  PRODUCT_ID  CAMPAIGN\n",
       "0  10000089061       27160         4\n",
       "1  10000089064       27754         9\n",
       "2  10000089073       28897        12\n",
       "3  51800009050       28919        28\n",
       "4  52100000076       28929        25"
      ]
     },
     "execution_count": 348,
     "metadata": {},
     "output_type": "execute_result"
    }
   ],
   "source": [
    "COUPON_RAW.head(5)"
   ]
  },
  {
   "cell_type": "code",
   "execution_count": 349,
   "id": "411a09eb-e1c8-488f-a3a1-a5e88364da44",
   "metadata": {},
   "outputs": [
    {
     "data": {
      "text/html": [
       "<div>\n",
       "<style scoped>\n",
       "    .dataframe tbody tr th:only-of-type {\n",
       "        vertical-align: middle;\n",
       "    }\n",
       "\n",
       "    .dataframe tbody tr th {\n",
       "        vertical-align: top;\n",
       "    }\n",
       "\n",
       "    .dataframe thead th {\n",
       "        text-align: right;\n",
       "    }\n",
       "</style>\n",
       "<table border=\"1\" class=\"dataframe\">\n",
       "  <thead>\n",
       "    <tr style=\"text-align: right;\">\n",
       "      <th></th>\n",
       "      <th>HOUSEHOLD_KEY</th>\n",
       "      <th>DAY</th>\n",
       "      <th>COUPON_UPC</th>\n",
       "      <th>CAMPAIGN</th>\n",
       "    </tr>\n",
       "  </thead>\n",
       "  <tbody>\n",
       "    <tr>\n",
       "      <th>0</th>\n",
       "      <td>1</td>\n",
       "      <td>421</td>\n",
       "      <td>10000085364</td>\n",
       "      <td>8</td>\n",
       "    </tr>\n",
       "    <tr>\n",
       "      <th>1</th>\n",
       "      <td>1</td>\n",
       "      <td>421</td>\n",
       "      <td>51700010076</td>\n",
       "      <td>8</td>\n",
       "    </tr>\n",
       "    <tr>\n",
       "      <th>2</th>\n",
       "      <td>1</td>\n",
       "      <td>427</td>\n",
       "      <td>54200000033</td>\n",
       "      <td>8</td>\n",
       "    </tr>\n",
       "    <tr>\n",
       "      <th>3</th>\n",
       "      <td>1</td>\n",
       "      <td>597</td>\n",
       "      <td>10000085476</td>\n",
       "      <td>18</td>\n",
       "    </tr>\n",
       "    <tr>\n",
       "      <th>4</th>\n",
       "      <td>1</td>\n",
       "      <td>597</td>\n",
       "      <td>54200029176</td>\n",
       "      <td>18</td>\n",
       "    </tr>\n",
       "  </tbody>\n",
       "</table>\n",
       "</div>"
      ],
      "text/plain": [
       "   HOUSEHOLD_KEY  DAY   COUPON_UPC  CAMPAIGN\n",
       "0              1  421  10000085364         8\n",
       "1              1  421  51700010076         8\n",
       "2              1  427  54200000033         8\n",
       "3              1  597  10000085476        18\n",
       "4              1  597  54200029176        18"
      ]
     },
     "execution_count": 349,
     "metadata": {},
     "output_type": "execute_result"
    }
   ],
   "source": [
    "COUPON_REDEMPT_RAW.head(5)"
   ]
  },
  {
   "cell_type": "code",
   "execution_count": 350,
   "id": "26aac53d-13ce-4dd5-be65-7bf1653467e8",
   "metadata": {},
   "outputs": [
    {
     "data": {
      "text/html": [
       "<div>\n",
       "<style scoped>\n",
       "    .dataframe tbody tr th:only-of-type {\n",
       "        vertical-align: middle;\n",
       "    }\n",
       "\n",
       "    .dataframe tbody tr th {\n",
       "        vertical-align: top;\n",
       "    }\n",
       "\n",
       "    .dataframe thead th {\n",
       "        text-align: right;\n",
       "    }\n",
       "</style>\n",
       "<table border=\"1\" class=\"dataframe\">\n",
       "  <thead>\n",
       "    <tr style=\"text-align: right;\">\n",
       "      <th></th>\n",
       "      <th>HOUSEHOLD_KEY</th>\n",
       "      <th>BASKET_ID</th>\n",
       "      <th>DAY</th>\n",
       "      <th>PRODUCT_ID</th>\n",
       "      <th>QUANTITY</th>\n",
       "      <th>SALES_VALUE</th>\n",
       "      <th>STORE_ID</th>\n",
       "      <th>RETAIL_DISC</th>\n",
       "      <th>TRANS_TIME</th>\n",
       "      <th>WEEK_NO</th>\n",
       "      <th>COUPON_DISC</th>\n",
       "      <th>COUPON_MATCH_DISC</th>\n",
       "    </tr>\n",
       "  </thead>\n",
       "  <tbody>\n",
       "    <tr>\n",
       "      <th>0</th>\n",
       "      <td>2375</td>\n",
       "      <td>26984851472</td>\n",
       "      <td>1</td>\n",
       "      <td>1004906</td>\n",
       "      <td>1</td>\n",
       "      <td>1.39</td>\n",
       "      <td>364</td>\n",
       "      <td>-0.60</td>\n",
       "      <td>1631</td>\n",
       "      <td>1</td>\n",
       "      <td>0</td>\n",
       "      <td>0</td>\n",
       "    </tr>\n",
       "    <tr>\n",
       "      <th>1</th>\n",
       "      <td>2375</td>\n",
       "      <td>26984851472</td>\n",
       "      <td>1</td>\n",
       "      <td>1033142</td>\n",
       "      <td>1</td>\n",
       "      <td>0.82</td>\n",
       "      <td>364</td>\n",
       "      <td>0.00</td>\n",
       "      <td>1631</td>\n",
       "      <td>1</td>\n",
       "      <td>0</td>\n",
       "      <td>0</td>\n",
       "    </tr>\n",
       "    <tr>\n",
       "      <th>2</th>\n",
       "      <td>2375</td>\n",
       "      <td>26984851472</td>\n",
       "      <td>1</td>\n",
       "      <td>1036325</td>\n",
       "      <td>1</td>\n",
       "      <td>0.99</td>\n",
       "      <td>364</td>\n",
       "      <td>-0.30</td>\n",
       "      <td>1631</td>\n",
       "      <td>1</td>\n",
       "      <td>0</td>\n",
       "      <td>0</td>\n",
       "    </tr>\n",
       "    <tr>\n",
       "      <th>3</th>\n",
       "      <td>2375</td>\n",
       "      <td>26984851472</td>\n",
       "      <td>1</td>\n",
       "      <td>1082185</td>\n",
       "      <td>1</td>\n",
       "      <td>1.21</td>\n",
       "      <td>364</td>\n",
       "      <td>0.00</td>\n",
       "      <td>1631</td>\n",
       "      <td>1</td>\n",
       "      <td>0</td>\n",
       "      <td>0</td>\n",
       "    </tr>\n",
       "    <tr>\n",
       "      <th>4</th>\n",
       "      <td>2375</td>\n",
       "      <td>26984851472</td>\n",
       "      <td>1</td>\n",
       "      <td>8160430</td>\n",
       "      <td>1</td>\n",
       "      <td>1.50</td>\n",
       "      <td>364</td>\n",
       "      <td>-0.39</td>\n",
       "      <td>1631</td>\n",
       "      <td>1</td>\n",
       "      <td>0</td>\n",
       "      <td>0</td>\n",
       "    </tr>\n",
       "  </tbody>\n",
       "</table>\n",
       "</div>"
      ],
      "text/plain": [
       "   HOUSEHOLD_KEY    BASKET_ID  DAY  PRODUCT_ID  QUANTITY  SALES_VALUE  \\\n",
       "0           2375  26984851472    1     1004906         1         1.39   \n",
       "1           2375  26984851472    1     1033142         1         0.82   \n",
       "2           2375  26984851472    1     1036325         1         0.99   \n",
       "3           2375  26984851472    1     1082185         1         1.21   \n",
       "4           2375  26984851472    1     8160430         1         1.50   \n",
       "\n",
       "   STORE_ID  RETAIL_DISC  TRANS_TIME  WEEK_NO  COUPON_DISC  COUPON_MATCH_DISC  \n",
       "0       364        -0.60        1631        1            0                  0  \n",
       "1       364         0.00        1631        1            0                  0  \n",
       "2       364        -0.30        1631        1            0                  0  \n",
       "3       364         0.00        1631        1            0                  0  \n",
       "4       364        -0.39        1631        1            0                  0  "
      ]
     },
     "execution_count": 350,
     "metadata": {},
     "output_type": "execute_result"
    }
   ],
   "source": [
    "TRANSACTION_RAW.head(5)"
   ]
  },
  {
   "cell_type": "code",
   "execution_count": 351,
   "id": "e30e5bdb-660d-444a-a8af-01c00c98e691",
   "metadata": {},
   "outputs": [
    {
     "data": {
      "text/plain": [
       "(450416, 12)"
      ]
     },
     "execution_count": 351,
     "metadata": {},
     "output_type": "execute_result"
    }
   ],
   "source": [
    "TRANSACTION_RAW.shape"
   ]
  },
  {
   "cell_type": "code",
   "execution_count": 352,
   "id": "28ba66c5-72e2-41eb-96b0-9ab092146042",
   "metadata": {},
   "outputs": [
    {
     "data": {
      "text/plain": [
       "(2318, 4)"
      ]
     },
     "execution_count": 352,
     "metadata": {},
     "output_type": "execute_result"
    }
   ],
   "source": [
    "COUPON_REDEMPT_RAW.shape"
   ]
  },
  {
   "cell_type": "code",
   "execution_count": 353,
   "id": "04069015-a1f1-47e7-9593-b437668ef10e",
   "metadata": {},
   "outputs": [
    {
     "data": {
      "text/plain": [
       "(124548, 3)"
      ]
     },
     "execution_count": 353,
     "metadata": {},
     "output_type": "execute_result"
    }
   ],
   "source": [
    "COUPON_RAW.shape"
   ]
  },
  {
   "cell_type": "code",
   "execution_count": 354,
   "id": "8a2ce6a2-fb9c-4c7e-9606-c5e2de922e4c",
   "metadata": {},
   "outputs": [
    {
     "data": {
      "text/plain": [
       "(184706, 7)"
      ]
     },
     "execution_count": 354,
     "metadata": {},
     "output_type": "execute_result"
    }
   ],
   "source": [
    "PRODUCT_RAW.shape"
   ]
  },
  {
   "cell_type": "code",
   "execution_count": 355,
   "id": "392a9d21-9dd1-4b50-80f8-f454f54a27e8",
   "metadata": {},
   "outputs": [
    {
     "data": {
      "text/plain": [
       "(7208, 3)"
      ]
     },
     "execution_count": 355,
     "metadata": {},
     "output_type": "execute_result"
    }
   ],
   "source": [
    "CAMPAIGN_RAW.shape"
   ]
  },
  {
   "cell_type": "code",
   "execution_count": 356,
   "id": "dd80e506-fede-4b69-a204-656a6f07f209",
   "metadata": {},
   "outputs": [
    {
     "data": {
      "text/plain": [
       "(30, 4)"
      ]
     },
     "execution_count": 356,
     "metadata": {},
     "output_type": "execute_result"
    }
   ],
   "source": [
    "CAMPAIGN_DESC_RAW.shape"
   ]
  },
  {
   "cell_type": "code",
   "execution_count": 357,
   "id": "d2a4a4dd-669e-4ce4-a7a3-d4e6d7c90367",
   "metadata": {},
   "outputs": [],
   "source": [
    "**Checking the null values for cleaning the data!!**"
   ]
  },
  {
   "cell_type": "code",
   "execution_count": 358,
   "id": "aa473f93-d6d4-46cd-8ff7-1e11fc9e420a",
   "metadata": {},
   "outputs": [
    {
     "data": {
      "text/plain": [
       "AGE_DESC               0\n",
       "MARITAL_STATUS_CODE    0\n",
       "INCOME_DESC            0\n",
       "HOMEOWNER_DESC         0\n",
       "HH_COMP_DESC           0\n",
       "HOUSEHOLD_SIZE_DESC    0\n",
       "KID_CATEGORY_DESC      0\n",
       "HOUSEHOLD_KEY          0\n",
       "dtype: int64"
      ]
     },
     "execution_count": 358,
     "metadata": {},
     "output_type": "execute_result"
    }
   ],
   "source": [
    "demographic_RAW.isnull().sum()"
   ]
  },
  {
   "cell_type": "code",
   "execution_count": 359,
   "id": "c22f0c09-6e0e-4400-a961-f8dff51a68f9",
   "metadata": {},
   "outputs": [
    {
     "data": {
      "text/plain": [
       "HOUSEHOLD_KEY        0\n",
       "BASKET_ID            0\n",
       "DAY                  0\n",
       "PRODUCT_ID           0\n",
       "QUANTITY             0\n",
       "SALES_VALUE          0\n",
       "STORE_ID             0\n",
       "RETAIL_DISC          0\n",
       "TRANS_TIME           0\n",
       "WEEK_NO              0\n",
       "COUPON_DISC          0\n",
       "COUPON_MATCH_DISC    0\n",
       "dtype: int64"
      ]
     },
     "execution_count": 359,
     "metadata": {},
     "output_type": "execute_result"
    }
   ],
   "source": [
    "TRANSACTION_RAW.isnull().sum()"
   ]
  },
  {
   "cell_type": "code",
   "execution_count": 361,
   "id": "4f2fbd13-14bc-4db8-bba2-88b697fd8eca",
   "metadata": {},
   "outputs": [
    {
     "data": {
      "text/plain": [
       "HOUSEHOLD_KEY    0\n",
       "DAY              0\n",
       "COUPON_UPC       0\n",
       "CAMPAIGN         0\n",
       "dtype: int64"
      ]
     },
     "execution_count": 361,
     "metadata": {},
     "output_type": "execute_result"
    }
   ],
   "source": [
    "COUPON_REDEMPT_RAW.isnull().sum()"
   ]
  },
  {
   "cell_type": "code",
   "execution_count": 362,
   "id": "72dabdb8-85a4-4aaa-8c19-ab930a76f058",
   "metadata": {},
   "outputs": [
    {
     "data": {
      "text/plain": [
       "COUPON_UPC    0\n",
       "PRODUCT_ID    0\n",
       "CAMPAIGN      0\n",
       "dtype: int64"
      ]
     },
     "execution_count": 362,
     "metadata": {},
     "output_type": "execute_result"
    }
   ],
   "source": [
    "COUPON_RAW.isnull().sum()"
   ]
  },
  {
   "cell_type": "code",
   "execution_count": 363,
   "id": "3b52f23f-f665-4d35-ab80-bf84e636794d",
   "metadata": {},
   "outputs": [
    {
     "data": {
      "text/plain": [
       "PRODUCT_ID              0\n",
       "MANUFACTURER            0\n",
       "DEPARTMENT              0\n",
       "BRAND                   0\n",
       "COMMODITY_DESC          0\n",
       "SUB_COMMODITY_DESC      0\n",
       "CURR_SIZE_OF_PRODUCT    0\n",
       "dtype: int64"
      ]
     },
     "execution_count": 363,
     "metadata": {},
     "output_type": "execute_result"
    }
   ],
   "source": [
    "PRODUCT_RAW.isnull().sum() ##there is some null values in product table"
   ]
  },
  {
   "cell_type": "code",
   "execution_count": 364,
   "id": "8928d2d5-e3c2-44e0-ad4a-5dcf3790ed02",
   "metadata": {},
   "outputs": [
    {
     "data": {
      "text/plain": [
       "DESCRIPTION      0\n",
       "HOUSEHOLD_KEY    0\n",
       "CAMPAIGN         0\n",
       "dtype: int64"
      ]
     },
     "execution_count": 364,
     "metadata": {},
     "output_type": "execute_result"
    }
   ],
   "source": [
    "CAMPAIGN_RAW.isnull().sum()"
   ]
  },
  {
   "cell_type": "code",
   "execution_count": 365,
   "id": "2af41100-2d63-44fe-b5b7-b5685a4d82e6",
   "metadata": {},
   "outputs": [
    {
     "data": {
      "text/plain": [
       "DESCRIPTION    0\n",
       "CAMPAIGN       0\n",
       "START_DAY      0\n",
       "END_DAY        0\n",
       "dtype: int64"
      ]
     },
     "execution_count": 365,
     "metadata": {},
     "output_type": "execute_result"
    }
   ],
   "source": [
    "CAMPAIGN_DESC_RAW.isnull().sum()"
   ]
  },
  {
   "cell_type": "code",
   "execution_count": null,
   "id": "47206daf-6e9a-4e8a-8705-fbd2a0ecfff6",
   "metadata": {},
   "outputs": [],
   "source": [
    "**Data Modifications**"
   ]
  },
  {
   "cell_type": "code",
   "execution_count": null,
   "id": "d6c226a4-e927-4c3b-b7b0-db76cd5bfb4f",
   "metadata": {},
   "outputs": [],
   "source": [
    "**date coversation using datetime function**"
   ]
  },
  {
   "cell_type": "code",
   "execution_count": 368,
   "id": "a8122ae4-ee70-462c-b145-edb74c17378f",
   "metadata": {},
   "outputs": [],
   "source": [
    "from datetime import datetime,timedelta"
   ]
  },
  {
   "cell_type": "code",
   "execution_count": 369,
   "id": "0c58bc3c-8f56-4ea2-a640-2a99c5d9c00f",
   "metadata": {},
   "outputs": [],
   "source": [
    "start_date = pd.to_datetime('2022-01-01')"
   ]
  },
  {
   "cell_type": "code",
   "execution_count": 370,
   "id": "3eb26775-b95d-420b-af67-fc654a9a0d8f",
   "metadata": {},
   "outputs": [],
   "source": [
    "TRANSACTION_RAW['Date'] = start_date + pd.to_timedelta(TRANSACTION_RAW['DAY'],unit='D')"
   ]
  },
  {
   "cell_type": "code",
   "execution_count": 371,
   "id": "bea9f54a-5347-424d-9a72-6138aac04105",
   "metadata": {},
   "outputs": [
    {
     "data": {
      "text/html": [
       "<div>\n",
       "<style scoped>\n",
       "    .dataframe tbody tr th:only-of-type {\n",
       "        vertical-align: middle;\n",
       "    }\n",
       "\n",
       "    .dataframe tbody tr th {\n",
       "        vertical-align: top;\n",
       "    }\n",
       "\n",
       "    .dataframe thead th {\n",
       "        text-align: right;\n",
       "    }\n",
       "</style>\n",
       "<table border=\"1\" class=\"dataframe\">\n",
       "  <thead>\n",
       "    <tr style=\"text-align: right;\">\n",
       "      <th></th>\n",
       "      <th>HOUSEHOLD_KEY</th>\n",
       "      <th>BASKET_ID</th>\n",
       "      <th>DAY</th>\n",
       "      <th>PRODUCT_ID</th>\n",
       "      <th>QUANTITY</th>\n",
       "      <th>SALES_VALUE</th>\n",
       "      <th>STORE_ID</th>\n",
       "      <th>RETAIL_DISC</th>\n",
       "      <th>TRANS_TIME</th>\n",
       "      <th>WEEK_NO</th>\n",
       "      <th>COUPON_DISC</th>\n",
       "      <th>COUPON_MATCH_DISC</th>\n",
       "      <th>Date</th>\n",
       "    </tr>\n",
       "  </thead>\n",
       "  <tbody>\n",
       "    <tr>\n",
       "      <th>0</th>\n",
       "      <td>2375</td>\n",
       "      <td>26984851472</td>\n",
       "      <td>1</td>\n",
       "      <td>1004906</td>\n",
       "      <td>1</td>\n",
       "      <td>1.39</td>\n",
       "      <td>364</td>\n",
       "      <td>-0.60</td>\n",
       "      <td>1631</td>\n",
       "      <td>1</td>\n",
       "      <td>0</td>\n",
       "      <td>0</td>\n",
       "      <td>2022-01-02</td>\n",
       "    </tr>\n",
       "    <tr>\n",
       "      <th>1</th>\n",
       "      <td>2375</td>\n",
       "      <td>26984851472</td>\n",
       "      <td>1</td>\n",
       "      <td>1033142</td>\n",
       "      <td>1</td>\n",
       "      <td>0.82</td>\n",
       "      <td>364</td>\n",
       "      <td>0.00</td>\n",
       "      <td>1631</td>\n",
       "      <td>1</td>\n",
       "      <td>0</td>\n",
       "      <td>0</td>\n",
       "      <td>2022-01-02</td>\n",
       "    </tr>\n",
       "    <tr>\n",
       "      <th>2</th>\n",
       "      <td>2375</td>\n",
       "      <td>26984851472</td>\n",
       "      <td>1</td>\n",
       "      <td>1036325</td>\n",
       "      <td>1</td>\n",
       "      <td>0.99</td>\n",
       "      <td>364</td>\n",
       "      <td>-0.30</td>\n",
       "      <td>1631</td>\n",
       "      <td>1</td>\n",
       "      <td>0</td>\n",
       "      <td>0</td>\n",
       "      <td>2022-01-02</td>\n",
       "    </tr>\n",
       "    <tr>\n",
       "      <th>3</th>\n",
       "      <td>2375</td>\n",
       "      <td>26984851472</td>\n",
       "      <td>1</td>\n",
       "      <td>1082185</td>\n",
       "      <td>1</td>\n",
       "      <td>1.21</td>\n",
       "      <td>364</td>\n",
       "      <td>0.00</td>\n",
       "      <td>1631</td>\n",
       "      <td>1</td>\n",
       "      <td>0</td>\n",
       "      <td>0</td>\n",
       "      <td>2022-01-02</td>\n",
       "    </tr>\n",
       "    <tr>\n",
       "      <th>4</th>\n",
       "      <td>2375</td>\n",
       "      <td>26984851472</td>\n",
       "      <td>1</td>\n",
       "      <td>8160430</td>\n",
       "      <td>1</td>\n",
       "      <td>1.50</td>\n",
       "      <td>364</td>\n",
       "      <td>-0.39</td>\n",
       "      <td>1631</td>\n",
       "      <td>1</td>\n",
       "      <td>0</td>\n",
       "      <td>0</td>\n",
       "      <td>2022-01-02</td>\n",
       "    </tr>\n",
       "  </tbody>\n",
       "</table>\n",
       "</div>"
      ],
      "text/plain": [
       "   HOUSEHOLD_KEY    BASKET_ID  DAY  PRODUCT_ID  QUANTITY  SALES_VALUE  \\\n",
       "0           2375  26984851472    1     1004906         1         1.39   \n",
       "1           2375  26984851472    1     1033142         1         0.82   \n",
       "2           2375  26984851472    1     1036325         1         0.99   \n",
       "3           2375  26984851472    1     1082185         1         1.21   \n",
       "4           2375  26984851472    1     8160430         1         1.50   \n",
       "\n",
       "   STORE_ID  RETAIL_DISC  TRANS_TIME  WEEK_NO  COUPON_DISC  COUPON_MATCH_DISC  \\\n",
       "0       364        -0.60        1631        1            0                  0   \n",
       "1       364         0.00        1631        1            0                  0   \n",
       "2       364        -0.30        1631        1            0                  0   \n",
       "3       364         0.00        1631        1            0                  0   \n",
       "4       364        -0.39        1631        1            0                  0   \n",
       "\n",
       "        Date  \n",
       "0 2022-01-02  \n",
       "1 2022-01-02  \n",
       "2 2022-01-02  \n",
       "3 2022-01-02  \n",
       "4 2022-01-02  "
      ]
     },
     "execution_count": 371,
     "metadata": {},
     "output_type": "execute_result"
    }
   ],
   "source": [
    "TRANSACTION_RAW.head(5)"
   ]
  },
  {
   "cell_type": "code",
   "execution_count": 372,
   "id": "8489ed45-c0b4-45b9-bd21-ca9061e2f9f0",
   "metadata": {},
   "outputs": [],
   "source": [
    "CAMPAIGN_DESC_RAW['START_DATE'] = start_date + pd.to_timedelta(CAMPAIGN_DESC_RAW['START_DAY'],unit='D')"
   ]
  },
  {
   "cell_type": "code",
   "execution_count": 373,
   "id": "c109deae-93c9-4ac6-be81-d5594c49353c",
   "metadata": {},
   "outputs": [],
   "source": [
    "CAMPAIGN_DESC_RAW['END_DATE'] = start_date + pd.to_timedelta(CAMPAIGN_DESC_RAW['END_DAY'],unit='D')"
   ]
  },
  {
   "cell_type": "code",
   "execution_count": 374,
   "id": "5428a0f5-d8aa-4e9e-8e77-cbd952d0cbd2",
   "metadata": {},
   "outputs": [],
   "source": [
    "CAMPAIGN_DESC_RAW['Campaign_Duration'] = CAMPAIGN_DESC_RAW['END_DAY'] - CAMPAIGN_DESC_RAW['START_DAY']"
   ]
  },
  {
   "cell_type": "code",
   "execution_count": 375,
   "id": "c99c287b-d3b7-4e92-90cb-b10f369a9dda",
   "metadata": {},
   "outputs": [
    {
     "data": {
      "text/html": [
       "<div>\n",
       "<style scoped>\n",
       "    .dataframe tbody tr th:only-of-type {\n",
       "        vertical-align: middle;\n",
       "    }\n",
       "\n",
       "    .dataframe tbody tr th {\n",
       "        vertical-align: top;\n",
       "    }\n",
       "\n",
       "    .dataframe thead th {\n",
       "        text-align: right;\n",
       "    }\n",
       "</style>\n",
       "<table border=\"1\" class=\"dataframe\">\n",
       "  <thead>\n",
       "    <tr style=\"text-align: right;\">\n",
       "      <th></th>\n",
       "      <th>DESCRIPTION</th>\n",
       "      <th>CAMPAIGN</th>\n",
       "      <th>START_DAY</th>\n",
       "      <th>END_DAY</th>\n",
       "      <th>START_DATE</th>\n",
       "      <th>END_DATE</th>\n",
       "      <th>Campaign_Duration</th>\n",
       "    </tr>\n",
       "  </thead>\n",
       "  <tbody>\n",
       "    <tr>\n",
       "      <th>0</th>\n",
       "      <td>TypeB</td>\n",
       "      <td>24</td>\n",
       "      <td>659</td>\n",
       "      <td>719</td>\n",
       "      <td>2023-10-22</td>\n",
       "      <td>2023-12-21</td>\n",
       "      <td>60</td>\n",
       "    </tr>\n",
       "    <tr>\n",
       "      <th>1</th>\n",
       "      <td>TypeC</td>\n",
       "      <td>15</td>\n",
       "      <td>547</td>\n",
       "      <td>708</td>\n",
       "      <td>2023-07-02</td>\n",
       "      <td>2023-12-10</td>\n",
       "      <td>161</td>\n",
       "    </tr>\n",
       "    <tr>\n",
       "      <th>2</th>\n",
       "      <td>TypeB</td>\n",
       "      <td>25</td>\n",
       "      <td>659</td>\n",
       "      <td>691</td>\n",
       "      <td>2023-10-22</td>\n",
       "      <td>2023-11-23</td>\n",
       "      <td>32</td>\n",
       "    </tr>\n",
       "    <tr>\n",
       "      <th>3</th>\n",
       "      <td>TypeC</td>\n",
       "      <td>20</td>\n",
       "      <td>615</td>\n",
       "      <td>685</td>\n",
       "      <td>2023-09-08</td>\n",
       "      <td>2023-11-17</td>\n",
       "      <td>70</td>\n",
       "    </tr>\n",
       "    <tr>\n",
       "      <th>4</th>\n",
       "      <td>TypeB</td>\n",
       "      <td>23</td>\n",
       "      <td>646</td>\n",
       "      <td>684</td>\n",
       "      <td>2023-10-09</td>\n",
       "      <td>2023-11-16</td>\n",
       "      <td>38</td>\n",
       "    </tr>\n",
       "    <tr>\n",
       "      <th>5</th>\n",
       "      <td>TypeB</td>\n",
       "      <td>21</td>\n",
       "      <td>624</td>\n",
       "      <td>656</td>\n",
       "      <td>2023-09-17</td>\n",
       "      <td>2023-10-19</td>\n",
       "      <td>32</td>\n",
       "    </tr>\n",
       "    <tr>\n",
       "      <th>6</th>\n",
       "      <td>TypeB</td>\n",
       "      <td>22</td>\n",
       "      <td>624</td>\n",
       "      <td>656</td>\n",
       "      <td>2023-09-17</td>\n",
       "      <td>2023-10-19</td>\n",
       "      <td>32</td>\n",
       "    </tr>\n",
       "    <tr>\n",
       "      <th>7</th>\n",
       "      <td>TypeA</td>\n",
       "      <td>18</td>\n",
       "      <td>587</td>\n",
       "      <td>642</td>\n",
       "      <td>2023-08-11</td>\n",
       "      <td>2023-10-05</td>\n",
       "      <td>55</td>\n",
       "    </tr>\n",
       "    <tr>\n",
       "      <th>8</th>\n",
       "      <td>TypeB</td>\n",
       "      <td>19</td>\n",
       "      <td>603</td>\n",
       "      <td>635</td>\n",
       "      <td>2023-08-27</td>\n",
       "      <td>2023-09-28</td>\n",
       "      <td>32</td>\n",
       "    </tr>\n",
       "    <tr>\n",
       "      <th>9</th>\n",
       "      <td>TypeB</td>\n",
       "      <td>17</td>\n",
       "      <td>575</td>\n",
       "      <td>607</td>\n",
       "      <td>2023-07-30</td>\n",
       "      <td>2023-08-31</td>\n",
       "      <td>32</td>\n",
       "    </tr>\n",
       "  </tbody>\n",
       "</table>\n",
       "</div>"
      ],
      "text/plain": [
       "  DESCRIPTION  CAMPAIGN  START_DAY  END_DAY START_DATE   END_DATE  \\\n",
       "0       TypeB        24        659      719 2023-10-22 2023-12-21   \n",
       "1       TypeC        15        547      708 2023-07-02 2023-12-10   \n",
       "2       TypeB        25        659      691 2023-10-22 2023-11-23   \n",
       "3       TypeC        20        615      685 2023-09-08 2023-11-17   \n",
       "4       TypeB        23        646      684 2023-10-09 2023-11-16   \n",
       "5       TypeB        21        624      656 2023-09-17 2023-10-19   \n",
       "6       TypeB        22        624      656 2023-09-17 2023-10-19   \n",
       "7       TypeA        18        587      642 2023-08-11 2023-10-05   \n",
       "8       TypeB        19        603      635 2023-08-27 2023-09-28   \n",
       "9       TypeB        17        575      607 2023-07-30 2023-08-31   \n",
       "\n",
       "   Campaign_Duration  \n",
       "0                 60  \n",
       "1                161  \n",
       "2                 32  \n",
       "3                 70  \n",
       "4                 38  \n",
       "5                 32  \n",
       "6                 32  \n",
       "7                 55  \n",
       "8                 32  \n",
       "9                 32  "
      ]
     },
     "execution_count": 375,
     "metadata": {},
     "output_type": "execute_result"
    }
   ],
   "source": [
    "CAMPAIGN_DESC_RAW.head(10)"
   ]
  },
  {
   "cell_type": "code",
   "execution_count": 376,
   "id": "0277cfb8-8bba-4c70-9432-c9590e2799c6",
   "metadata": {},
   "outputs": [],
   "source": [
    "COUPON_REDEMPT_RAW['Date'] = start_date + pd.to_timedelta(COUPON_REDEMPT_RAW['DAY'],unit='D')"
   ]
  },
  {
   "cell_type": "code",
   "execution_count": 377,
   "id": "a29287a7-1b31-4eb0-a8fb-c52b8c7b6390",
   "metadata": {},
   "outputs": [
    {
     "data": {
      "text/html": [
       "<div>\n",
       "<style scoped>\n",
       "    .dataframe tbody tr th:only-of-type {\n",
       "        vertical-align: middle;\n",
       "    }\n",
       "\n",
       "    .dataframe tbody tr th {\n",
       "        vertical-align: top;\n",
       "    }\n",
       "\n",
       "    .dataframe thead th {\n",
       "        text-align: right;\n",
       "    }\n",
       "</style>\n",
       "<table border=\"1\" class=\"dataframe\">\n",
       "  <thead>\n",
       "    <tr style=\"text-align: right;\">\n",
       "      <th></th>\n",
       "      <th>HOUSEHOLD_KEY</th>\n",
       "      <th>DAY</th>\n",
       "      <th>COUPON_UPC</th>\n",
       "      <th>CAMPAIGN</th>\n",
       "      <th>Date</th>\n",
       "    </tr>\n",
       "  </thead>\n",
       "  <tbody>\n",
       "    <tr>\n",
       "      <th>0</th>\n",
       "      <td>1</td>\n",
       "      <td>421</td>\n",
       "      <td>10000085364</td>\n",
       "      <td>8</td>\n",
       "      <td>2023-02-26</td>\n",
       "    </tr>\n",
       "    <tr>\n",
       "      <th>1</th>\n",
       "      <td>1</td>\n",
       "      <td>421</td>\n",
       "      <td>51700010076</td>\n",
       "      <td>8</td>\n",
       "      <td>2023-02-26</td>\n",
       "    </tr>\n",
       "    <tr>\n",
       "      <th>2</th>\n",
       "      <td>1</td>\n",
       "      <td>427</td>\n",
       "      <td>54200000033</td>\n",
       "      <td>8</td>\n",
       "      <td>2023-03-04</td>\n",
       "    </tr>\n",
       "    <tr>\n",
       "      <th>3</th>\n",
       "      <td>1</td>\n",
       "      <td>597</td>\n",
       "      <td>10000085476</td>\n",
       "      <td>18</td>\n",
       "      <td>2023-08-21</td>\n",
       "    </tr>\n",
       "    <tr>\n",
       "      <th>4</th>\n",
       "      <td>1</td>\n",
       "      <td>597</td>\n",
       "      <td>54200029176</td>\n",
       "      <td>18</td>\n",
       "      <td>2023-08-21</td>\n",
       "    </tr>\n",
       "    <tr>\n",
       "      <th>5</th>\n",
       "      <td>8</td>\n",
       "      <td>422</td>\n",
       "      <td>53600000078</td>\n",
       "      <td>8</td>\n",
       "      <td>2023-02-27</td>\n",
       "    </tr>\n",
       "    <tr>\n",
       "      <th>6</th>\n",
       "      <td>13</td>\n",
       "      <td>396</td>\n",
       "      <td>53700048182</td>\n",
       "      <td>5</td>\n",
       "      <td>2023-02-01</td>\n",
       "    </tr>\n",
       "    <tr>\n",
       "      <th>7</th>\n",
       "      <td>13</td>\n",
       "      <td>424</td>\n",
       "      <td>10000085364</td>\n",
       "      <td>8</td>\n",
       "      <td>2023-03-01</td>\n",
       "    </tr>\n",
       "    <tr>\n",
       "      <th>8</th>\n",
       "      <td>13</td>\n",
       "      <td>434</td>\n",
       "      <td>53600000078</td>\n",
       "      <td>8</td>\n",
       "      <td>2023-03-11</td>\n",
       "    </tr>\n",
       "    <tr>\n",
       "      <th>9</th>\n",
       "      <td>13</td>\n",
       "      <td>447</td>\n",
       "      <td>52370020076</td>\n",
       "      <td>8</td>\n",
       "      <td>2023-03-24</td>\n",
       "    </tr>\n",
       "  </tbody>\n",
       "</table>\n",
       "</div>"
      ],
      "text/plain": [
       "   HOUSEHOLD_KEY  DAY   COUPON_UPC  CAMPAIGN       Date\n",
       "0              1  421  10000085364         8 2023-02-26\n",
       "1              1  421  51700010076         8 2023-02-26\n",
       "2              1  427  54200000033         8 2023-03-04\n",
       "3              1  597  10000085476        18 2023-08-21\n",
       "4              1  597  54200029176        18 2023-08-21\n",
       "5              8  422  53600000078         8 2023-02-27\n",
       "6             13  396  53700048182         5 2023-02-01\n",
       "7             13  424  10000085364         8 2023-03-01\n",
       "8             13  434  53600000078         8 2023-03-11\n",
       "9             13  447  52370020076         8 2023-03-24"
      ]
     },
     "execution_count": 377,
     "metadata": {},
     "output_type": "execute_result"
    }
   ],
   "source": [
    "COUPON_REDEMPT_RAW.head(10)"
   ]
  },
  {
   "cell_type": "code",
   "execution_count": 378,
   "id": "da4bbb6c-f606-41d0-b1b5-2419e26d8f51",
   "metadata": {},
   "outputs": [
    {
     "data": {
      "text/plain": [
       "Timestamp('2022-06-26 00:00:00')"
      ]
     },
     "execution_count": 378,
     "metadata": {},
     "output_type": "execute_result"
    }
   ],
   "source": [
    "TRANSACTION_RAW['Date'].max()"
   ]
  },
  {
   "cell_type": "code",
   "execution_count": 379,
   "id": "238feca5-ff91-4da9-b198-f28c29e9b0c8",
   "metadata": {},
   "outputs": [
    {
     "data": {
      "text/plain": [
       "Timestamp('2023-12-06 00:00:00')"
      ]
     },
     "execution_count": 379,
     "metadata": {},
     "output_type": "execute_result"
    }
   ],
   "source": [
    "COUPON_REDEMPT_RAW['Date'].max()"
   ]
  },
  {
   "cell_type": "code",
   "execution_count": 380,
   "id": "de2b059d-719d-4afa-85e1-4a07da33c2bf",
   "metadata": {},
   "outputs": [
    {
     "data": {
      "text/plain": [
       "Timestamp('2023-12-21 00:00:00')"
      ]
     },
     "execution_count": 380,
     "metadata": {},
     "output_type": "execute_result"
    }
   ],
   "source": [
    "CAMPAIGN_DESC_RAW['END_DATE'].max()"
   ]
  },
  {
   "cell_type": "code",
   "execution_count": null,
   "id": "ac2d9ff2-c7e8-4f56-909e-e2afbfb0c375",
   "metadata": {},
   "outputs": [],
   "source": [
    "**Understanding the data**"
   ]
  },
  {
   "cell_type": "code",
   "execution_count": 382,
   "id": "d1d99aba-9b68-4c72-8e0f-c1681134998f",
   "metadata": {},
   "outputs": [
    {
     "data": {
      "text/html": [
       "<div>\n",
       "<style scoped>\n",
       "    .dataframe tbody tr th:only-of-type {\n",
       "        vertical-align: middle;\n",
       "    }\n",
       "\n",
       "    .dataframe tbody tr th {\n",
       "        vertical-align: top;\n",
       "    }\n",
       "\n",
       "    .dataframe thead th {\n",
       "        text-align: right;\n",
       "    }\n",
       "</style>\n",
       "<table border=\"1\" class=\"dataframe\">\n",
       "  <thead>\n",
       "    <tr style=\"text-align: right;\">\n",
       "      <th></th>\n",
       "      <th>AGE_DESC</th>\n",
       "      <th>MARITAL_STATUS_CODE</th>\n",
       "      <th>INCOME_DESC</th>\n",
       "      <th>HOMEOWNER_DESC</th>\n",
       "      <th>HH_COMP_DESC</th>\n",
       "      <th>HOUSEHOLD_SIZE_DESC</th>\n",
       "      <th>KID_CATEGORY_DESC</th>\n",
       "      <th>HOUSEHOLD_KEY</th>\n",
       "    </tr>\n",
       "  </thead>\n",
       "  <tbody>\n",
       "    <tr>\n",
       "      <th>0</th>\n",
       "      <td>65+</td>\n",
       "      <td>A</td>\n",
       "      <td>35-49K</td>\n",
       "      <td>Homeowner</td>\n",
       "      <td>2 Adults No Kids</td>\n",
       "      <td>2</td>\n",
       "      <td>None/Unknown</td>\n",
       "      <td>1</td>\n",
       "    </tr>\n",
       "    <tr>\n",
       "      <th>1</th>\n",
       "      <td>45-54</td>\n",
       "      <td>A</td>\n",
       "      <td>50-74K</td>\n",
       "      <td>Homeowner</td>\n",
       "      <td>2 Adults No Kids</td>\n",
       "      <td>2</td>\n",
       "      <td>None/Unknown</td>\n",
       "      <td>7</td>\n",
       "    </tr>\n",
       "  </tbody>\n",
       "</table>\n",
       "</div>"
      ],
      "text/plain": [
       "  AGE_DESC MARITAL_STATUS_CODE INCOME_DESC HOMEOWNER_DESC      HH_COMP_DESC  \\\n",
       "0      65+                   A      35-49K      Homeowner  2 Adults No Kids   \n",
       "1    45-54                   A      50-74K      Homeowner  2 Adults No Kids   \n",
       "\n",
       "  HOUSEHOLD_SIZE_DESC KID_CATEGORY_DESC  HOUSEHOLD_KEY  \n",
       "0                   2      None/Unknown              1  \n",
       "1                   2      None/Unknown              7  "
      ]
     },
     "execution_count": 382,
     "metadata": {},
     "output_type": "execute_result"
    }
   ],
   "source": [
    "demographic_RAW.head(2)"
   ]
  },
  {
   "cell_type": "code",
   "execution_count": 383,
   "id": "d5d3c189-b29f-443a-b124-516877465da8",
   "metadata": {},
   "outputs": [
    {
     "data": {
      "text/plain": [
       "(2500, 8)"
      ]
     },
     "execution_count": 383,
     "metadata": {},
     "output_type": "execute_result"
    }
   ],
   "source": [
    "demographic_RAW.shape"
   ]
  },
  {
   "cell_type": "code",
   "execution_count": 384,
   "id": "f1be69f3-be00-41b0-bb8b-0cbb8dea0238",
   "metadata": {},
   "outputs": [
    {
     "data": {
      "text/plain": [
       "Index(['AGE_DESC', 'MARITAL_STATUS_CODE', 'INCOME_DESC', 'HOMEOWNER_DESC',\n",
       "       'HH_COMP_DESC', 'HOUSEHOLD_SIZE_DESC', 'KID_CATEGORY_DESC',\n",
       "       'HOUSEHOLD_KEY'],\n",
       "      dtype='object')"
      ]
     },
     "execution_count": 384,
     "metadata": {},
     "output_type": "execute_result"
    }
   ],
   "source": [
    "demographic_RAW.columns"
   ]
  },
  {
   "cell_type": "code",
   "execution_count": 385,
   "id": "7577c7c0-00f8-4fc8-aa67-7d5571c51682",
   "metadata": {},
   "outputs": [
    {
     "data": {
      "text/plain": [
       "AGE_DESC               object\n",
       "MARITAL_STATUS_CODE    object\n",
       "INCOME_DESC            object\n",
       "HOMEOWNER_DESC         object\n",
       "HH_COMP_DESC           object\n",
       "HOUSEHOLD_SIZE_DESC    object\n",
       "KID_CATEGORY_DESC      object\n",
       "HOUSEHOLD_KEY           int16\n",
       "dtype: object"
      ]
     },
     "execution_count": 385,
     "metadata": {},
     "output_type": "execute_result"
    }
   ],
   "source": [
    "demographic_RAW.dtypes"
   ]
  },
  {
   "cell_type": "code",
   "execution_count": 386,
   "id": "e48251d8-051d-4c3a-9fbc-c23d15a75943",
   "metadata": {},
   "outputs": [
    {
     "data": {
      "text/plain": [
       "AGE_DESC               0\n",
       "MARITAL_STATUS_CODE    0\n",
       "INCOME_DESC            0\n",
       "HOMEOWNER_DESC         0\n",
       "HH_COMP_DESC           0\n",
       "HOUSEHOLD_SIZE_DESC    0\n",
       "KID_CATEGORY_DESC      0\n",
       "HOUSEHOLD_KEY          0\n",
       "dtype: int64"
      ]
     },
     "execution_count": 386,
     "metadata": {},
     "output_type": "execute_result"
    }
   ],
   "source": [
    "demographic_RAW.isnull().sum()"
   ]
  },
  {
   "cell_type": "code",
   "execution_count": 387,
   "id": "ed8ca8ee-fce5-4864-8fc0-15f385ce0f65",
   "metadata": {},
   "outputs": [
    {
     "data": {
      "text/plain": [
       "AGE_DESC\n",
       "45-54    901\n",
       "35-44    594\n",
       "25-34    445\n",
       "65+      230\n",
       "55-64    187\n",
       "19-24    143\n",
       "Name: count, dtype: int64"
      ]
     },
     "execution_count": 387,
     "metadata": {},
     "output_type": "execute_result"
    }
   ],
   "source": [
    "demographic_RAW['AGE_DESC'].value_counts()"
   ]
  },
  {
   "cell_type": "code",
   "execution_count": 388,
   "id": "53d6349b-593c-4a18-95ad-1594561b6515",
   "metadata": {},
   "outputs": [
    {
     "data": {
      "text/plain": [
       "HOUSEHOLD_SIZE_DESC\n",
       "2     1004\n",
       "1      783\n",
       "3      338\n",
       "5+     206\n",
       "4      169\n",
       "Name: count, dtype: int64"
      ]
     },
     "execution_count": 388,
     "metadata": {},
     "output_type": "execute_result"
    }
   ],
   "source": [
    "demographic_RAW['HOUSEHOLD_SIZE_DESC'].value_counts()"
   ]
  },
  {
   "cell_type": "code",
   "execution_count": 389,
   "id": "60327833-2ee8-4143-9e4e-f908d1edd505",
   "metadata": {},
   "outputs": [
    {
     "data": {
      "text/html": [
       "<div>\n",
       "<style scoped>\n",
       "    .dataframe tbody tr th:only-of-type {\n",
       "        vertical-align: middle;\n",
       "    }\n",
       "\n",
       "    .dataframe tbody tr th {\n",
       "        vertical-align: top;\n",
       "    }\n",
       "\n",
       "    .dataframe thead th {\n",
       "        text-align: right;\n",
       "    }\n",
       "</style>\n",
       "<table border=\"1\" class=\"dataframe\">\n",
       "  <thead>\n",
       "    <tr style=\"text-align: right;\">\n",
       "      <th></th>\n",
       "      <th>DESCRIPTION</th>\n",
       "      <th>CAMPAIGN</th>\n",
       "      <th>START_DAY</th>\n",
       "      <th>END_DAY</th>\n",
       "      <th>START_DATE</th>\n",
       "      <th>END_DATE</th>\n",
       "      <th>Campaign_Duration</th>\n",
       "    </tr>\n",
       "  </thead>\n",
       "  <tbody>\n",
       "    <tr>\n",
       "      <th>0</th>\n",
       "      <td>TypeB</td>\n",
       "      <td>24</td>\n",
       "      <td>659</td>\n",
       "      <td>719</td>\n",
       "      <td>2023-10-22</td>\n",
       "      <td>2023-12-21</td>\n",
       "      <td>60</td>\n",
       "    </tr>\n",
       "    <tr>\n",
       "      <th>1</th>\n",
       "      <td>TypeC</td>\n",
       "      <td>15</td>\n",
       "      <td>547</td>\n",
       "      <td>708</td>\n",
       "      <td>2023-07-02</td>\n",
       "      <td>2023-12-10</td>\n",
       "      <td>161</td>\n",
       "    </tr>\n",
       "  </tbody>\n",
       "</table>\n",
       "</div>"
      ],
      "text/plain": [
       "  DESCRIPTION  CAMPAIGN  START_DAY  END_DAY START_DATE   END_DATE  \\\n",
       "0       TypeB        24        659      719 2023-10-22 2023-12-21   \n",
       "1       TypeC        15        547      708 2023-07-02 2023-12-10   \n",
       "\n",
       "   Campaign_Duration  \n",
       "0                 60  \n",
       "1                161  "
      ]
     },
     "execution_count": 389,
     "metadata": {},
     "output_type": "execute_result"
    }
   ],
   "source": [
    "CAMPAIGN_DESC_RAW.head(2)"
   ]
  },
  {
   "cell_type": "code",
   "execution_count": 390,
   "id": "8a437080-bdb8-46a8-a7cd-7d929c1e3dab",
   "metadata": {},
   "outputs": [
    {
     "data": {
      "text/plain": [
       "(30, 7)"
      ]
     },
     "execution_count": 390,
     "metadata": {},
     "output_type": "execute_result"
    }
   ],
   "source": [
    "CAMPAIGN_DESC_RAW.shape"
   ]
  },
  {
   "cell_type": "code",
   "execution_count": 391,
   "id": "7946cbca-69ba-424b-b2cf-748328b26c52",
   "metadata": {},
   "outputs": [
    {
     "data": {
      "text/plain": [
       "Index(['DESCRIPTION', 'CAMPAIGN', 'START_DAY', 'END_DAY', 'START_DATE',\n",
       "       'END_DATE', 'Campaign_Duration'],\n",
       "      dtype='object')"
      ]
     },
     "execution_count": 391,
     "metadata": {},
     "output_type": "execute_result"
    }
   ],
   "source": [
    "CAMPAIGN_DESC_RAW.columns"
   ]
  },
  {
   "cell_type": "code",
   "execution_count": 392,
   "id": "ddff4f73-6d80-4987-9da4-f643920a6f2d",
   "metadata": {},
   "outputs": [
    {
     "data": {
      "text/plain": [
       "np.float64(46.6)"
      ]
     },
     "execution_count": 392,
     "metadata": {},
     "output_type": "execute_result"
    }
   ],
   "source": [
    "CAMPAIGN_DESC_RAW['Campaign_Duration'].mean()"
   ]
  },
  {
   "cell_type": "code",
   "execution_count": 393,
   "id": "d3198c90-18c4-4735-80ce-c45f8a2f836b",
   "metadata": {},
   "outputs": [
    {
     "data": {
      "text/plain": [
       "<Axes: xlabel='CAMPAIGN', ylabel='Campaign_Duration'>"
      ]
     },
     "execution_count": 393,
     "metadata": {},
     "output_type": "execute_result"
    },
    {
     "data": {
      "image/png": "[encoded data removed]",
      "text/plain": [
       "<Figure size 1500x500 with 1 Axes>"
      ]
     },
     "metadata": {},
     "output_type": "display_data"
    }
   ],
   "source": [
    "plt.figure(figsize=(15,5))\n",
    "sns.barplot(x='CAMPAIGN',y='Campaign_Duration',data=CAMPAIGN_DESC_RAW)"
   ]
  },
  {
   "cell_type": "code",
   "execution_count": 208,
   "id": "338b8bc7-43c7-449c-af08-f7bcd88e6007",
   "metadata": {},
   "outputs": [],
   "source": [
    "**Campagin 15 last more than 160 days.**"
   ]
  },
  {
   "cell_type": "code",
   "execution_count": 394,
   "id": "bc2ebae3-f37d-4dc3-973b-2b86f49291c8",
   "metadata": {},
   "outputs": [
    {
     "data": {
      "text/html": [
       "<div>\n",
       "<style scoped>\n",
       "    .dataframe tbody tr th:only-of-type {\n",
       "        vertical-align: middle;\n",
       "    }\n",
       "\n",
       "    .dataframe tbody tr th {\n",
       "        vertical-align: top;\n",
       "    }\n",
       "\n",
       "    .dataframe thead th {\n",
       "        text-align: right;\n",
       "    }\n",
       "</style>\n",
       "<table border=\"1\" class=\"dataframe\">\n",
       "  <thead>\n",
       "    <tr style=\"text-align: right;\">\n",
       "      <th></th>\n",
       "      <th>CAMPAIGN</th>\n",
       "      <th>Campaign_Duration</th>\n",
       "    </tr>\n",
       "    <tr>\n",
       "      <th>DESCRIPTION</th>\n",
       "      <th></th>\n",
       "      <th></th>\n",
       "    </tr>\n",
       "  </thead>\n",
       "  <tbody>\n",
       "    <tr>\n",
       "      <th>TypeA</th>\n",
       "      <td>5</td>\n",
       "      <td>47.200000</td>\n",
       "    </tr>\n",
       "    <tr>\n",
       "      <th>TypeB</th>\n",
       "      <td>19</td>\n",
       "      <td>37.631579</td>\n",
       "    </tr>\n",
       "    <tr>\n",
       "      <th>TypeC</th>\n",
       "      <td>6</td>\n",
       "      <td>74.500000</td>\n",
       "    </tr>\n",
       "  </tbody>\n",
       "</table>\n",
       "</div>"
      ],
      "text/plain": [
       "             CAMPAIGN  Campaign_Duration\n",
       "DESCRIPTION                             \n",
       "TypeA               5          47.200000\n",
       "TypeB              19          37.631579\n",
       "TypeC               6          74.500000"
      ]
     },
     "execution_count": 394,
     "metadata": {},
     "output_type": "execute_result"
    }
   ],
   "source": [
    "CAMPAIGN_DESC_RAW.groupby('DESCRIPTION').aggregate({'CAMPAIGN':'count','Campaign_Duration':'mean'})"
   ]
  },
  {
   "cell_type": "code",
   "execution_count": null,
   "id": "b75536b3-f554-4162-bdc7-1fe352052ec8",
   "metadata": {},
   "outputs": [],
   "source": [
    "**They have 19 type B campagin,whose average length was 38 days. In comparison,there has been 6 type C campagin of 75 days on average.**"
   ]
  },
  {
   "cell_type": "code",
   "execution_count": 396,
   "id": "9870420b-176f-4820-a896-95b7dd2df58b",
   "metadata": {},
   "outputs": [],
   "source": [
    "CAMPAIGN_DESC_RAW['Start_Month'] = CAMPAIGN_DESC_RAW['START_DATE'].dt.strftime('%m')"
   ]
  },
  {
   "cell_type": "code",
   "execution_count": 397,
   "id": "44c0a008-6c1b-4f62-a08e-b7999e849e53",
   "metadata": {},
   "outputs": [],
   "source": [
    "CAMPAIGN_DESC_RAW['End_Month'] = CAMPAIGN_DESC_RAW['END_DATE'].dt.strftime('%m')"
   ]
  },
  {
   "cell_type": "code",
   "execution_count": 398,
   "id": "15f6668b-a222-431a-bf55-d5142104b138",
   "metadata": {},
   "outputs": [],
   "source": [
    "CAMPAIGN_DESC_RAW['Start_Year'] = CAMPAIGN_DESC_RAW['START_DATE'].dt.strftime('%Y')"
   ]
  },
  {
   "cell_type": "code",
   "execution_count": 399,
   "id": "d6c58084-b931-4f53-93b7-3fa5f7d0af09",
   "metadata": {},
   "outputs": [],
   "source": [
    "CAMPAIGN_DESC_RAW['End_Year'] = CAMPAIGN_DESC_RAW['END_DATE'].dt.strftime('%Y')"
   ]
  },
  {
   "cell_type": "code",
   "execution_count": 400,
   "id": "8421bf7a-d79a-4c31-b5e3-ccffb5484bff",
   "metadata": {},
   "outputs": [
    {
     "data": {
      "text/html": [
       "<div>\n",
       "<style scoped>\n",
       "    .dataframe tbody tr th:only-of-type {\n",
       "        vertical-align: middle;\n",
       "    }\n",
       "\n",
       "    .dataframe tbody tr th {\n",
       "        vertical-align: top;\n",
       "    }\n",
       "\n",
       "    .dataframe thead th {\n",
       "        text-align: right;\n",
       "    }\n",
       "</style>\n",
       "<table border=\"1\" class=\"dataframe\">\n",
       "  <thead>\n",
       "    <tr style=\"text-align: right;\">\n",
       "      <th></th>\n",
       "      <th>DESCRIPTION</th>\n",
       "      <th>CAMPAIGN</th>\n",
       "      <th>START_DAY</th>\n",
       "      <th>END_DAY</th>\n",
       "      <th>START_DATE</th>\n",
       "      <th>END_DATE</th>\n",
       "      <th>Campaign_Duration</th>\n",
       "      <th>Start_Month</th>\n",
       "      <th>End_Month</th>\n",
       "      <th>Start_Year</th>\n",
       "      <th>End_Year</th>\n",
       "    </tr>\n",
       "  </thead>\n",
       "  <tbody>\n",
       "    <tr>\n",
       "      <th>0</th>\n",
       "      <td>TypeB</td>\n",
       "      <td>24</td>\n",
       "      <td>659</td>\n",
       "      <td>719</td>\n",
       "      <td>2023-10-22</td>\n",
       "      <td>2023-12-21</td>\n",
       "      <td>60</td>\n",
       "      <td>10</td>\n",
       "      <td>12</td>\n",
       "      <td>2023</td>\n",
       "      <td>2023</td>\n",
       "    </tr>\n",
       "    <tr>\n",
       "      <th>1</th>\n",
       "      <td>TypeC</td>\n",
       "      <td>15</td>\n",
       "      <td>547</td>\n",
       "      <td>708</td>\n",
       "      <td>2023-07-02</td>\n",
       "      <td>2023-12-10</td>\n",
       "      <td>161</td>\n",
       "      <td>07</td>\n",
       "      <td>12</td>\n",
       "      <td>2023</td>\n",
       "      <td>2023</td>\n",
       "    </tr>\n",
       "    <tr>\n",
       "      <th>2</th>\n",
       "      <td>TypeB</td>\n",
       "      <td>25</td>\n",
       "      <td>659</td>\n",
       "      <td>691</td>\n",
       "      <td>2023-10-22</td>\n",
       "      <td>2023-11-23</td>\n",
       "      <td>32</td>\n",
       "      <td>10</td>\n",
       "      <td>11</td>\n",
       "      <td>2023</td>\n",
       "      <td>2023</td>\n",
       "    </tr>\n",
       "    <tr>\n",
       "      <th>3</th>\n",
       "      <td>TypeC</td>\n",
       "      <td>20</td>\n",
       "      <td>615</td>\n",
       "      <td>685</td>\n",
       "      <td>2023-09-08</td>\n",
       "      <td>2023-11-17</td>\n",
       "      <td>70</td>\n",
       "      <td>09</td>\n",
       "      <td>11</td>\n",
       "      <td>2023</td>\n",
       "      <td>2023</td>\n",
       "    </tr>\n",
       "    <tr>\n",
       "      <th>4</th>\n",
       "      <td>TypeB</td>\n",
       "      <td>23</td>\n",
       "      <td>646</td>\n",
       "      <td>684</td>\n",
       "      <td>2023-10-09</td>\n",
       "      <td>2023-11-16</td>\n",
       "      <td>38</td>\n",
       "      <td>10</td>\n",
       "      <td>11</td>\n",
       "      <td>2023</td>\n",
       "      <td>2023</td>\n",
       "    </tr>\n",
       "  </tbody>\n",
       "</table>\n",
       "</div>"
      ],
      "text/plain": [
       "  DESCRIPTION  CAMPAIGN  START_DAY  END_DAY START_DATE   END_DATE  \\\n",
       "0       TypeB        24        659      719 2023-10-22 2023-12-21   \n",
       "1       TypeC        15        547      708 2023-07-02 2023-12-10   \n",
       "2       TypeB        25        659      691 2023-10-22 2023-11-23   \n",
       "3       TypeC        20        615      685 2023-09-08 2023-11-17   \n",
       "4       TypeB        23        646      684 2023-10-09 2023-11-16   \n",
       "\n",
       "   Campaign_Duration Start_Month End_Month Start_Year End_Year  \n",
       "0                 60          10        12       2023     2023  \n",
       "1                161          07        12       2023     2023  \n",
       "2                 32          10        11       2023     2023  \n",
       "3                 70          09        11       2023     2023  \n",
       "4                 38          10        11       2023     2023  "
      ]
     },
     "execution_count": 400,
     "metadata": {},
     "output_type": "execute_result"
    }
   ],
   "source": [
    "CAMPAIGN_DESC_RAW.head(5)"
   ]
  },
  {
   "cell_type": "code",
   "execution_count": 401,
   "id": "e3e74946-f135-4ffc-bcee-d725ff7d35d1",
   "metadata": {},
   "outputs": [
    {
     "data": {
      "text/html": [
       "<div>\n",
       "<style scoped>\n",
       "    .dataframe tbody tr th:only-of-type {\n",
       "        vertical-align: middle;\n",
       "    }\n",
       "\n",
       "    .dataframe tbody tr th {\n",
       "        vertical-align: top;\n",
       "    }\n",
       "\n",
       "    .dataframe thead th {\n",
       "        text-align: right;\n",
       "    }\n",
       "</style>\n",
       "<table border=\"1\" class=\"dataframe\">\n",
       "  <thead>\n",
       "    <tr style=\"text-align: right;\">\n",
       "      <th></th>\n",
       "      <th>DESCRIPTION</th>\n",
       "      <th>HOUSEHOLD_KEY</th>\n",
       "      <th>CAMPAIGN</th>\n",
       "    </tr>\n",
       "  </thead>\n",
       "  <tbody>\n",
       "    <tr>\n",
       "      <th>0</th>\n",
       "      <td>TypeA</td>\n",
       "      <td>17</td>\n",
       "      <td>26</td>\n",
       "    </tr>\n",
       "    <tr>\n",
       "      <th>1</th>\n",
       "      <td>TypeA</td>\n",
       "      <td>27</td>\n",
       "      <td>26</td>\n",
       "    </tr>\n",
       "    <tr>\n",
       "      <th>2</th>\n",
       "      <td>TypeA</td>\n",
       "      <td>212</td>\n",
       "      <td>26</td>\n",
       "    </tr>\n",
       "    <tr>\n",
       "      <th>3</th>\n",
       "      <td>TypeA</td>\n",
       "      <td>208</td>\n",
       "      <td>26</td>\n",
       "    </tr>\n",
       "    <tr>\n",
       "      <th>4</th>\n",
       "      <td>TypeA</td>\n",
       "      <td>192</td>\n",
       "      <td>26</td>\n",
       "    </tr>\n",
       "  </tbody>\n",
       "</table>\n",
       "</div>"
      ],
      "text/plain": [
       "  DESCRIPTION  HOUSEHOLD_KEY  CAMPAIGN\n",
       "0       TypeA             17        26\n",
       "1       TypeA             27        26\n",
       "2       TypeA            212        26\n",
       "3       TypeA            208        26\n",
       "4       TypeA            192        26"
      ]
     },
     "execution_count": 401,
     "metadata": {},
     "output_type": "execute_result"
    }
   ],
   "source": [
    "CAMPAIGN_RAW.head()"
   ]
  },
  {
   "cell_type": "code",
   "execution_count": 402,
   "id": "66170f04-fc9d-4b9c-aa77-f83739804f33",
   "metadata": {},
   "outputs": [
    {
     "data": {
      "text/plain": [
       "(7208, 3)"
      ]
     },
     "execution_count": 402,
     "metadata": {},
     "output_type": "execute_result"
    }
   ],
   "source": [
    "CAMPAIGN_RAW.shape"
   ]
  },
  {
   "cell_type": "code",
   "execution_count": 403,
   "id": "ba6a7563-3075-4a37-8d0e-5f4db759d1e5",
   "metadata": {},
   "outputs": [
    {
     "data": {
      "text/plain": [
       "Index(['DESCRIPTION', 'HOUSEHOLD_KEY', 'CAMPAIGN'], dtype='object')"
      ]
     },
     "execution_count": 403,
     "metadata": {},
     "output_type": "execute_result"
    }
   ],
   "source": [
    "CAMPAIGN_RAW.columns"
   ]
  },
  {
   "cell_type": "code",
   "execution_count": 404,
   "id": "feff975a-7d92-4353-a955-e7afc8e5ffde",
   "metadata": {},
   "outputs": [
    {
     "data": {
      "text/plain": [
       "DESCRIPTION      0\n",
       "HOUSEHOLD_KEY    0\n",
       "CAMPAIGN         0\n",
       "dtype: int64"
      ]
     },
     "execution_count": 404,
     "metadata": {},
     "output_type": "execute_result"
    }
   ],
   "source": [
    "CAMPAIGN_RAW.isnull().sum()"
   ]
  },
  {
   "cell_type": "code",
   "execution_count": 405,
   "id": "ccdf787d-623b-44a3-96f1-a6572815a0b3",
   "metadata": {},
   "outputs": [
    {
     "data": {
      "text/plain": [
       "1584"
      ]
     },
     "execution_count": 405,
     "metadata": {},
     "output_type": "execute_result"
    }
   ],
   "source": [
    "CAMPAIGN_RAW['HOUSEHOLD_KEY'].nunique()"
   ]
  },
  {
   "cell_type": "code",
   "execution_count": null,
   "id": "e6d7cc26-d465-44f6-9767-6e12c8e838cb",
   "metadata": {},
   "outputs": [],
   "source": [
    "**There are 1584 household have participated to the campagin,levaing 916 who never participated to any campagin.** "
   ]
  },
  {
   "cell_type": "code",
   "execution_count": 407,
   "id": "c4f5edae-d327-4659-a5f7-0245d72c19fd",
   "metadata": {},
   "outputs": [
    {
     "data": {
      "text/html": [
       "<div>\n",
       "<style scoped>\n",
       "    .dataframe tbody tr th:only-of-type {\n",
       "        vertical-align: middle;\n",
       "    }\n",
       "\n",
       "    .dataframe tbody tr th {\n",
       "        vertical-align: top;\n",
       "    }\n",
       "\n",
       "    .dataframe thead th {\n",
       "        text-align: right;\n",
       "    }\n",
       "</style>\n",
       "<table border=\"1\" class=\"dataframe\">\n",
       "  <thead>\n",
       "    <tr style=\"text-align: right;\">\n",
       "      <th></th>\n",
       "      <th>CAMPAIGN</th>\n",
       "    </tr>\n",
       "    <tr>\n",
       "      <th>HOUSEHOLD_KEY</th>\n",
       "      <th></th>\n",
       "    </tr>\n",
       "  </thead>\n",
       "  <tbody>\n",
       "    <tr>\n",
       "      <th>1</th>\n",
       "      <td>8</td>\n",
       "    </tr>\n",
       "    <tr>\n",
       "      <th>2</th>\n",
       "      <td>1</td>\n",
       "    </tr>\n",
       "    <tr>\n",
       "      <th>3</th>\n",
       "      <td>3</td>\n",
       "    </tr>\n",
       "    <tr>\n",
       "      <th>4</th>\n",
       "      <td>1</td>\n",
       "    </tr>\n",
       "    <tr>\n",
       "      <th>6</th>\n",
       "      <td>4</td>\n",
       "    </tr>\n",
       "    <tr>\n",
       "      <th>...</th>\n",
       "      <td>...</td>\n",
       "    </tr>\n",
       "    <tr>\n",
       "      <th>2496</th>\n",
       "      <td>5</td>\n",
       "    </tr>\n",
       "    <tr>\n",
       "      <th>2497</th>\n",
       "      <td>3</td>\n",
       "    </tr>\n",
       "    <tr>\n",
       "      <th>2498</th>\n",
       "      <td>6</td>\n",
       "    </tr>\n",
       "    <tr>\n",
       "      <th>2499</th>\n",
       "      <td>2</td>\n",
       "    </tr>\n",
       "    <tr>\n",
       "      <th>2500</th>\n",
       "      <td>8</td>\n",
       "    </tr>\n",
       "  </tbody>\n",
       "</table>\n",
       "<p>1584 rows × 1 columns</p>\n",
       "</div>"
      ],
      "text/plain": [
       "               CAMPAIGN\n",
       "HOUSEHOLD_KEY          \n",
       "1                     8\n",
       "2                     1\n",
       "3                     3\n",
       "4                     1\n",
       "6                     4\n",
       "...                 ...\n",
       "2496                  5\n",
       "2497                  3\n",
       "2498                  6\n",
       "2499                  2\n",
       "2500                  8\n",
       "\n",
       "[1584 rows x 1 columns]"
      ]
     },
     "execution_count": 407,
     "metadata": {},
     "output_type": "execute_result"
    }
   ],
   "source": [
    "CAMPAIGN_RAW.groupby('HOUSEHOLD_KEY').aggregate({'CAMPAIGN':'count'})"
   ]
  },
  {
   "cell_type": "code",
   "execution_count": 408,
   "id": "8943a324-4bd8-48be-9547-c87613a142ac",
   "metadata": {},
   "outputs": [
    {
     "data": {
      "text/plain": [
       "Text(0, 0.5, 'Number of Household Reached')"
      ]
     },
     "execution_count": 408,
     "metadata": {},
     "output_type": "execute_result"
    },
    {
     "data": {
      "image/png": "[encoded data removed]",
      "text/plain": [
       "<Figure size 1500x500 with 1 Axes>"
      ]
     },
     "metadata": {},
     "output_type": "display_data"
    }
   ],
   "source": [
    "plt.figure(figsize=(15,5))\n",
    "CAMPAIGN_RAW.groupby('CAMPAIGN')['HOUSEHOLD_KEY'].count().plot.bar()\n",
    "plt.ylabel('Number of Household Reached')"
   ]
  },
  {
   "cell_type": "code",
   "execution_count": null,
   "id": "0a6cf08b-73bf-4e96-bc3b-857b966e3020",
   "metadata": {},
   "outputs": [],
   "source": [
    "**In the Campagin 18 most Household is participated.**"
   ]
  },
  {
   "cell_type": "code",
   "execution_count": 410,
   "id": "e18109aa-508a-4671-8bdd-cd9ec624b1f1",
   "metadata": {},
   "outputs": [
    {
     "data": {
      "text/html": [
       "<div>\n",
       "<style scoped>\n",
       "    .dataframe tbody tr th:only-of-type {\n",
       "        vertical-align: middle;\n",
       "    }\n",
       "\n",
       "    .dataframe tbody tr th {\n",
       "        vertical-align: top;\n",
       "    }\n",
       "\n",
       "    .dataframe thead th {\n",
       "        text-align: right;\n",
       "    }\n",
       "</style>\n",
       "<table border=\"1\" class=\"dataframe\">\n",
       "  <thead>\n",
       "    <tr style=\"text-align: right;\">\n",
       "      <th></th>\n",
       "      <th>COUPON_UPC</th>\n",
       "      <th>PRODUCT_ID</th>\n",
       "      <th>CAMPAIGN</th>\n",
       "    </tr>\n",
       "  </thead>\n",
       "  <tbody>\n",
       "    <tr>\n",
       "      <th>0</th>\n",
       "      <td>10000089061</td>\n",
       "      <td>27160</td>\n",
       "      <td>4</td>\n",
       "    </tr>\n",
       "    <tr>\n",
       "      <th>1</th>\n",
       "      <td>10000089064</td>\n",
       "      <td>27754</td>\n",
       "      <td>9</td>\n",
       "    </tr>\n",
       "    <tr>\n",
       "      <th>2</th>\n",
       "      <td>10000089073</td>\n",
       "      <td>28897</td>\n",
       "      <td>12</td>\n",
       "    </tr>\n",
       "    <tr>\n",
       "      <th>3</th>\n",
       "      <td>51800009050</td>\n",
       "      <td>28919</td>\n",
       "      <td>28</td>\n",
       "    </tr>\n",
       "    <tr>\n",
       "      <th>4</th>\n",
       "      <td>52100000076</td>\n",
       "      <td>28929</td>\n",
       "      <td>25</td>\n",
       "    </tr>\n",
       "  </tbody>\n",
       "</table>\n",
       "</div>"
      ],
      "text/plain": [
       "    COUPON_UPC  PRODUCT_ID  CAMPAIGN\n",
       "0  10000089061       27160         4\n",
       "1  10000089064       27754         9\n",
       "2  10000089073       28897        12\n",
       "3  51800009050       28919        28\n",
       "4  52100000076       28929        25"
      ]
     },
     "execution_count": 410,
     "metadata": {},
     "output_type": "execute_result"
    }
   ],
   "source": [
    "COUPON_RAW.head(5)"
   ]
  },
  {
   "cell_type": "code",
   "execution_count": 411,
   "id": "b001a300-d118-46e9-a11e-e1b93fdb5cb7",
   "metadata": {},
   "outputs": [
    {
     "data": {
      "text/plain": [
       "(124548, 3)"
      ]
     },
     "execution_count": 411,
     "metadata": {},
     "output_type": "execute_result"
    }
   ],
   "source": [
    "COUPON_RAW.shape"
   ]
  },
  {
   "cell_type": "code",
   "execution_count": 412,
   "id": "c830d6ac-f829-41aa-aec2-f21b6f5142a1",
   "metadata": {},
   "outputs": [
    {
     "data": {
      "text/plain": [
       "COUPON_UPC    0\n",
       "PRODUCT_ID    0\n",
       "CAMPAIGN      0\n",
       "dtype: int64"
      ]
     },
     "execution_count": 412,
     "metadata": {},
     "output_type": "execute_result"
    }
   ],
   "source": [
    "COUPON_RAW.isnull().sum()"
   ]
  },
  {
   "cell_type": "code",
   "execution_count": 413,
   "id": "80752a65-7bac-485d-96b5-3a02a79f6082",
   "metadata": {},
   "outputs": [
    {
     "data": {
      "text/plain": [
       "Index(['COUPON_UPC', 'PRODUCT_ID', 'CAMPAIGN'], dtype='object')"
      ]
     },
     "execution_count": 413,
     "metadata": {},
     "output_type": "execute_result"
    }
   ],
   "source": [
    "COUPON_RAW.columns"
   ]
  },
  {
   "cell_type": "code",
   "execution_count": 414,
   "id": "19e73cf9-4136-4b5d-b02e-a99c72e4f804",
   "metadata": {},
   "outputs": [],
   "source": [
    "COUPON_GIVEN=COUPON_RAW.groupby('CAMPAIGN').aggregate(Total_Product= ('PRODUCT_ID','nunique'),   \n",
    "                                                  Total_Copoun_Given = ('COUPON_UPC','nunique'))"
   ]
  },
  {
   "cell_type": "code",
   "execution_count": 415,
   "id": "034f043a-452d-497c-8ebe-00dc74e9c74c",
   "metadata": {},
   "outputs": [
    {
     "data": {
      "text/html": [
       "<div>\n",
       "<style scoped>\n",
       "    .dataframe tbody tr th:only-of-type {\n",
       "        vertical-align: middle;\n",
       "    }\n",
       "\n",
       "    .dataframe tbody tr th {\n",
       "        vertical-align: top;\n",
       "    }\n",
       "\n",
       "    .dataframe thead th {\n",
       "        text-align: right;\n",
       "    }\n",
       "</style>\n",
       "<table border=\"1\" class=\"dataframe\">\n",
       "  <thead>\n",
       "    <tr style=\"text-align: right;\">\n",
       "      <th></th>\n",
       "      <th>Total_Product</th>\n",
       "      <th>Total_Copoun_Given</th>\n",
       "    </tr>\n",
       "    <tr>\n",
       "      <th>CAMPAIGN</th>\n",
       "      <th></th>\n",
       "      <th></th>\n",
       "    </tr>\n",
       "  </thead>\n",
       "  <tbody>\n",
       "    <tr>\n",
       "      <th>13</th>\n",
       "      <td>35616</td>\n",
       "      <td>207</td>\n",
       "    </tr>\n",
       "    <tr>\n",
       "      <th>18</th>\n",
       "      <td>35513</td>\n",
       "      <td>209</td>\n",
       "    </tr>\n",
       "    <tr>\n",
       "      <th>8</th>\n",
       "      <td>17178</td>\n",
       "      <td>209</td>\n",
       "    </tr>\n",
       "    <tr>\n",
       "      <th>26</th>\n",
       "      <td>3396</td>\n",
       "      <td>181</td>\n",
       "    </tr>\n",
       "    <tr>\n",
       "      <th>30</th>\n",
       "      <td>3205</td>\n",
       "      <td>181</td>\n",
       "    </tr>\n",
       "  </tbody>\n",
       "</table>\n",
       "</div>"
      ],
      "text/plain": [
       "          Total_Product  Total_Copoun_Given\n",
       "CAMPAIGN                                   \n",
       "13                35616                 207\n",
       "18                35513                 209\n",
       "8                 17178                 209\n",
       "26                 3396                 181\n",
       "30                 3205                 181"
      ]
     },
     "execution_count": 415,
     "metadata": {},
     "output_type": "execute_result"
    }
   ],
   "source": [
    "COUPON_GIVEN.sort_values(by='Total_Product', ascending=False).head(5)"
   ]
  },
  {
   "cell_type": "code",
   "execution_count": 416,
   "id": "4bc48304-bb9d-4d9f-8123-1db2ca23fd2f",
   "metadata": {},
   "outputs": [],
   "source": [
    "COUPON_GIVEN = COUPON_GIVEN.merge(right=CAMPAIGN_DESC_RAW,on='CAMPAIGN',how='left')"
   ]
  },
  {
   "cell_type": "code",
   "execution_count": 417,
   "id": "8fd1f59b-06fa-48b0-9b9d-e186c2dd0c0b",
   "metadata": {},
   "outputs": [
    {
     "data": {
      "text/html": [
       "<div>\n",
       "<style scoped>\n",
       "    .dataframe tbody tr th:only-of-type {\n",
       "        vertical-align: middle;\n",
       "    }\n",
       "\n",
       "    .dataframe tbody tr th {\n",
       "        vertical-align: top;\n",
       "    }\n",
       "\n",
       "    .dataframe thead th {\n",
       "        text-align: right;\n",
       "    }\n",
       "</style>\n",
       "<table border=\"1\" class=\"dataframe\">\n",
       "  <thead>\n",
       "    <tr style=\"text-align: right;\">\n",
       "      <th></th>\n",
       "      <th>CAMPAIGN</th>\n",
       "      <th>Total_Product</th>\n",
       "      <th>Total_Copoun_Given</th>\n",
       "      <th>DESCRIPTION</th>\n",
       "      <th>START_DAY</th>\n",
       "      <th>END_DAY</th>\n",
       "      <th>START_DATE</th>\n",
       "      <th>END_DATE</th>\n",
       "      <th>Campaign_Duration</th>\n",
       "      <th>Start_Month</th>\n",
       "      <th>End_Month</th>\n",
       "      <th>Start_Year</th>\n",
       "      <th>End_Year</th>\n",
       "    </tr>\n",
       "  </thead>\n",
       "  <tbody>\n",
       "    <tr>\n",
       "      <th>0</th>\n",
       "      <td>1</td>\n",
       "      <td>383</td>\n",
       "      <td>11</td>\n",
       "      <td>TypeB</td>\n",
       "      <td>346</td>\n",
       "      <td>383</td>\n",
       "      <td>2022-12-13</td>\n",
       "      <td>2023-01-19</td>\n",
       "      <td>37</td>\n",
       "      <td>12</td>\n",
       "      <td>01</td>\n",
       "      <td>2022</td>\n",
       "      <td>2023</td>\n",
       "    </tr>\n",
       "    <tr>\n",
       "      <th>1</th>\n",
       "      <td>2</td>\n",
       "      <td>301</td>\n",
       "      <td>16</td>\n",
       "      <td>TypeB</td>\n",
       "      <td>351</td>\n",
       "      <td>383</td>\n",
       "      <td>2022-12-18</td>\n",
       "      <td>2023-01-19</td>\n",
       "      <td>32</td>\n",
       "      <td>12</td>\n",
       "      <td>01</td>\n",
       "      <td>2022</td>\n",
       "      <td>2023</td>\n",
       "    </tr>\n",
       "    <tr>\n",
       "      <th>2</th>\n",
       "      <td>3</td>\n",
       "      <td>506</td>\n",
       "      <td>34</td>\n",
       "      <td>TypeC</td>\n",
       "      <td>356</td>\n",
       "      <td>412</td>\n",
       "      <td>2022-12-23</td>\n",
       "      <td>2023-02-17</td>\n",
       "      <td>56</td>\n",
       "      <td>12</td>\n",
       "      <td>02</td>\n",
       "      <td>2022</td>\n",
       "      <td>2023</td>\n",
       "    </tr>\n",
       "    <tr>\n",
       "      <th>3</th>\n",
       "      <td>4</td>\n",
       "      <td>200</td>\n",
       "      <td>12</td>\n",
       "      <td>TypeB</td>\n",
       "      <td>372</td>\n",
       "      <td>404</td>\n",
       "      <td>2023-01-08</td>\n",
       "      <td>2023-02-09</td>\n",
       "      <td>32</td>\n",
       "      <td>01</td>\n",
       "      <td>02</td>\n",
       "      <td>2023</td>\n",
       "      <td>2023</td>\n",
       "    </tr>\n",
       "    <tr>\n",
       "      <th>4</th>\n",
       "      <td>5</td>\n",
       "      <td>443</td>\n",
       "      <td>11</td>\n",
       "      <td>TypeB</td>\n",
       "      <td>377</td>\n",
       "      <td>411</td>\n",
       "      <td>2023-01-13</td>\n",
       "      <td>2023-02-16</td>\n",
       "      <td>34</td>\n",
       "      <td>01</td>\n",
       "      <td>02</td>\n",
       "      <td>2023</td>\n",
       "      <td>2023</td>\n",
       "    </tr>\n",
       "  </tbody>\n",
       "</table>\n",
       "</div>"
      ],
      "text/plain": [
       "   CAMPAIGN  Total_Product  Total_Copoun_Given DESCRIPTION  START_DAY  \\\n",
       "0         1            383                  11       TypeB        346   \n",
       "1         2            301                  16       TypeB        351   \n",
       "2         3            506                  34       TypeC        356   \n",
       "3         4            200                  12       TypeB        372   \n",
       "4         5            443                  11       TypeB        377   \n",
       "\n",
       "   END_DAY START_DATE   END_DATE  Campaign_Duration Start_Month End_Month  \\\n",
       "0      383 2022-12-13 2023-01-19                 37          12        01   \n",
       "1      383 2022-12-18 2023-01-19                 32          12        01   \n",
       "2      412 2022-12-23 2023-02-17                 56          12        02   \n",
       "3      404 2023-01-08 2023-02-09                 32          01        02   \n",
       "4      411 2023-01-13 2023-02-16                 34          01        02   \n",
       "\n",
       "  Start_Year End_Year  \n",
       "0       2022     2023  \n",
       "1       2022     2023  \n",
       "2       2022     2023  \n",
       "3       2023     2023  \n",
       "4       2023     2023  "
      ]
     },
     "execution_count": 417,
     "metadata": {},
     "output_type": "execute_result"
    }
   ],
   "source": [
    "COUPON_GIVEN.head()"
   ]
  },
  {
   "cell_type": "code",
   "execution_count": 418,
   "id": "cf8b0bd0-3821-4cea-baae-821f351dcac0",
   "metadata": {},
   "outputs": [
    {
     "data": {
      "text/html": [
       "<div>\n",
       "<style scoped>\n",
       "    .dataframe tbody tr th:only-of-type {\n",
       "        vertical-align: middle;\n",
       "    }\n",
       "\n",
       "    .dataframe tbody tr th {\n",
       "        vertical-align: top;\n",
       "    }\n",
       "\n",
       "    .dataframe thead th {\n",
       "        text-align: right;\n",
       "    }\n",
       "</style>\n",
       "<table border=\"1\" class=\"dataframe\">\n",
       "  <thead>\n",
       "    <tr style=\"text-align: right;\">\n",
       "      <th></th>\n",
       "      <th>CAMPAIGN</th>\n",
       "      <th>Total_Product</th>\n",
       "      <th>Total_Copoun_Given</th>\n",
       "      <th>DESCRIPTION</th>\n",
       "      <th>START_DATE</th>\n",
       "      <th>END_DATE</th>\n",
       "      <th>Campaign_Duration</th>\n",
       "      <th>Start_Month</th>\n",
       "      <th>End_Month</th>\n",
       "      <th>Start_Year</th>\n",
       "      <th>End_Year</th>\n",
       "    </tr>\n",
       "  </thead>\n",
       "  <tbody>\n",
       "    <tr>\n",
       "      <th>12</th>\n",
       "      <td>13</td>\n",
       "      <td>35616</td>\n",
       "      <td>207</td>\n",
       "      <td>TypeA</td>\n",
       "      <td>2023-05-20</td>\n",
       "      <td>2023-07-06</td>\n",
       "      <td>47</td>\n",
       "      <td>05</td>\n",
       "      <td>07</td>\n",
       "      <td>2023</td>\n",
       "      <td>2023</td>\n",
       "    </tr>\n",
       "    <tr>\n",
       "      <th>17</th>\n",
       "      <td>18</td>\n",
       "      <td>35513</td>\n",
       "      <td>209</td>\n",
       "      <td>TypeA</td>\n",
       "      <td>2023-08-11</td>\n",
       "      <td>2023-10-05</td>\n",
       "      <td>55</td>\n",
       "      <td>08</td>\n",
       "      <td>10</td>\n",
       "      <td>2023</td>\n",
       "      <td>2023</td>\n",
       "    </tr>\n",
       "    <tr>\n",
       "      <th>7</th>\n",
       "      <td>8</td>\n",
       "      <td>17178</td>\n",
       "      <td>209</td>\n",
       "      <td>TypeA</td>\n",
       "      <td>2023-02-17</td>\n",
       "      <td>2023-04-06</td>\n",
       "      <td>48</td>\n",
       "      <td>02</td>\n",
       "      <td>04</td>\n",
       "      <td>2023</td>\n",
       "      <td>2023</td>\n",
       "    </tr>\n",
       "    <tr>\n",
       "      <th>25</th>\n",
       "      <td>26</td>\n",
       "      <td>3396</td>\n",
       "      <td>181</td>\n",
       "      <td>TypeA</td>\n",
       "      <td>2022-08-13</td>\n",
       "      <td>2022-09-22</td>\n",
       "      <td>40</td>\n",
       "      <td>08</td>\n",
       "      <td>09</td>\n",
       "      <td>2022</td>\n",
       "      <td>2022</td>\n",
       "    </tr>\n",
       "    <tr>\n",
       "      <th>29</th>\n",
       "      <td>30</td>\n",
       "      <td>3205</td>\n",
       "      <td>181</td>\n",
       "      <td>TypeA</td>\n",
       "      <td>2022-11-20</td>\n",
       "      <td>2023-01-05</td>\n",
       "      <td>46</td>\n",
       "      <td>11</td>\n",
       "      <td>01</td>\n",
       "      <td>2022</td>\n",
       "      <td>2023</td>\n",
       "    </tr>\n",
       "    <tr>\n",
       "      <th>21</th>\n",
       "      <td>22</td>\n",
       "      <td>1917</td>\n",
       "      <td>21</td>\n",
       "      <td>TypeB</td>\n",
       "      <td>2023-09-17</td>\n",
       "      <td>2023-10-19</td>\n",
       "      <td>32</td>\n",
       "      <td>09</td>\n",
       "      <td>10</td>\n",
       "      <td>2023</td>\n",
       "      <td>2023</td>\n",
       "    </tr>\n",
       "    <tr>\n",
       "      <th>23</th>\n",
       "      <td>24</td>\n",
       "      <td>1887</td>\n",
       "      <td>2</td>\n",
       "      <td>TypeB</td>\n",
       "      <td>2023-10-22</td>\n",
       "      <td>2023-12-21</td>\n",
       "      <td>60</td>\n",
       "      <td>10</td>\n",
       "      <td>12</td>\n",
       "      <td>2023</td>\n",
       "      <td>2023</td>\n",
       "    </tr>\n",
       "    <tr>\n",
       "      <th>15</th>\n",
       "      <td>16</td>\n",
       "      <td>1025</td>\n",
       "      <td>13</td>\n",
       "      <td>TypeB</td>\n",
       "      <td>2023-07-16</td>\n",
       "      <td>2023-08-17</td>\n",
       "      <td>32</td>\n",
       "      <td>07</td>\n",
       "      <td>08</td>\n",
       "      <td>2023</td>\n",
       "      <td>2023</td>\n",
       "    </tr>\n",
       "  </tbody>\n",
       "</table>\n",
       "</div>"
      ],
      "text/plain": [
       "    CAMPAIGN  Total_Product  Total_Copoun_Given DESCRIPTION START_DATE  \\\n",
       "12        13          35616                 207       TypeA 2023-05-20   \n",
       "17        18          35513                 209       TypeA 2023-08-11   \n",
       "7          8          17178                 209       TypeA 2023-02-17   \n",
       "25        26           3396                 181       TypeA 2022-08-13   \n",
       "29        30           3205                 181       TypeA 2022-11-20   \n",
       "21        22           1917                  21       TypeB 2023-09-17   \n",
       "23        24           1887                   2       TypeB 2023-10-22   \n",
       "15        16           1025                  13       TypeB 2023-07-16   \n",
       "\n",
       "     END_DATE  Campaign_Duration Start_Month End_Month Start_Year End_Year  \n",
       "12 2023-07-06                 47          05        07       2023     2023  \n",
       "17 2023-10-05                 55          08        10       2023     2023  \n",
       "7  2023-04-06                 48          02        04       2023     2023  \n",
       "25 2022-09-22                 40          08        09       2022     2022  \n",
       "29 2023-01-05                 46          11        01       2022     2023  \n",
       "21 2023-10-19                 32          09        10       2023     2023  \n",
       "23 2023-12-21                 60          10        12       2023     2023  \n",
       "15 2023-08-17                 32          07        08       2023     2023  "
      ]
     },
     "execution_count": 418,
     "metadata": {},
     "output_type": "execute_result"
    }
   ],
   "source": [
    "COUPON_GIVEN.loc[:,('CAMPAIGN','Total_Product','Total_Copoun_Given','DESCRIPTION','START_DATE','END_DATE','Campaign_Duration','Start_Month','End_Month','Start_Year','End_Year')].sort_values(by='Total_Product',ascending=False).head(8)"
   ]
  },
  {
   "cell_type": "code",
   "execution_count": 419,
   "id": "95dc7ad0-af57-4993-b132-a9f8b1d98c76",
   "metadata": {},
   "outputs": [
    {
     "data": {
      "text/html": [
       "<div>\n",
       "<style scoped>\n",
       "    .dataframe tbody tr th:only-of-type {\n",
       "        vertical-align: middle;\n",
       "    }\n",
       "\n",
       "    .dataframe tbody tr th {\n",
       "        vertical-align: top;\n",
       "    }\n",
       "\n",
       "    .dataframe thead th {\n",
       "        text-align: right;\n",
       "    }\n",
       "</style>\n",
       "<table border=\"1\" class=\"dataframe\">\n",
       "  <thead>\n",
       "    <tr style=\"text-align: right;\">\n",
       "      <th></th>\n",
       "      <th>COUPON_UPC</th>\n",
       "      <th>PRODUCT_ID</th>\n",
       "      <th>CAMPAIGN</th>\n",
       "    </tr>\n",
       "  </thead>\n",
       "  <tbody>\n",
       "    <tr>\n",
       "      <th>0</th>\n",
       "      <td>10000089061</td>\n",
       "      <td>27160</td>\n",
       "      <td>4</td>\n",
       "    </tr>\n",
       "    <tr>\n",
       "      <th>1</th>\n",
       "      <td>10000089064</td>\n",
       "      <td>27754</td>\n",
       "      <td>9</td>\n",
       "    </tr>\n",
       "    <tr>\n",
       "      <th>2</th>\n",
       "      <td>10000089073</td>\n",
       "      <td>28897</td>\n",
       "      <td>12</td>\n",
       "    </tr>\n",
       "    <tr>\n",
       "      <th>3</th>\n",
       "      <td>51800009050</td>\n",
       "      <td>28919</td>\n",
       "      <td>28</td>\n",
       "    </tr>\n",
       "    <tr>\n",
       "      <th>4</th>\n",
       "      <td>52100000076</td>\n",
       "      <td>28929</td>\n",
       "      <td>25</td>\n",
       "    </tr>\n",
       "  </tbody>\n",
       "</table>\n",
       "</div>"
      ],
      "text/plain": [
       "    COUPON_UPC  PRODUCT_ID  CAMPAIGN\n",
       "0  10000089061       27160         4\n",
       "1  10000089064       27754         9\n",
       "2  10000089073       28897        12\n",
       "3  51800009050       28919        28\n",
       "4  52100000076       28929        25"
      ]
     },
     "execution_count": 419,
     "metadata": {},
     "output_type": "execute_result"
    }
   ],
   "source": [
    "COUPON_RAW.head()"
   ]
  },
  {
   "cell_type": "code",
   "execution_count": 420,
   "id": "d6c2731d-40a7-4a61-b812-4a899072f2c0",
   "metadata": {},
   "outputs": [
    {
     "data": {
      "text/html": [
       "<div>\n",
       "<style scoped>\n",
       "    .dataframe tbody tr th:only-of-type {\n",
       "        vertical-align: middle;\n",
       "    }\n",
       "\n",
       "    .dataframe tbody tr th {\n",
       "        vertical-align: top;\n",
       "    }\n",
       "\n",
       "    .dataframe thead th {\n",
       "        text-align: right;\n",
       "    }\n",
       "</style>\n",
       "<table border=\"1\" class=\"dataframe\">\n",
       "  <thead>\n",
       "    <tr style=\"text-align: right;\">\n",
       "      <th></th>\n",
       "      <th>PRODUCT_ID</th>\n",
       "      <th>MANUFACTURER</th>\n",
       "      <th>DEPARTMENT</th>\n",
       "      <th>BRAND</th>\n",
       "      <th>COMMODITY_DESC</th>\n",
       "      <th>SUB_COMMODITY_DESC</th>\n",
       "      <th>CURR_SIZE_OF_PRODUCT</th>\n",
       "    </tr>\n",
       "  </thead>\n",
       "  <tbody>\n",
       "    <tr>\n",
       "      <th>0</th>\n",
       "      <td>25671</td>\n",
       "      <td>2</td>\n",
       "      <td>GROCERY</td>\n",
       "      <td>National</td>\n",
       "      <td>FRZN ICE</td>\n",
       "      <td>ICE - CRUSHED/CUBED</td>\n",
       "      <td>22 LB</td>\n",
       "    </tr>\n",
       "    <tr>\n",
       "      <th>1</th>\n",
       "      <td>26190</td>\n",
       "      <td>69</td>\n",
       "      <td>GROCERY</td>\n",
       "      <td>Private</td>\n",
       "      <td>FRUIT - SHELF STABLE</td>\n",
       "      <td>APPLE SAUCE</td>\n",
       "      <td>50 OZ</td>\n",
       "    </tr>\n",
       "    <tr>\n",
       "      <th>2</th>\n",
       "      <td>26355</td>\n",
       "      <td>69</td>\n",
       "      <td>GROCERY</td>\n",
       "      <td>Private</td>\n",
       "      <td>COOKIES/CONES</td>\n",
       "      <td>SPECIALTY COOKIES</td>\n",
       "      <td>14 OZ</td>\n",
       "    </tr>\n",
       "    <tr>\n",
       "      <th>3</th>\n",
       "      <td>26426</td>\n",
       "      <td>69</td>\n",
       "      <td>GROCERY</td>\n",
       "      <td>Private</td>\n",
       "      <td>SPICES &amp; EXTRACTS</td>\n",
       "      <td>SPICES &amp; SEASONINGS</td>\n",
       "      <td>2.5 OZ</td>\n",
       "    </tr>\n",
       "    <tr>\n",
       "      <th>4</th>\n",
       "      <td>26540</td>\n",
       "      <td>69</td>\n",
       "      <td>GROCERY</td>\n",
       "      <td>Private</td>\n",
       "      <td>COOKIES/CONES</td>\n",
       "      <td>TRAY PACK/CHOC CHIP COOKIES</td>\n",
       "      <td>16 OZ</td>\n",
       "    </tr>\n",
       "    <tr>\n",
       "      <th>5</th>\n",
       "      <td>26601</td>\n",
       "      <td>69</td>\n",
       "      <td>DRUG GM</td>\n",
       "      <td>Private</td>\n",
       "      <td>VITAMINS</td>\n",
       "      <td>VITAMIN - MINERALS</td>\n",
       "      <td>300CT(1)</td>\n",
       "    </tr>\n",
       "    <tr>\n",
       "      <th>6</th>\n",
       "      <td>26691</td>\n",
       "      <td>16</td>\n",
       "      <td>GROCERY</td>\n",
       "      <td>Private</td>\n",
       "      <td>PNT BTR/JELLY/JAMS</td>\n",
       "      <td>HONEY</td>\n",
       "      <td>12 OZ</td>\n",
       "    </tr>\n",
       "    <tr>\n",
       "      <th>7</th>\n",
       "      <td>26738</td>\n",
       "      <td>69</td>\n",
       "      <td>GROCERY</td>\n",
       "      <td>Private</td>\n",
       "      <td>ICE CREAM/MILK/SHERBTS</td>\n",
       "      <td>TRADITIONAL</td>\n",
       "      <td>56 OZ</td>\n",
       "    </tr>\n",
       "    <tr>\n",
       "      <th>8</th>\n",
       "      <td>26941</td>\n",
       "      <td>69</td>\n",
       "      <td>GROCERY</td>\n",
       "      <td>Private</td>\n",
       "      <td>ICE CREAM/MILK/SHERBTS</td>\n",
       "      <td>TRADITIONAL</td>\n",
       "      <td>56 OZ</td>\n",
       "    </tr>\n",
       "    <tr>\n",
       "      <th>9</th>\n",
       "      <td>27030</td>\n",
       "      <td>69</td>\n",
       "      <td>GROCERY</td>\n",
       "      <td>Private</td>\n",
       "      <td>ICE CREAM/MILK/SHERBTS</td>\n",
       "      <td>TRADITIONAL</td>\n",
       "      <td>56 OZ</td>\n",
       "    </tr>\n",
       "  </tbody>\n",
       "</table>\n",
       "</div>"
      ],
      "text/plain": [
       "   PRODUCT_ID  MANUFACTURER DEPARTMENT     BRAND          COMMODITY_DESC  \\\n",
       "0       25671             2    GROCERY  National                FRZN ICE   \n",
       "1       26190            69    GROCERY   Private    FRUIT - SHELF STABLE   \n",
       "2       26355            69    GROCERY   Private           COOKIES/CONES   \n",
       "3       26426            69    GROCERY   Private       SPICES & EXTRACTS   \n",
       "4       26540            69    GROCERY   Private           COOKIES/CONES   \n",
       "5       26601            69    DRUG GM   Private                VITAMINS   \n",
       "6       26691            16    GROCERY   Private      PNT BTR/JELLY/JAMS   \n",
       "7       26738            69    GROCERY   Private  ICE CREAM/MILK/SHERBTS   \n",
       "8       26941            69    GROCERY   Private  ICE CREAM/MILK/SHERBTS   \n",
       "9       27030            69    GROCERY   Private  ICE CREAM/MILK/SHERBTS   \n",
       "\n",
       "            SUB_COMMODITY_DESC CURR_SIZE_OF_PRODUCT  \n",
       "0          ICE - CRUSHED/CUBED                22 LB  \n",
       "1                  APPLE SAUCE                50 OZ  \n",
       "2            SPECIALTY COOKIES                14 OZ  \n",
       "3          SPICES & SEASONINGS               2.5 OZ  \n",
       "4  TRAY PACK/CHOC CHIP COOKIES                16 OZ  \n",
       "5           VITAMIN - MINERALS             300CT(1)  \n",
       "6                        HONEY                12 OZ  \n",
       "7                  TRADITIONAL                56 OZ  \n",
       "8                  TRADITIONAL                56 OZ  \n",
       "9                  TRADITIONAL                56 OZ  "
      ]
     },
     "execution_count": 420,
     "metadata": {},
     "output_type": "execute_result"
    }
   ],
   "source": [
    "PRODUCT_RAW.head(10)"
   ]
  },
  {
   "cell_type": "code",
   "execution_count": 421,
   "id": "a25c0448-aedd-4688-86b6-04a3d9aa1a94",
   "metadata": {},
   "outputs": [],
   "source": [
    "COUPON_Products = COUPON_RAW.merge(right=PRODUCT_RAW,on='PRODUCT_ID',how='left')"
   ]
  },
  {
   "cell_type": "code",
   "execution_count": 422,
   "id": "2d195cab-986b-4d29-a419-3a6e4b58a862",
   "metadata": {},
   "outputs": [
    {
     "data": {
      "text/html": [
       "<div>\n",
       "<style scoped>\n",
       "    .dataframe tbody tr th:only-of-type {\n",
       "        vertical-align: middle;\n",
       "    }\n",
       "\n",
       "    .dataframe tbody tr th {\n",
       "        vertical-align: top;\n",
       "    }\n",
       "\n",
       "    .dataframe thead th {\n",
       "        text-align: right;\n",
       "    }\n",
       "</style>\n",
       "<table border=\"1\" class=\"dataframe\">\n",
       "  <thead>\n",
       "    <tr style=\"text-align: right;\">\n",
       "      <th></th>\n",
       "      <th>COUPON_UPC</th>\n",
       "      <th>PRODUCT_ID</th>\n",
       "      <th>CAMPAIGN</th>\n",
       "      <th>MANUFACTURER</th>\n",
       "      <th>DEPARTMENT</th>\n",
       "      <th>BRAND</th>\n",
       "      <th>COMMODITY_DESC</th>\n",
       "      <th>SUB_COMMODITY_DESC</th>\n",
       "      <th>CURR_SIZE_OF_PRODUCT</th>\n",
       "    </tr>\n",
       "  </thead>\n",
       "  <tbody>\n",
       "    <tr>\n",
       "      <th>0</th>\n",
       "      <td>10000089061</td>\n",
       "      <td>27160</td>\n",
       "      <td>4</td>\n",
       "      <td>69</td>\n",
       "      <td>GROCERY</td>\n",
       "      <td>Private</td>\n",
       "      <td>SHORTENING/OIL</td>\n",
       "      <td>VEGETABLE/SALAD OIL</td>\n",
       "      <td>48 OZ</td>\n",
       "    </tr>\n",
       "    <tr>\n",
       "      <th>1</th>\n",
       "      <td>10000089061</td>\n",
       "      <td>27160</td>\n",
       "      <td>4</td>\n",
       "      <td>69</td>\n",
       "      <td>GROCERY</td>\n",
       "      <td>Private</td>\n",
       "      <td>SHORTENING/OIL</td>\n",
       "      <td>VEGETABLE/SALAD OIL</td>\n",
       "      <td>48 OZ</td>\n",
       "    </tr>\n",
       "    <tr>\n",
       "      <th>2</th>\n",
       "      <td>10000089064</td>\n",
       "      <td>27754</td>\n",
       "      <td>9</td>\n",
       "      <td>69</td>\n",
       "      <td>GROCERY</td>\n",
       "      <td>Private</td>\n",
       "      <td>FRZN VEGETABLE/VEG DSH</td>\n",
       "      <td>FRZN BAGGED VEGETABLES - PLAIN</td>\n",
       "      <td>16 OZ</td>\n",
       "    </tr>\n",
       "    <tr>\n",
       "      <th>3</th>\n",
       "      <td>10000089064</td>\n",
       "      <td>27754</td>\n",
       "      <td>9</td>\n",
       "      <td>69</td>\n",
       "      <td>GROCERY</td>\n",
       "      <td>Private</td>\n",
       "      <td>FRZN VEGETABLE/VEG DSH</td>\n",
       "      <td>FRZN BAGGED VEGETABLES - PLAIN</td>\n",
       "      <td>16 OZ</td>\n",
       "    </tr>\n",
       "    <tr>\n",
       "      <th>4</th>\n",
       "      <td>10000089073</td>\n",
       "      <td>28897</td>\n",
       "      <td>12</td>\n",
       "      <td>69</td>\n",
       "      <td>GROCERY</td>\n",
       "      <td>Private</td>\n",
       "      <td>EGGS</td>\n",
       "      <td>EGGS - X-LARGE</td>\n",
       "      <td>A D   1 DZ</td>\n",
       "    </tr>\n",
       "    <tr>\n",
       "      <th>5</th>\n",
       "      <td>10000089073</td>\n",
       "      <td>28897</td>\n",
       "      <td>12</td>\n",
       "      <td>69</td>\n",
       "      <td>GROCERY</td>\n",
       "      <td>Private</td>\n",
       "      <td>EGGS</td>\n",
       "      <td>EGGS - X-LARGE</td>\n",
       "      <td>A D   1 DZ</td>\n",
       "    </tr>\n",
       "    <tr>\n",
       "      <th>6</th>\n",
       "      <td>51800009050</td>\n",
       "      <td>28919</td>\n",
       "      <td>28</td>\n",
       "      <td>236</td>\n",
       "      <td>GROCERY</td>\n",
       "      <td>National</td>\n",
       "      <td>REFRGRATD DOUGH PRODUCTS</td>\n",
       "      <td>REFRIGERATED COOKIES-CHUB</td>\n",
       "      <td>16.5 OZ</td>\n",
       "    </tr>\n",
       "    <tr>\n",
       "      <th>7</th>\n",
       "      <td>51800009050</td>\n",
       "      <td>28919</td>\n",
       "      <td>28</td>\n",
       "      <td>236</td>\n",
       "      <td>GROCERY</td>\n",
       "      <td>National</td>\n",
       "      <td>REFRGRATD DOUGH PRODUCTS</td>\n",
       "      <td>REFRIGERATED COOKIES-CHUB</td>\n",
       "      <td>16.5 OZ</td>\n",
       "    </tr>\n",
       "    <tr>\n",
       "      <th>8</th>\n",
       "      <td>52100000076</td>\n",
       "      <td>28929</td>\n",
       "      <td>25</td>\n",
       "      <td>317</td>\n",
       "      <td>GROCERY</td>\n",
       "      <td>National</td>\n",
       "      <td>CHEESE</td>\n",
       "      <td>STRING CHEESE</td>\n",
       "      <td>AB    8 OZ</td>\n",
       "    </tr>\n",
       "    <tr>\n",
       "      <th>9</th>\n",
       "      <td>52100000076</td>\n",
       "      <td>28929</td>\n",
       "      <td>25</td>\n",
       "      <td>317</td>\n",
       "      <td>GROCERY</td>\n",
       "      <td>National</td>\n",
       "      <td>CHEESE</td>\n",
       "      <td>STRING CHEESE</td>\n",
       "      <td>AB    8 OZ</td>\n",
       "    </tr>\n",
       "  </tbody>\n",
       "</table>\n",
       "</div>"
      ],
      "text/plain": [
       "    COUPON_UPC  PRODUCT_ID  CAMPAIGN  MANUFACTURER DEPARTMENT     BRAND  \\\n",
       "0  10000089061       27160         4            69    GROCERY   Private   \n",
       "1  10000089061       27160         4            69    GROCERY   Private   \n",
       "2  10000089064       27754         9            69    GROCERY   Private   \n",
       "3  10000089064       27754         9            69    GROCERY   Private   \n",
       "4  10000089073       28897        12            69    GROCERY   Private   \n",
       "5  10000089073       28897        12            69    GROCERY   Private   \n",
       "6  51800009050       28919        28           236    GROCERY  National   \n",
       "7  51800009050       28919        28           236    GROCERY  National   \n",
       "8  52100000076       28929        25           317    GROCERY  National   \n",
       "9  52100000076       28929        25           317    GROCERY  National   \n",
       "\n",
       "             COMMODITY_DESC              SUB_COMMODITY_DESC  \\\n",
       "0            SHORTENING/OIL             VEGETABLE/SALAD OIL   \n",
       "1            SHORTENING/OIL             VEGETABLE/SALAD OIL   \n",
       "2    FRZN VEGETABLE/VEG DSH  FRZN BAGGED VEGETABLES - PLAIN   \n",
       "3    FRZN VEGETABLE/VEG DSH  FRZN BAGGED VEGETABLES - PLAIN   \n",
       "4                      EGGS                  EGGS - X-LARGE   \n",
       "5                      EGGS                  EGGS - X-LARGE   \n",
       "6  REFRGRATD DOUGH PRODUCTS       REFRIGERATED COOKIES-CHUB   \n",
       "7  REFRGRATD DOUGH PRODUCTS       REFRIGERATED COOKIES-CHUB   \n",
       "8                    CHEESE                   STRING CHEESE   \n",
       "9                    CHEESE                   STRING CHEESE   \n",
       "\n",
       "  CURR_SIZE_OF_PRODUCT  \n",
       "0                48 OZ  \n",
       "1                48 OZ  \n",
       "2                16 OZ  \n",
       "3                16 OZ  \n",
       "4           A D   1 DZ  \n",
       "5           A D   1 DZ  \n",
       "6              16.5 OZ  \n",
       "7              16.5 OZ  \n",
       "8           AB    8 OZ  \n",
       "9           AB    8 OZ  "
      ]
     },
     "execution_count": 422,
     "metadata": {},
     "output_type": "execute_result"
    }
   ],
   "source": [
    "COUPON_Products.head(10)"
   ]
  },
  {
   "cell_type": "code",
   "execution_count": 423,
   "id": "31a2e159-a8d9-4c5b-aa23-55092db9fb36",
   "metadata": {},
   "outputs": [
    {
     "data": {
      "text/plain": [
       "COMMODITY_DESC\n",
       "HAIR CARE PRODUCTS        12522\n",
       "MAKEUP AND TREATMENT      11170\n",
       "FRZN MEAT/MEAT DINNERS     9786\n",
       "FROZEN PIZZA               7316\n",
       "BEEF                       6628\n",
       "                          ...  \n",
       "MISCELLANEOUS CROUTONS        4\n",
       "TICKETS                       2\n",
       "COFFEE SHOP                   2\n",
       "BOOKSTORE                     2\n",
       "BEVERAGE                      2\n",
       "Name: count, Length: 266, dtype: int64"
      ]
     },
     "execution_count": 423,
     "metadata": {},
     "output_type": "execute_result"
    }
   ],
   "source": [
    "COUPON_Products['COMMODITY_DESC'].value_counts()"
   ]
  },
  {
   "cell_type": "code",
   "execution_count": 424,
   "id": "20f1e30b-8837-4cd7-9aa5-94394c7f0aaf",
   "metadata": {},
   "outputs": [
    {
     "data": {
      "text/html": [
       "<div>\n",
       "<style scoped>\n",
       "    .dataframe tbody tr th:only-of-type {\n",
       "        vertical-align: middle;\n",
       "    }\n",
       "\n",
       "    .dataframe tbody tr th {\n",
       "        vertical-align: top;\n",
       "    }\n",
       "\n",
       "    .dataframe thead th {\n",
       "        text-align: right;\n",
       "    }\n",
       "</style>\n",
       "<table border=\"1\" class=\"dataframe\">\n",
       "  <thead>\n",
       "    <tr style=\"text-align: right;\">\n",
       "      <th></th>\n",
       "      <th>HOUSEHOLD_KEY</th>\n",
       "      <th>DAY</th>\n",
       "      <th>COUPON_UPC</th>\n",
       "      <th>CAMPAIGN</th>\n",
       "      <th>Date</th>\n",
       "    </tr>\n",
       "  </thead>\n",
       "  <tbody>\n",
       "    <tr>\n",
       "      <th>0</th>\n",
       "      <td>1</td>\n",
       "      <td>421</td>\n",
       "      <td>10000085364</td>\n",
       "      <td>8</td>\n",
       "      <td>2023-02-26</td>\n",
       "    </tr>\n",
       "    <tr>\n",
       "      <th>1</th>\n",
       "      <td>1</td>\n",
       "      <td>421</td>\n",
       "      <td>51700010076</td>\n",
       "      <td>8</td>\n",
       "      <td>2023-02-26</td>\n",
       "    </tr>\n",
       "    <tr>\n",
       "      <th>2</th>\n",
       "      <td>1</td>\n",
       "      <td>427</td>\n",
       "      <td>54200000033</td>\n",
       "      <td>8</td>\n",
       "      <td>2023-03-04</td>\n",
       "    </tr>\n",
       "    <tr>\n",
       "      <th>3</th>\n",
       "      <td>1</td>\n",
       "      <td>597</td>\n",
       "      <td>10000085476</td>\n",
       "      <td>18</td>\n",
       "      <td>2023-08-21</td>\n",
       "    </tr>\n",
       "    <tr>\n",
       "      <th>4</th>\n",
       "      <td>1</td>\n",
       "      <td>597</td>\n",
       "      <td>54200029176</td>\n",
       "      <td>18</td>\n",
       "      <td>2023-08-21</td>\n",
       "    </tr>\n",
       "  </tbody>\n",
       "</table>\n",
       "</div>"
      ],
      "text/plain": [
       "   HOUSEHOLD_KEY  DAY   COUPON_UPC  CAMPAIGN       Date\n",
       "0              1  421  10000085364         8 2023-02-26\n",
       "1              1  421  51700010076         8 2023-02-26\n",
       "2              1  427  54200000033         8 2023-03-04\n",
       "3              1  597  10000085476        18 2023-08-21\n",
       "4              1  597  54200029176        18 2023-08-21"
      ]
     },
     "execution_count": 424,
     "metadata": {},
     "output_type": "execute_result"
    }
   ],
   "source": [
    "COUPON_REDEMPT_RAW.head()"
   ]
  },
  {
   "cell_type": "code",
   "execution_count": 425,
   "id": "dd6f1b64-9829-4280-aac6-89efbe3d8c99",
   "metadata": {},
   "outputs": [
    {
     "data": {
      "text/plain": [
       "(2318, 5)"
      ]
     },
     "execution_count": 425,
     "metadata": {},
     "output_type": "execute_result"
    }
   ],
   "source": [
    "COUPON_REDEMPT_RAW.shape"
   ]
  },
  {
   "cell_type": "code",
   "execution_count": 426,
   "id": "c5c85dc8-8496-4fd5-b3bf-d4ffa6b4e8ea",
   "metadata": {},
   "outputs": [
    {
     "data": {
      "text/plain": [
       "556"
      ]
     },
     "execution_count": 426,
     "metadata": {},
     "output_type": "execute_result"
    }
   ],
   "source": [
    "COUPON_REDEMPT_RAW['COUPON_UPC'].nunique()"
   ]
  },
  {
   "cell_type": "code",
   "execution_count": 427,
   "id": "1c526e43-d91d-410a-aa5b-d5b0782361b3",
   "metadata": {},
   "outputs": [
    {
     "data": {
      "text/plain": [
       "<Axes: xlabel='CAMPAIGN'>"
      ]
     },
     "execution_count": 427,
     "metadata": {},
     "output_type": "execute_result"
    },
    {
     "data": {
      "image/png": "[encoded data removed]",
      "text/plain": [
       "<Figure size 640x480 with 1 Axes>"
      ]
     },
     "metadata": {},
     "output_type": "display_data"
    }
   ],
   "source": [
    "COUPON_REDEMPT_RAW.groupby('CAMPAIGN').agg(total_coupon_reedm=('COUPON_UPC','nunique')).sort_values(by='total_coupon_reedm',ascending=False).plot.bar()"
   ]
  },
  {
   "cell_type": "code",
   "execution_count": 428,
   "id": "bbddf044-a009-440e-92ca-241f48f5180a",
   "metadata": {},
   "outputs": [],
   "source": [
    "Coupon_Reedm = COUPON_REDEMPT_RAW.groupby('CAMPAIGN').agg(total_coupon_reedm=('COUPON_UPC','nunique'))"
   ]
  },
  {
   "cell_type": "code",
   "execution_count": 429,
   "id": "23b33b2b-3a37-4f19-9fcb-487fc30b3e63",
   "metadata": {},
   "outputs": [
    {
     "data": {
      "text/html": [
       "<div>\n",
       "<style scoped>\n",
       "    .dataframe tbody tr th:only-of-type {\n",
       "        vertical-align: middle;\n",
       "    }\n",
       "\n",
       "    .dataframe tbody tr th {\n",
       "        vertical-align: top;\n",
       "    }\n",
       "\n",
       "    .dataframe thead th {\n",
       "        text-align: right;\n",
       "    }\n",
       "</style>\n",
       "<table border=\"1\" class=\"dataframe\">\n",
       "  <thead>\n",
       "    <tr style=\"text-align: right;\">\n",
       "      <th></th>\n",
       "      <th>total_coupon_reedm</th>\n",
       "    </tr>\n",
       "    <tr>\n",
       "      <th>CAMPAIGN</th>\n",
       "      <th></th>\n",
       "    </tr>\n",
       "  </thead>\n",
       "  <tbody>\n",
       "    <tr>\n",
       "      <th>1</th>\n",
       "      <td>1</td>\n",
       "    </tr>\n",
       "    <tr>\n",
       "      <th>2</th>\n",
       "      <td>4</td>\n",
       "    </tr>\n",
       "    <tr>\n",
       "      <th>3</th>\n",
       "      <td>2</td>\n",
       "    </tr>\n",
       "    <tr>\n",
       "      <th>4</th>\n",
       "      <td>6</td>\n",
       "    </tr>\n",
       "    <tr>\n",
       "      <th>5</th>\n",
       "      <td>5</td>\n",
       "    </tr>\n",
       "    <tr>\n",
       "      <th>6</th>\n",
       "      <td>1</td>\n",
       "    </tr>\n",
       "    <tr>\n",
       "      <th>7</th>\n",
       "      <td>5</td>\n",
       "    </tr>\n",
       "    <tr>\n",
       "      <th>8</th>\n",
       "      <td>105</td>\n",
       "    </tr>\n",
       "    <tr>\n",
       "      <th>9</th>\n",
       "      <td>14</td>\n",
       "    </tr>\n",
       "    <tr>\n",
       "      <th>10</th>\n",
       "      <td>7</td>\n",
       "    </tr>\n",
       "  </tbody>\n",
       "</table>\n",
       "</div>"
      ],
      "text/plain": [
       "          total_coupon_reedm\n",
       "CAMPAIGN                    \n",
       "1                          1\n",
       "2                          4\n",
       "3                          2\n",
       "4                          6\n",
       "5                          5\n",
       "6                          1\n",
       "7                          5\n",
       "8                        105\n",
       "9                         14\n",
       "10                         7"
      ]
     },
     "execution_count": 429,
     "metadata": {},
     "output_type": "execute_result"
    }
   ],
   "source": [
    "Coupon_Reedm.head(10)"
   ]
  },
  {
   "cell_type": "code",
   "execution_count": 430,
   "id": "a44e94e4-1a38-4aa2-acdc-b6c512888cb3",
   "metadata": {},
   "outputs": [
    {
     "data": {
      "text/html": [
       "<div>\n",
       "<style scoped>\n",
       "    .dataframe tbody tr th:only-of-type {\n",
       "        vertical-align: middle;\n",
       "    }\n",
       "\n",
       "    .dataframe tbody tr th {\n",
       "        vertical-align: top;\n",
       "    }\n",
       "\n",
       "    .dataframe thead th {\n",
       "        text-align: right;\n",
       "    }\n",
       "</style>\n",
       "<table border=\"1\" class=\"dataframe\">\n",
       "  <thead>\n",
       "    <tr style=\"text-align: right;\">\n",
       "      <th></th>\n",
       "      <th>CAMPAIGN</th>\n",
       "      <th>Total_Product</th>\n",
       "      <th>Total_Copoun_Given</th>\n",
       "      <th>DESCRIPTION</th>\n",
       "      <th>START_DAY</th>\n",
       "      <th>END_DAY</th>\n",
       "      <th>START_DATE</th>\n",
       "      <th>END_DATE</th>\n",
       "      <th>Campaign_Duration</th>\n",
       "      <th>Start_Month</th>\n",
       "      <th>End_Month</th>\n",
       "      <th>Start_Year</th>\n",
       "      <th>End_Year</th>\n",
       "    </tr>\n",
       "  </thead>\n",
       "  <tbody>\n",
       "    <tr>\n",
       "      <th>0</th>\n",
       "      <td>1</td>\n",
       "      <td>383</td>\n",
       "      <td>11</td>\n",
       "      <td>TypeB</td>\n",
       "      <td>346</td>\n",
       "      <td>383</td>\n",
       "      <td>2022-12-13</td>\n",
       "      <td>2023-01-19</td>\n",
       "      <td>37</td>\n",
       "      <td>12</td>\n",
       "      <td>01</td>\n",
       "      <td>2022</td>\n",
       "      <td>2023</td>\n",
       "    </tr>\n",
       "    <tr>\n",
       "      <th>1</th>\n",
       "      <td>2</td>\n",
       "      <td>301</td>\n",
       "      <td>16</td>\n",
       "      <td>TypeB</td>\n",
       "      <td>351</td>\n",
       "      <td>383</td>\n",
       "      <td>2022-12-18</td>\n",
       "      <td>2023-01-19</td>\n",
       "      <td>32</td>\n",
       "      <td>12</td>\n",
       "      <td>01</td>\n",
       "      <td>2022</td>\n",
       "      <td>2023</td>\n",
       "    </tr>\n",
       "    <tr>\n",
       "      <th>2</th>\n",
       "      <td>3</td>\n",
       "      <td>506</td>\n",
       "      <td>34</td>\n",
       "      <td>TypeC</td>\n",
       "      <td>356</td>\n",
       "      <td>412</td>\n",
       "      <td>2022-12-23</td>\n",
       "      <td>2023-02-17</td>\n",
       "      <td>56</td>\n",
       "      <td>12</td>\n",
       "      <td>02</td>\n",
       "      <td>2022</td>\n",
       "      <td>2023</td>\n",
       "    </tr>\n",
       "    <tr>\n",
       "      <th>3</th>\n",
       "      <td>4</td>\n",
       "      <td>200</td>\n",
       "      <td>12</td>\n",
       "      <td>TypeB</td>\n",
       "      <td>372</td>\n",
       "      <td>404</td>\n",
       "      <td>2023-01-08</td>\n",
       "      <td>2023-02-09</td>\n",
       "      <td>32</td>\n",
       "      <td>01</td>\n",
       "      <td>02</td>\n",
       "      <td>2023</td>\n",
       "      <td>2023</td>\n",
       "    </tr>\n",
       "    <tr>\n",
       "      <th>4</th>\n",
       "      <td>5</td>\n",
       "      <td>443</td>\n",
       "      <td>11</td>\n",
       "      <td>TypeB</td>\n",
       "      <td>377</td>\n",
       "      <td>411</td>\n",
       "      <td>2023-01-13</td>\n",
       "      <td>2023-02-16</td>\n",
       "      <td>34</td>\n",
       "      <td>01</td>\n",
       "      <td>02</td>\n",
       "      <td>2023</td>\n",
       "      <td>2023</td>\n",
       "    </tr>\n",
       "  </tbody>\n",
       "</table>\n",
       "</div>"
      ],
      "text/plain": [
       "   CAMPAIGN  Total_Product  Total_Copoun_Given DESCRIPTION  START_DAY  \\\n",
       "0         1            383                  11       TypeB        346   \n",
       "1         2            301                  16       TypeB        351   \n",
       "2         3            506                  34       TypeC        356   \n",
       "3         4            200                  12       TypeB        372   \n",
       "4         5            443                  11       TypeB        377   \n",
       "\n",
       "   END_DAY START_DATE   END_DATE  Campaign_Duration Start_Month End_Month  \\\n",
       "0      383 2022-12-13 2023-01-19                 37          12        01   \n",
       "1      383 2022-12-18 2023-01-19                 32          12        01   \n",
       "2      412 2022-12-23 2023-02-17                 56          12        02   \n",
       "3      404 2023-01-08 2023-02-09                 32          01        02   \n",
       "4      411 2023-01-13 2023-02-16                 34          01        02   \n",
       "\n",
       "  Start_Year End_Year  \n",
       "0       2022     2023  \n",
       "1       2022     2023  \n",
       "2       2022     2023  \n",
       "3       2023     2023  \n",
       "4       2023     2023  "
      ]
     },
     "execution_count": 430,
     "metadata": {},
     "output_type": "execute_result"
    }
   ],
   "source": [
    "COUPON_GIVEN.head()"
   ]
  },
  {
   "cell_type": "code",
   "execution_count": 431,
   "id": "2bfe636a-96a3-403e-a1bc-7e6d9d50cb2c",
   "metadata": {},
   "outputs": [
    {
     "data": {
      "text/html": [
       "<div>\n",
       "<style scoped>\n",
       "    .dataframe tbody tr th:only-of-type {\n",
       "        vertical-align: middle;\n",
       "    }\n",
       "\n",
       "    .dataframe tbody tr th {\n",
       "        vertical-align: top;\n",
       "    }\n",
       "\n",
       "    .dataframe thead th {\n",
       "        text-align: right;\n",
       "    }\n",
       "</style>\n",
       "<table border=\"1\" class=\"dataframe\">\n",
       "  <thead>\n",
       "    <tr style=\"text-align: right;\">\n",
       "      <th></th>\n",
       "      <th>total_coupon_reedm</th>\n",
       "    </tr>\n",
       "    <tr>\n",
       "      <th>CAMPAIGN</th>\n",
       "      <th></th>\n",
       "    </tr>\n",
       "  </thead>\n",
       "  <tbody>\n",
       "    <tr>\n",
       "      <th>1</th>\n",
       "      <td>1</td>\n",
       "    </tr>\n",
       "    <tr>\n",
       "      <th>2</th>\n",
       "      <td>4</td>\n",
       "    </tr>\n",
       "    <tr>\n",
       "      <th>3</th>\n",
       "      <td>2</td>\n",
       "    </tr>\n",
       "    <tr>\n",
       "      <th>4</th>\n",
       "      <td>6</td>\n",
       "    </tr>\n",
       "    <tr>\n",
       "      <th>5</th>\n",
       "      <td>5</td>\n",
       "    </tr>\n",
       "  </tbody>\n",
       "</table>\n",
       "</div>"
      ],
      "text/plain": [
       "          total_coupon_reedm\n",
       "CAMPAIGN                    \n",
       "1                          1\n",
       "2                          4\n",
       "3                          2\n",
       "4                          6\n",
       "5                          5"
      ]
     },
     "execution_count": 431,
     "metadata": {},
     "output_type": "execute_result"
    }
   ],
   "source": [
    "Coupon_Reedm.head()"
   ]
  },
  {
   "cell_type": "code",
   "execution_count": 432,
   "id": "018eecbf-db9d-4572-9015-9e2d14e8d7fa",
   "metadata": {},
   "outputs": [],
   "source": [
    "Coupon_Reedm = Coupon_Reedm.merge(right= COUPON_GIVEN,on='CAMPAIGN',how='left')"
   ]
  },
  {
   "cell_type": "code",
   "execution_count": 433,
   "id": "04df15c4-ed7f-4163-807e-0df83cdd62a0",
   "metadata": {},
   "outputs": [
    {
     "data": {
      "text/html": [
       "<div>\n",
       "<style scoped>\n",
       "    .dataframe tbody tr th:only-of-type {\n",
       "        vertical-align: middle;\n",
       "    }\n",
       "\n",
       "    .dataframe tbody tr th {\n",
       "        vertical-align: top;\n",
       "    }\n",
       "\n",
       "    .dataframe thead th {\n",
       "        text-align: right;\n",
       "    }\n",
       "</style>\n",
       "<table border=\"1\" class=\"dataframe\">\n",
       "  <thead>\n",
       "    <tr style=\"text-align: right;\">\n",
       "      <th></th>\n",
       "      <th>CAMPAIGN</th>\n",
       "      <th>total_coupon_reedm</th>\n",
       "      <th>Total_Product</th>\n",
       "      <th>Total_Copoun_Given</th>\n",
       "      <th>DESCRIPTION</th>\n",
       "      <th>START_DAY</th>\n",
       "      <th>END_DAY</th>\n",
       "      <th>START_DATE</th>\n",
       "      <th>END_DATE</th>\n",
       "      <th>Campaign_Duration</th>\n",
       "      <th>Start_Month</th>\n",
       "      <th>End_Month</th>\n",
       "      <th>Start_Year</th>\n",
       "      <th>End_Year</th>\n",
       "    </tr>\n",
       "  </thead>\n",
       "  <tbody>\n",
       "    <tr>\n",
       "      <th>0</th>\n",
       "      <td>1</td>\n",
       "      <td>1</td>\n",
       "      <td>383</td>\n",
       "      <td>11</td>\n",
       "      <td>TypeB</td>\n",
       "      <td>346</td>\n",
       "      <td>383</td>\n",
       "      <td>2022-12-13</td>\n",
       "      <td>2023-01-19</td>\n",
       "      <td>37</td>\n",
       "      <td>12</td>\n",
       "      <td>01</td>\n",
       "      <td>2022</td>\n",
       "      <td>2023</td>\n",
       "    </tr>\n",
       "    <tr>\n",
       "      <th>1</th>\n",
       "      <td>2</td>\n",
       "      <td>4</td>\n",
       "      <td>301</td>\n",
       "      <td>16</td>\n",
       "      <td>TypeB</td>\n",
       "      <td>351</td>\n",
       "      <td>383</td>\n",
       "      <td>2022-12-18</td>\n",
       "      <td>2023-01-19</td>\n",
       "      <td>32</td>\n",
       "      <td>12</td>\n",
       "      <td>01</td>\n",
       "      <td>2022</td>\n",
       "      <td>2023</td>\n",
       "    </tr>\n",
       "    <tr>\n",
       "      <th>2</th>\n",
       "      <td>3</td>\n",
       "      <td>2</td>\n",
       "      <td>506</td>\n",
       "      <td>34</td>\n",
       "      <td>TypeC</td>\n",
       "      <td>356</td>\n",
       "      <td>412</td>\n",
       "      <td>2022-12-23</td>\n",
       "      <td>2023-02-17</td>\n",
       "      <td>56</td>\n",
       "      <td>12</td>\n",
       "      <td>02</td>\n",
       "      <td>2022</td>\n",
       "      <td>2023</td>\n",
       "    </tr>\n",
       "    <tr>\n",
       "      <th>3</th>\n",
       "      <td>4</td>\n",
       "      <td>6</td>\n",
       "      <td>200</td>\n",
       "      <td>12</td>\n",
       "      <td>TypeB</td>\n",
       "      <td>372</td>\n",
       "      <td>404</td>\n",
       "      <td>2023-01-08</td>\n",
       "      <td>2023-02-09</td>\n",
       "      <td>32</td>\n",
       "      <td>01</td>\n",
       "      <td>02</td>\n",
       "      <td>2023</td>\n",
       "      <td>2023</td>\n",
       "    </tr>\n",
       "    <tr>\n",
       "      <th>4</th>\n",
       "      <td>5</td>\n",
       "      <td>5</td>\n",
       "      <td>443</td>\n",
       "      <td>11</td>\n",
       "      <td>TypeB</td>\n",
       "      <td>377</td>\n",
       "      <td>411</td>\n",
       "      <td>2023-01-13</td>\n",
       "      <td>2023-02-16</td>\n",
       "      <td>34</td>\n",
       "      <td>01</td>\n",
       "      <td>02</td>\n",
       "      <td>2023</td>\n",
       "      <td>2023</td>\n",
       "    </tr>\n",
       "  </tbody>\n",
       "</table>\n",
       "</div>"
      ],
      "text/plain": [
       "   CAMPAIGN  total_coupon_reedm  Total_Product  Total_Copoun_Given  \\\n",
       "0         1                   1            383                  11   \n",
       "1         2                   4            301                  16   \n",
       "2         3                   2            506                  34   \n",
       "3         4                   6            200                  12   \n",
       "4         5                   5            443                  11   \n",
       "\n",
       "  DESCRIPTION  START_DAY  END_DAY START_DATE   END_DATE  Campaign_Duration  \\\n",
       "0       TypeB        346      383 2022-12-13 2023-01-19                 37   \n",
       "1       TypeB        351      383 2022-12-18 2023-01-19                 32   \n",
       "2       TypeC        356      412 2022-12-23 2023-02-17                 56   \n",
       "3       TypeB        372      404 2023-01-08 2023-02-09                 32   \n",
       "4       TypeB        377      411 2023-01-13 2023-02-16                 34   \n",
       "\n",
       "  Start_Month End_Month Start_Year End_Year  \n",
       "0          12        01       2022     2023  \n",
       "1          12        01       2022     2023  \n",
       "2          12        02       2022     2023  \n",
       "3          01        02       2023     2023  \n",
       "4          01        02       2023     2023  "
      ]
     },
     "execution_count": 433,
     "metadata": {},
     "output_type": "execute_result"
    }
   ],
   "source": [
    "Coupon_Reedm.head()"
   ]
  },
  {
   "cell_type": "code",
   "execution_count": 434,
   "id": "60d6b395-3e35-431b-a1b9-1fc061e63fa0",
   "metadata": {},
   "outputs": [],
   "source": [
    "Coupon_Reedm['Coupon_reedm_rate']=(Coupon_Reedm['total_coupon_reedm']/Coupon_Reedm['Total_Copoun_Given'])*100"
   ]
  },
  {
   "cell_type": "code",
   "execution_count": 435,
   "id": "0df3edef-8a6b-467a-baa9-e17d47dfc0a9",
   "metadata": {},
   "outputs": [
    {
     "data": {
      "text/plain": [
       "<Axes: xlabel='CAMPAIGN', ylabel='Coupon_reedm_rate'>"
      ]
     },
     "execution_count": 435,
     "metadata": {},
     "output_type": "execute_result"
    },
    {
     "data": {
      "image/png": "[encoded data removed]",
      "text/plain": [
       "<Figure size 1500x500 with 1 Axes>"
      ]
     },
     "metadata": {},
     "output_type": "display_data"
    }
   ],
   "source": [
    "plt.figure(figsize=(15,5))\n",
    "sns.barplot(x='CAMPAIGN',y='Coupon_reedm_rate',data=Coupon_Reedm)"
   ]
  },
  {
   "cell_type": "code",
   "execution_count": 436,
   "id": "260d7681-313e-4e9f-add6-1731e059f0a2",
   "metadata": {},
   "outputs": [
    {
     "data": {
      "text/html": [
       "<div>\n",
       "<style scoped>\n",
       "    .dataframe tbody tr th:only-of-type {\n",
       "        vertical-align: middle;\n",
       "    }\n",
       "\n",
       "    .dataframe tbody tr th {\n",
       "        vertical-align: top;\n",
       "    }\n",
       "\n",
       "    .dataframe thead th {\n",
       "        text-align: right;\n",
       "    }\n",
       "</style>\n",
       "<table border=\"1\" class=\"dataframe\">\n",
       "  <thead>\n",
       "    <tr style=\"text-align: right;\">\n",
       "      <th></th>\n",
       "      <th>HOUSEHOLD_KEY</th>\n",
       "      <th>BASKET_ID</th>\n",
       "      <th>DAY</th>\n",
       "      <th>PRODUCT_ID</th>\n",
       "      <th>QUANTITY</th>\n",
       "      <th>SALES_VALUE</th>\n",
       "      <th>STORE_ID</th>\n",
       "      <th>RETAIL_DISC</th>\n",
       "      <th>TRANS_TIME</th>\n",
       "      <th>WEEK_NO</th>\n",
       "      <th>COUPON_DISC</th>\n",
       "      <th>COUPON_MATCH_DISC</th>\n",
       "      <th>Date</th>\n",
       "    </tr>\n",
       "  </thead>\n",
       "  <tbody>\n",
       "    <tr>\n",
       "      <th>0</th>\n",
       "      <td>2375</td>\n",
       "      <td>26984851472</td>\n",
       "      <td>1</td>\n",
       "      <td>1004906</td>\n",
       "      <td>1</td>\n",
       "      <td>1.39</td>\n",
       "      <td>364</td>\n",
       "      <td>-0.60</td>\n",
       "      <td>1631</td>\n",
       "      <td>1</td>\n",
       "      <td>0</td>\n",
       "      <td>0</td>\n",
       "      <td>2022-01-02</td>\n",
       "    </tr>\n",
       "    <tr>\n",
       "      <th>1</th>\n",
       "      <td>2375</td>\n",
       "      <td>26984851472</td>\n",
       "      <td>1</td>\n",
       "      <td>1033142</td>\n",
       "      <td>1</td>\n",
       "      <td>0.82</td>\n",
       "      <td>364</td>\n",
       "      <td>0.00</td>\n",
       "      <td>1631</td>\n",
       "      <td>1</td>\n",
       "      <td>0</td>\n",
       "      <td>0</td>\n",
       "      <td>2022-01-02</td>\n",
       "    </tr>\n",
       "    <tr>\n",
       "      <th>2</th>\n",
       "      <td>2375</td>\n",
       "      <td>26984851472</td>\n",
       "      <td>1</td>\n",
       "      <td>1036325</td>\n",
       "      <td>1</td>\n",
       "      <td>0.99</td>\n",
       "      <td>364</td>\n",
       "      <td>-0.30</td>\n",
       "      <td>1631</td>\n",
       "      <td>1</td>\n",
       "      <td>0</td>\n",
       "      <td>0</td>\n",
       "      <td>2022-01-02</td>\n",
       "    </tr>\n",
       "    <tr>\n",
       "      <th>3</th>\n",
       "      <td>2375</td>\n",
       "      <td>26984851472</td>\n",
       "      <td>1</td>\n",
       "      <td>1082185</td>\n",
       "      <td>1</td>\n",
       "      <td>1.21</td>\n",
       "      <td>364</td>\n",
       "      <td>0.00</td>\n",
       "      <td>1631</td>\n",
       "      <td>1</td>\n",
       "      <td>0</td>\n",
       "      <td>0</td>\n",
       "      <td>2022-01-02</td>\n",
       "    </tr>\n",
       "    <tr>\n",
       "      <th>4</th>\n",
       "      <td>2375</td>\n",
       "      <td>26984851472</td>\n",
       "      <td>1</td>\n",
       "      <td>8160430</td>\n",
       "      <td>1</td>\n",
       "      <td>1.50</td>\n",
       "      <td>364</td>\n",
       "      <td>-0.39</td>\n",
       "      <td>1631</td>\n",
       "      <td>1</td>\n",
       "      <td>0</td>\n",
       "      <td>0</td>\n",
       "      <td>2022-01-02</td>\n",
       "    </tr>\n",
       "  </tbody>\n",
       "</table>\n",
       "</div>"
      ],
      "text/plain": [
       "   HOUSEHOLD_KEY    BASKET_ID  DAY  PRODUCT_ID  QUANTITY  SALES_VALUE  \\\n",
       "0           2375  26984851472    1     1004906         1         1.39   \n",
       "1           2375  26984851472    1     1033142         1         0.82   \n",
       "2           2375  26984851472    1     1036325         1         0.99   \n",
       "3           2375  26984851472    1     1082185         1         1.21   \n",
       "4           2375  26984851472    1     8160430         1         1.50   \n",
       "\n",
       "   STORE_ID  RETAIL_DISC  TRANS_TIME  WEEK_NO  COUPON_DISC  COUPON_MATCH_DISC  \\\n",
       "0       364        -0.60        1631        1            0                  0   \n",
       "1       364         0.00        1631        1            0                  0   \n",
       "2       364        -0.30        1631        1            0                  0   \n",
       "3       364         0.00        1631        1            0                  0   \n",
       "4       364        -0.39        1631        1            0                  0   \n",
       "\n",
       "        Date  \n",
       "0 2022-01-02  \n",
       "1 2022-01-02  \n",
       "2 2022-01-02  \n",
       "3 2022-01-02  \n",
       "4 2022-01-02  "
      ]
     },
     "execution_count": 436,
     "metadata": {},
     "output_type": "execute_result"
    }
   ],
   "source": [
    "TRANSACTION_RAW.head()"
   ]
  },
  {
   "cell_type": "code",
   "execution_count": 437,
   "id": "572f2616-4fc2-4ca3-9078-705dd33948dd",
   "metadata": {},
   "outputs": [],
   "source": [
    "Tnx_Bucket = TRANSACTION_RAW.groupby('BASKET_ID').agg({'SALES_VALUE':'sum','COUPON_DISC':'sum','COUPON_MATCH_DISC':'sum'})"
   ]
  },
  {
   "cell_type": "code",
   "execution_count": 438,
   "id": "2db15d09-d068-40b9-acc3-68d33497b56f",
   "metadata": {},
   "outputs": [
    {
     "data": {
      "text/html": [
       "<div>\n",
       "<style scoped>\n",
       "    .dataframe tbody tr th:only-of-type {\n",
       "        vertical-align: middle;\n",
       "    }\n",
       "\n",
       "    .dataframe tbody tr th {\n",
       "        vertical-align: top;\n",
       "    }\n",
       "\n",
       "    .dataframe thead th {\n",
       "        text-align: right;\n",
       "    }\n",
       "</style>\n",
       "<table border=\"1\" class=\"dataframe\">\n",
       "  <thead>\n",
       "    <tr style=\"text-align: right;\">\n",
       "      <th></th>\n",
       "      <th>SALES_VALUE</th>\n",
       "      <th>COUPON_DISC</th>\n",
       "      <th>COUPON_MATCH_DISC</th>\n",
       "    </tr>\n",
       "    <tr>\n",
       "      <th>BASKET_ID</th>\n",
       "      <th></th>\n",
       "      <th></th>\n",
       "      <th></th>\n",
       "    </tr>\n",
       "  </thead>\n",
       "  <tbody>\n",
       "    <tr>\n",
       "      <th>26984851472</th>\n",
       "      <td>5.91</td>\n",
       "      <td>0</td>\n",
       "      <td>0</td>\n",
       "    </tr>\n",
       "    <tr>\n",
       "      <th>26984851516</th>\n",
       "      <td>12.43</td>\n",
       "      <td>0</td>\n",
       "      <td>0</td>\n",
       "    </tr>\n",
       "    <tr>\n",
       "      <th>26984896261</th>\n",
       "      <td>11.37</td>\n",
       "      <td>0</td>\n",
       "      <td>0</td>\n",
       "    </tr>\n",
       "    <tr>\n",
       "      <th>26984905972</th>\n",
       "      <td>2.55</td>\n",
       "      <td>0</td>\n",
       "      <td>0</td>\n",
       "    </tr>\n",
       "    <tr>\n",
       "      <th>26984945254</th>\n",
       "      <td>3.53</td>\n",
       "      <td>0</td>\n",
       "      <td>0</td>\n",
       "    </tr>\n",
       "  </tbody>\n",
       "</table>\n",
       "</div>"
      ],
      "text/plain": [
       "             SALES_VALUE  COUPON_DISC  COUPON_MATCH_DISC\n",
       "BASKET_ID                                               \n",
       "26984851472         5.91            0                  0\n",
       "26984851516        12.43            0                  0\n",
       "26984896261        11.37            0                  0\n",
       "26984905972         2.55            0                  0\n",
       "26984945254         3.53            0                  0"
      ]
     },
     "execution_count": 438,
     "metadata": {},
     "output_type": "execute_result"
    }
   ],
   "source": [
    "Tnx_Bucket.head()"
   ]
  },
  {
   "cell_type": "code",
   "execution_count": 439,
   "id": "7e37f086-9786-4d83-910d-6de04b317c7b",
   "metadata": {},
   "outputs": [],
   "source": [
    "Tnx_Bucket['Use_Coupon']=Tnx_Bucket['COUPON_DISC']!=0"
   ]
  },
  {
   "cell_type": "code",
   "execution_count": 440,
   "id": "168268dd-d509-4c59-8883-1ec1f6210342",
   "metadata": {},
   "outputs": [
    {
     "data": {
      "text/plain": [
       "Use_Coupon\n",
       "False    47892\n",
       "True      2587\n",
       "Name: count, dtype: int64"
      ]
     },
     "execution_count": 440,
     "metadata": {},
     "output_type": "execute_result"
    }
   ],
   "source": [
    "\n",
    "Tnx_Bucket['Use_Coupon'].value_counts().head()"
   ]
  },
  {
   "cell_type": "code",
   "execution_count": 441,
   "id": "05057ba6-9b49-4275-84a8-7157ceb2eda0",
   "metadata": {},
   "outputs": [
    {
     "data": {
      "text/html": [
       "<div>\n",
       "<style scoped>\n",
       "    .dataframe tbody tr th:only-of-type {\n",
       "        vertical-align: middle;\n",
       "    }\n",
       "\n",
       "    .dataframe tbody tr th {\n",
       "        vertical-align: top;\n",
       "    }\n",
       "\n",
       "    .dataframe thead th {\n",
       "        text-align: right;\n",
       "    }\n",
       "</style>\n",
       "<table border=\"1\" class=\"dataframe\">\n",
       "  <thead>\n",
       "    <tr style=\"text-align: right;\">\n",
       "      <th></th>\n",
       "      <th>SALES_VALUE</th>\n",
       "      <th>COUPON_DISC</th>\n",
       "      <th>COUPON_MATCH_DISC</th>\n",
       "      <th>Use_Coupon</th>\n",
       "    </tr>\n",
       "    <tr>\n",
       "      <th>BASKET_ID</th>\n",
       "      <th></th>\n",
       "      <th></th>\n",
       "      <th></th>\n",
       "      <th></th>\n",
       "    </tr>\n",
       "  </thead>\n",
       "  <tbody>\n",
       "    <tr>\n",
       "      <th>27534431747</th>\n",
       "      <td>465.70</td>\n",
       "      <td>-3</td>\n",
       "      <td>-1</td>\n",
       "      <td>True</td>\n",
       "    </tr>\n",
       "    <tr>\n",
       "      <th>27798435271</th>\n",
       "      <td>463.17</td>\n",
       "      <td>-2</td>\n",
       "      <td>-2</td>\n",
       "      <td>True</td>\n",
       "    </tr>\n",
       "    <tr>\n",
       "      <th>27093315740</th>\n",
       "      <td>400.79</td>\n",
       "      <td>0</td>\n",
       "      <td>0</td>\n",
       "      <td>False</td>\n",
       "    </tr>\n",
       "    <tr>\n",
       "      <th>28941937397</th>\n",
       "      <td>400.56</td>\n",
       "      <td>-1</td>\n",
       "      <td>0</td>\n",
       "      <td>True</td>\n",
       "    </tr>\n",
       "    <tr>\n",
       "      <th>28210676830</th>\n",
       "      <td>391.05</td>\n",
       "      <td>0</td>\n",
       "      <td>0</td>\n",
       "      <td>False</td>\n",
       "    </tr>\n",
       "    <tr>\n",
       "      <th>27950470466</th>\n",
       "      <td>376.38</td>\n",
       "      <td>-2</td>\n",
       "      <td>0</td>\n",
       "      <td>True</td>\n",
       "    </tr>\n",
       "    <tr>\n",
       "      <th>29034966796</th>\n",
       "      <td>369.48</td>\n",
       "      <td>0</td>\n",
       "      <td>0</td>\n",
       "      <td>False</td>\n",
       "    </tr>\n",
       "    <tr>\n",
       "      <th>28919755135</th>\n",
       "      <td>368.95</td>\n",
       "      <td>0</td>\n",
       "      <td>0</td>\n",
       "      <td>False</td>\n",
       "    </tr>\n",
       "    <tr>\n",
       "      <th>28675556859</th>\n",
       "      <td>365.86</td>\n",
       "      <td>-3</td>\n",
       "      <td>0</td>\n",
       "      <td>True</td>\n",
       "    </tr>\n",
       "    <tr>\n",
       "      <th>29221810662</th>\n",
       "      <td>358.98</td>\n",
       "      <td>0</td>\n",
       "      <td>0</td>\n",
       "      <td>False</td>\n",
       "    </tr>\n",
       "  </tbody>\n",
       "</table>\n",
       "</div>"
      ],
      "text/plain": [
       "             SALES_VALUE  COUPON_DISC  COUPON_MATCH_DISC  Use_Coupon\n",
       "BASKET_ID                                                           \n",
       "27534431747       465.70           -3                 -1        True\n",
       "27798435271       463.17           -2                 -2        True\n",
       "27093315740       400.79            0                  0       False\n",
       "28941937397       400.56           -1                  0        True\n",
       "28210676830       391.05            0                  0       False\n",
       "27950470466       376.38           -2                  0        True\n",
       "29034966796       369.48            0                  0       False\n",
       "28919755135       368.95            0                  0       False\n",
       "28675556859       365.86           -3                  0        True\n",
       "29221810662       358.98            0                  0       False"
      ]
     },
     "execution_count": 441,
     "metadata": {},
     "output_type": "execute_result"
    }
   ],
   "source": [
    "Tnx_Bucket.sort_values('SALES_VALUE',ascending=False).head(10)"
   ]
  },
  {
   "cell_type": "code",
   "execution_count": 442,
   "id": "124dba70-0f5c-49b8-acc8-a8f1e69ec151",
   "metadata": {},
   "outputs": [
    {
     "data": {
      "text/plain": [
       "np.float64(26.93)"
      ]
     },
     "execution_count": 442,
     "metadata": {},
     "output_type": "execute_result"
    }
   ],
   "source": [
    "round(Tnx_Bucket['SALES_VALUE'].mean(),2)"
   ]
  },
  {
   "cell_type": "code",
   "execution_count": 443,
   "id": "11600c30-b66c-4f23-9b25-412bd6301950",
   "metadata": {},
   "outputs": [],
   "source": [
    "Tnx_desc = TRANSACTION_RAW.merge(right= Tnx_Bucket,on='BASKET_ID',how='left')"
   ]
  },
  {
   "cell_type": "code",
   "execution_count": 444,
   "id": "b31aa0d8-63da-4bb4-b93f-8c88215d0fe9",
   "metadata": {},
   "outputs": [],
   "source": [
    "Tnx_desc= Tnx_desc.merge(right=PRODUCT_RAW,on='PRODUCT_ID',how='left')"
   ]
  },
  {
   "cell_type": "code",
   "execution_count": 445,
   "id": "cc4ec0a7-f0f5-4d66-a978-6a890b9085d2",
   "metadata": {},
   "outputs": [
    {
     "data": {
      "text/html": [
       "<div>\n",
       "<style scoped>\n",
       "    .dataframe tbody tr th:only-of-type {\n",
       "        vertical-align: middle;\n",
       "    }\n",
       "\n",
       "    .dataframe tbody tr th {\n",
       "        vertical-align: top;\n",
       "    }\n",
       "\n",
       "    .dataframe thead th {\n",
       "        text-align: right;\n",
       "    }\n",
       "</style>\n",
       "<table border=\"1\" class=\"dataframe\">\n",
       "  <thead>\n",
       "    <tr style=\"text-align: right;\">\n",
       "      <th></th>\n",
       "      <th>HOUSEHOLD_KEY</th>\n",
       "      <th>BASKET_ID</th>\n",
       "      <th>DAY</th>\n",
       "      <th>PRODUCT_ID</th>\n",
       "      <th>QUANTITY</th>\n",
       "      <th>SALES_VALUE_x</th>\n",
       "      <th>STORE_ID</th>\n",
       "      <th>RETAIL_DISC</th>\n",
       "      <th>TRANS_TIME</th>\n",
       "      <th>WEEK_NO</th>\n",
       "      <th>...</th>\n",
       "      <th>SALES_VALUE_y</th>\n",
       "      <th>COUPON_DISC_y</th>\n",
       "      <th>COUPON_MATCH_DISC_y</th>\n",
       "      <th>Use_Coupon</th>\n",
       "      <th>MANUFACTURER</th>\n",
       "      <th>DEPARTMENT</th>\n",
       "      <th>BRAND</th>\n",
       "      <th>COMMODITY_DESC</th>\n",
       "      <th>SUB_COMMODITY_DESC</th>\n",
       "      <th>CURR_SIZE_OF_PRODUCT</th>\n",
       "    </tr>\n",
       "  </thead>\n",
       "  <tbody>\n",
       "    <tr>\n",
       "      <th>0</th>\n",
       "      <td>2375</td>\n",
       "      <td>26984851472</td>\n",
       "      <td>1</td>\n",
       "      <td>1004906</td>\n",
       "      <td>1</td>\n",
       "      <td>1.39</td>\n",
       "      <td>364</td>\n",
       "      <td>-0.6</td>\n",
       "      <td>1631</td>\n",
       "      <td>1</td>\n",
       "      <td>...</td>\n",
       "      <td>5.91</td>\n",
       "      <td>0</td>\n",
       "      <td>0</td>\n",
       "      <td>False</td>\n",
       "      <td>69</td>\n",
       "      <td>PRODUCE</td>\n",
       "      <td>Private</td>\n",
       "      <td>POTATOES</td>\n",
       "      <td>POTATOES RUSSET (BULK&amp;BAG)</td>\n",
       "      <td>5 LB</td>\n",
       "    </tr>\n",
       "    <tr>\n",
       "      <th>1</th>\n",
       "      <td>2375</td>\n",
       "      <td>26984851472</td>\n",
       "      <td>1</td>\n",
       "      <td>1004906</td>\n",
       "      <td>1</td>\n",
       "      <td>1.39</td>\n",
       "      <td>364</td>\n",
       "      <td>-0.6</td>\n",
       "      <td>1631</td>\n",
       "      <td>1</td>\n",
       "      <td>...</td>\n",
       "      <td>5.91</td>\n",
       "      <td>0</td>\n",
       "      <td>0</td>\n",
       "      <td>False</td>\n",
       "      <td>69</td>\n",
       "      <td>PRODUCE</td>\n",
       "      <td>Private</td>\n",
       "      <td>POTATOES</td>\n",
       "      <td>POTATOES RUSSET (BULK&amp;BAG)</td>\n",
       "      <td>5 LB</td>\n",
       "    </tr>\n",
       "    <tr>\n",
       "      <th>2</th>\n",
       "      <td>2375</td>\n",
       "      <td>26984851472</td>\n",
       "      <td>1</td>\n",
       "      <td>1033142</td>\n",
       "      <td>1</td>\n",
       "      <td>0.82</td>\n",
       "      <td>364</td>\n",
       "      <td>0.0</td>\n",
       "      <td>1631</td>\n",
       "      <td>1</td>\n",
       "      <td>...</td>\n",
       "      <td>5.91</td>\n",
       "      <td>0</td>\n",
       "      <td>0</td>\n",
       "      <td>False</td>\n",
       "      <td>2</td>\n",
       "      <td>PRODUCE</td>\n",
       "      <td>National</td>\n",
       "      <td>ONIONS</td>\n",
       "      <td>ONIONS SWEET (BULK&amp;BAG)</td>\n",
       "      <td>40 LB</td>\n",
       "    </tr>\n",
       "    <tr>\n",
       "      <th>3</th>\n",
       "      <td>2375</td>\n",
       "      <td>26984851472</td>\n",
       "      <td>1</td>\n",
       "      <td>1033142</td>\n",
       "      <td>1</td>\n",
       "      <td>0.82</td>\n",
       "      <td>364</td>\n",
       "      <td>0.0</td>\n",
       "      <td>1631</td>\n",
       "      <td>1</td>\n",
       "      <td>...</td>\n",
       "      <td>5.91</td>\n",
       "      <td>0</td>\n",
       "      <td>0</td>\n",
       "      <td>False</td>\n",
       "      <td>2</td>\n",
       "      <td>PRODUCE</td>\n",
       "      <td>National</td>\n",
       "      <td>ONIONS</td>\n",
       "      <td>ONIONS SWEET (BULK&amp;BAG)</td>\n",
       "      <td>40 LB</td>\n",
       "    </tr>\n",
       "    <tr>\n",
       "      <th>4</th>\n",
       "      <td>2375</td>\n",
       "      <td>26984851472</td>\n",
       "      <td>1</td>\n",
       "      <td>1036325</td>\n",
       "      <td>1</td>\n",
       "      <td>0.99</td>\n",
       "      <td>364</td>\n",
       "      <td>-0.3</td>\n",
       "      <td>1631</td>\n",
       "      <td>1</td>\n",
       "      <td>...</td>\n",
       "      <td>5.91</td>\n",
       "      <td>0</td>\n",
       "      <td>0</td>\n",
       "      <td>False</td>\n",
       "      <td>69</td>\n",
       "      <td>PRODUCE</td>\n",
       "      <td>Private</td>\n",
       "      <td>VEGETABLES - ALL OTHERS</td>\n",
       "      <td>CELERY</td>\n",
       "      <td>Not Specified</td>\n",
       "    </tr>\n",
       "  </tbody>\n",
       "</table>\n",
       "<p>5 rows × 23 columns</p>\n",
       "</div>"
      ],
      "text/plain": [
       "   HOUSEHOLD_KEY    BASKET_ID  DAY  PRODUCT_ID  QUANTITY  SALES_VALUE_x  \\\n",
       "0           2375  26984851472    1     1004906         1           1.39   \n",
       "1           2375  26984851472    1     1004906         1           1.39   \n",
       "2           2375  26984851472    1     1033142         1           0.82   \n",
       "3           2375  26984851472    1     1033142         1           0.82   \n",
       "4           2375  26984851472    1     1036325         1           0.99   \n",
       "\n",
       "   STORE_ID  RETAIL_DISC  TRANS_TIME  WEEK_NO  ...  SALES_VALUE_y  \\\n",
       "0       364         -0.6        1631        1  ...           5.91   \n",
       "1       364         -0.6        1631        1  ...           5.91   \n",
       "2       364          0.0        1631        1  ...           5.91   \n",
       "3       364          0.0        1631        1  ...           5.91   \n",
       "4       364         -0.3        1631        1  ...           5.91   \n",
       "\n",
       "   COUPON_DISC_y COUPON_MATCH_DISC_y  Use_Coupon  MANUFACTURER  DEPARTMENT  \\\n",
       "0              0                   0       False            69     PRODUCE   \n",
       "1              0                   0       False            69     PRODUCE   \n",
       "2              0                   0       False             2     PRODUCE   \n",
       "3              0                   0       False             2     PRODUCE   \n",
       "4              0                   0       False            69     PRODUCE   \n",
       "\n",
       "      BRAND           COMMODITY_DESC          SUB_COMMODITY_DESC  \\\n",
       "0   Private                 POTATOES  POTATOES RUSSET (BULK&BAG)   \n",
       "1   Private                 POTATOES  POTATOES RUSSET (BULK&BAG)   \n",
       "2  National                   ONIONS     ONIONS SWEET (BULK&BAG)   \n",
       "3  National                   ONIONS     ONIONS SWEET (BULK&BAG)   \n",
       "4   Private  VEGETABLES - ALL OTHERS                      CELERY   \n",
       "\n",
       "  CURR_SIZE_OF_PRODUCT  \n",
       "0                 5 LB  \n",
       "1                 5 LB  \n",
       "2                40 LB  \n",
       "3                40 LB  \n",
       "4        Not Specified  \n",
       "\n",
       "[5 rows x 23 columns]"
      ]
     },
     "execution_count": 445,
     "metadata": {},
     "output_type": "execute_result"
    }
   ],
   "source": [
    "Tnx_desc.head()"
   ]
  },
  {
   "cell_type": "code",
   "execution_count": 446,
   "id": "8c39ac7b-6796-4d81-aa36-f9c509b13b20",
   "metadata": {},
   "outputs": [],
   "source": [
    "Tnx_desc.drop(['SALES_VALUE_y','COUPON_DISC_y','COUPON_MATCH_DISC_y'],axis=1,inplace=True)"
   ]
  },
  {
   "cell_type": "code",
   "execution_count": 447,
   "id": "9980c887-1102-491e-8e5d-1171e59f93fb",
   "metadata": {},
   "outputs": [
    {
     "data": {
      "text/html": [
       "<div>\n",
       "<style scoped>\n",
       "    .dataframe tbody tr th:only-of-type {\n",
       "        vertical-align: middle;\n",
       "    }\n",
       "\n",
       "    .dataframe tbody tr th {\n",
       "        vertical-align: top;\n",
       "    }\n",
       "\n",
       "    .dataframe thead th {\n",
       "        text-align: right;\n",
       "    }\n",
       "</style>\n",
       "<table border=\"1\" class=\"dataframe\">\n",
       "  <thead>\n",
       "    <tr style=\"text-align: right;\">\n",
       "      <th></th>\n",
       "      <th>HOUSEHOLD_KEY</th>\n",
       "      <th>BASKET_ID</th>\n",
       "      <th>DAY</th>\n",
       "      <th>PRODUCT_ID</th>\n",
       "      <th>QUANTITY</th>\n",
       "      <th>SALES_VALUE_x</th>\n",
       "      <th>STORE_ID</th>\n",
       "      <th>RETAIL_DISC</th>\n",
       "      <th>TRANS_TIME</th>\n",
       "      <th>WEEK_NO</th>\n",
       "      <th>COUPON_DISC_x</th>\n",
       "      <th>COUPON_MATCH_DISC_x</th>\n",
       "      <th>Date</th>\n",
       "      <th>Use_Coupon</th>\n",
       "      <th>MANUFACTURER</th>\n",
       "      <th>DEPARTMENT</th>\n",
       "      <th>BRAND</th>\n",
       "      <th>COMMODITY_DESC</th>\n",
       "      <th>SUB_COMMODITY_DESC</th>\n",
       "      <th>CURR_SIZE_OF_PRODUCT</th>\n",
       "    </tr>\n",
       "  </thead>\n",
       "  <tbody>\n",
       "    <tr>\n",
       "      <th>0</th>\n",
       "      <td>2375</td>\n",
       "      <td>26984851472</td>\n",
       "      <td>1</td>\n",
       "      <td>1004906</td>\n",
       "      <td>1</td>\n",
       "      <td>1.39</td>\n",
       "      <td>364</td>\n",
       "      <td>-0.6</td>\n",
       "      <td>1631</td>\n",
       "      <td>1</td>\n",
       "      <td>0</td>\n",
       "      <td>0</td>\n",
       "      <td>2022-01-02</td>\n",
       "      <td>False</td>\n",
       "      <td>69</td>\n",
       "      <td>PRODUCE</td>\n",
       "      <td>Private</td>\n",
       "      <td>POTATOES</td>\n",
       "      <td>POTATOES RUSSET (BULK&amp;BAG)</td>\n",
       "      <td>5 LB</td>\n",
       "    </tr>\n",
       "    <tr>\n",
       "      <th>1</th>\n",
       "      <td>2375</td>\n",
       "      <td>26984851472</td>\n",
       "      <td>1</td>\n",
       "      <td>1004906</td>\n",
       "      <td>1</td>\n",
       "      <td>1.39</td>\n",
       "      <td>364</td>\n",
       "      <td>-0.6</td>\n",
       "      <td>1631</td>\n",
       "      <td>1</td>\n",
       "      <td>0</td>\n",
       "      <td>0</td>\n",
       "      <td>2022-01-02</td>\n",
       "      <td>False</td>\n",
       "      <td>69</td>\n",
       "      <td>PRODUCE</td>\n",
       "      <td>Private</td>\n",
       "      <td>POTATOES</td>\n",
       "      <td>POTATOES RUSSET (BULK&amp;BAG)</td>\n",
       "      <td>5 LB</td>\n",
       "    </tr>\n",
       "    <tr>\n",
       "      <th>2</th>\n",
       "      <td>2375</td>\n",
       "      <td>26984851472</td>\n",
       "      <td>1</td>\n",
       "      <td>1033142</td>\n",
       "      <td>1</td>\n",
       "      <td>0.82</td>\n",
       "      <td>364</td>\n",
       "      <td>0.0</td>\n",
       "      <td>1631</td>\n",
       "      <td>1</td>\n",
       "      <td>0</td>\n",
       "      <td>0</td>\n",
       "      <td>2022-01-02</td>\n",
       "      <td>False</td>\n",
       "      <td>2</td>\n",
       "      <td>PRODUCE</td>\n",
       "      <td>National</td>\n",
       "      <td>ONIONS</td>\n",
       "      <td>ONIONS SWEET (BULK&amp;BAG)</td>\n",
       "      <td>40 LB</td>\n",
       "    </tr>\n",
       "    <tr>\n",
       "      <th>3</th>\n",
       "      <td>2375</td>\n",
       "      <td>26984851472</td>\n",
       "      <td>1</td>\n",
       "      <td>1033142</td>\n",
       "      <td>1</td>\n",
       "      <td>0.82</td>\n",
       "      <td>364</td>\n",
       "      <td>0.0</td>\n",
       "      <td>1631</td>\n",
       "      <td>1</td>\n",
       "      <td>0</td>\n",
       "      <td>0</td>\n",
       "      <td>2022-01-02</td>\n",
       "      <td>False</td>\n",
       "      <td>2</td>\n",
       "      <td>PRODUCE</td>\n",
       "      <td>National</td>\n",
       "      <td>ONIONS</td>\n",
       "      <td>ONIONS SWEET (BULK&amp;BAG)</td>\n",
       "      <td>40 LB</td>\n",
       "    </tr>\n",
       "    <tr>\n",
       "      <th>4</th>\n",
       "      <td>2375</td>\n",
       "      <td>26984851472</td>\n",
       "      <td>1</td>\n",
       "      <td>1036325</td>\n",
       "      <td>1</td>\n",
       "      <td>0.99</td>\n",
       "      <td>364</td>\n",
       "      <td>-0.3</td>\n",
       "      <td>1631</td>\n",
       "      <td>1</td>\n",
       "      <td>0</td>\n",
       "      <td>0</td>\n",
       "      <td>2022-01-02</td>\n",
       "      <td>False</td>\n",
       "      <td>69</td>\n",
       "      <td>PRODUCE</td>\n",
       "      <td>Private</td>\n",
       "      <td>VEGETABLES - ALL OTHERS</td>\n",
       "      <td>CELERY</td>\n",
       "      <td>Not Specified</td>\n",
       "    </tr>\n",
       "  </tbody>\n",
       "</table>\n",
       "</div>"
      ],
      "text/plain": [
       "   HOUSEHOLD_KEY    BASKET_ID  DAY  PRODUCT_ID  QUANTITY  SALES_VALUE_x  \\\n",
       "0           2375  26984851472    1     1004906         1           1.39   \n",
       "1           2375  26984851472    1     1004906         1           1.39   \n",
       "2           2375  26984851472    1     1033142         1           0.82   \n",
       "3           2375  26984851472    1     1033142         1           0.82   \n",
       "4           2375  26984851472    1     1036325         1           0.99   \n",
       "\n",
       "   STORE_ID  RETAIL_DISC  TRANS_TIME  WEEK_NO  COUPON_DISC_x  \\\n",
       "0       364         -0.6        1631        1              0   \n",
       "1       364         -0.6        1631        1              0   \n",
       "2       364          0.0        1631        1              0   \n",
       "3       364          0.0        1631        1              0   \n",
       "4       364         -0.3        1631        1              0   \n",
       "\n",
       "   COUPON_MATCH_DISC_x       Date  Use_Coupon  MANUFACTURER DEPARTMENT  \\\n",
       "0                    0 2022-01-02       False            69    PRODUCE   \n",
       "1                    0 2022-01-02       False            69    PRODUCE   \n",
       "2                    0 2022-01-02       False             2    PRODUCE   \n",
       "3                    0 2022-01-02       False             2    PRODUCE   \n",
       "4                    0 2022-01-02       False            69    PRODUCE   \n",
       "\n",
       "      BRAND           COMMODITY_DESC          SUB_COMMODITY_DESC  \\\n",
       "0   Private                 POTATOES  POTATOES RUSSET (BULK&BAG)   \n",
       "1   Private                 POTATOES  POTATOES RUSSET (BULK&BAG)   \n",
       "2  National                   ONIONS     ONIONS SWEET (BULK&BAG)   \n",
       "3  National                   ONIONS     ONIONS SWEET (BULK&BAG)   \n",
       "4   Private  VEGETABLES - ALL OTHERS                      CELERY   \n",
       "\n",
       "  CURR_SIZE_OF_PRODUCT  \n",
       "0                 5 LB  \n",
       "1                 5 LB  \n",
       "2                40 LB  \n",
       "3                40 LB  \n",
       "4        Not Specified  "
      ]
     },
     "execution_count": 447,
     "metadata": {},
     "output_type": "execute_result"
    }
   ],
   "source": [
    "Tnx_desc.head()"
   ]
  },
  {
   "cell_type": "code",
   "execution_count": 448,
   "id": "5ae69b56-f335-4854-a62f-c712eeef495b",
   "metadata": {},
   "outputs": [],
   "source": [
    "COMMODITY_Coupon = Tnx_desc.groupby('COMMODITY_DESC').aggregate(total_quantity=('QUANTITY','count'),\n",
    "                                             Use_coupon=('Use_Coupon','sum'),\n",
    "                                             Coupon=('COUPON_DISC_x','sum'))"
   ]
  },
  {
   "cell_type": "code",
   "execution_count": 449,
   "id": "b3adb9e0-2419-48d8-af09-0bb26c9509a0",
   "metadata": {},
   "outputs": [
    {
     "data": {
      "text/html": [
       "<div>\n",
       "<style scoped>\n",
       "    .dataframe tbody tr th:only-of-type {\n",
       "        vertical-align: middle;\n",
       "    }\n",
       "\n",
       "    .dataframe tbody tr th {\n",
       "        vertical-align: top;\n",
       "    }\n",
       "\n",
       "    .dataframe thead th {\n",
       "        text-align: right;\n",
       "    }\n",
       "</style>\n",
       "<table border=\"1\" class=\"dataframe\">\n",
       "  <thead>\n",
       "    <tr style=\"text-align: right;\">\n",
       "      <th></th>\n",
       "      <th>total_quantity</th>\n",
       "      <th>Use_coupon</th>\n",
       "      <th>Coupon</th>\n",
       "    </tr>\n",
       "    <tr>\n",
       "      <th>COMMODITY_DESC</th>\n",
       "      <th></th>\n",
       "      <th></th>\n",
       "      <th></th>\n",
       "    </tr>\n",
       "  </thead>\n",
       "  <tbody>\n",
       "    <tr>\n",
       "      <th>(CORP USE ONLY)</th>\n",
       "      <td>24</td>\n",
       "      <td>0</td>\n",
       "      <td>0</td>\n",
       "    </tr>\n",
       "    <tr>\n",
       "      <th>ADULT INCONTINENCE</th>\n",
       "      <td>148</td>\n",
       "      <td>6</td>\n",
       "      <td>-2</td>\n",
       "    </tr>\n",
       "    <tr>\n",
       "      <th>AIR CARE</th>\n",
       "      <td>1856</td>\n",
       "      <td>386</td>\n",
       "      <td>-248</td>\n",
       "    </tr>\n",
       "    <tr>\n",
       "      <th>ANALGESICS</th>\n",
       "      <td>1362</td>\n",
       "      <td>178</td>\n",
       "      <td>-6</td>\n",
       "    </tr>\n",
       "    <tr>\n",
       "      <th>ANTACIDS</th>\n",
       "      <td>614</td>\n",
       "      <td>72</td>\n",
       "      <td>-14</td>\n",
       "    </tr>\n",
       "    <tr>\n",
       "      <th>...</th>\n",
       "      <td>...</td>\n",
       "      <td>...</td>\n",
       "      <td>...</td>\n",
       "    </tr>\n",
       "    <tr>\n",
       "      <th>WAREHOUSE SNACKS</th>\n",
       "      <td>3692</td>\n",
       "      <td>426</td>\n",
       "      <td>-36</td>\n",
       "    </tr>\n",
       "    <tr>\n",
       "      <th>WATCHES/CALCULATORS/LOBBY</th>\n",
       "      <td>24</td>\n",
       "      <td>0</td>\n",
       "      <td>0</td>\n",
       "    </tr>\n",
       "    <tr>\n",
       "      <th>WATER</th>\n",
       "      <td>726</td>\n",
       "      <td>72</td>\n",
       "      <td>0</td>\n",
       "    </tr>\n",
       "    <tr>\n",
       "      <th>WATER - CARBONATED/FLVRD DRINK</th>\n",
       "      <td>8376</td>\n",
       "      <td>742</td>\n",
       "      <td>-26</td>\n",
       "    </tr>\n",
       "    <tr>\n",
       "      <th>YOGURT</th>\n",
       "      <td>15794</td>\n",
       "      <td>2348</td>\n",
       "      <td>-208</td>\n",
       "    </tr>\n",
       "  </tbody>\n",
       "</table>\n",
       "<p>299 rows × 3 columns</p>\n",
       "</div>"
      ],
      "text/plain": [
       "                                total_quantity  Use_coupon  Coupon\n",
       "COMMODITY_DESC                                                    \n",
       "(CORP USE ONLY)                             24           0       0\n",
       "ADULT INCONTINENCE                         148           6      -2\n",
       "AIR CARE                                  1856         386    -248\n",
       "ANALGESICS                                1362         178      -6\n",
       "ANTACIDS                                   614          72     -14\n",
       "...                                        ...         ...     ...\n",
       "WAREHOUSE SNACKS                          3692         426     -36\n",
       "WATCHES/CALCULATORS/LOBBY                   24           0       0\n",
       "WATER                                      726          72       0\n",
       "WATER - CARBONATED/FLVRD DRINK            8376         742     -26\n",
       "YOGURT                                   15794        2348    -208\n",
       "\n",
       "[299 rows x 3 columns]"
      ]
     },
     "execution_count": 449,
     "metadata": {},
     "output_type": "execute_result"
    }
   ],
   "source": [
    "COMMODITY_Coupon"
   ]
  },
  {
   "cell_type": "code",
   "execution_count": 450,
   "id": "155838e0-6d3b-44db-9004-12c82bd2e5a7",
   "metadata": {},
   "outputs": [],
   "source": [
    "COMMODITY_Coupon['Coupon%']=round((COMMODITY_Coupon['Use_coupon']/COMMODITY_Coupon['total_quantity'])*100,2)"
   ]
  },
  {
   "cell_type": "code",
   "execution_count": 451,
   "id": "94f14271-361d-42e1-9581-970ed851182a",
   "metadata": {},
   "outputs": [
    {
     "data": {
      "text/html": [
       "<div>\n",
       "<style scoped>\n",
       "    .dataframe tbody tr th:only-of-type {\n",
       "        vertical-align: middle;\n",
       "    }\n",
       "\n",
       "    .dataframe tbody tr th {\n",
       "        vertical-align: top;\n",
       "    }\n",
       "\n",
       "    .dataframe thead th {\n",
       "        text-align: right;\n",
       "    }\n",
       "</style>\n",
       "<table border=\"1\" class=\"dataframe\">\n",
       "  <thead>\n",
       "    <tr style=\"text-align: right;\">\n",
       "      <th></th>\n",
       "      <th>total_quantity</th>\n",
       "      <th>Use_coupon</th>\n",
       "      <th>Coupon</th>\n",
       "      <th>Coupon%</th>\n",
       "    </tr>\n",
       "    <tr>\n",
       "      <th>COMMODITY_DESC</th>\n",
       "      <th></th>\n",
       "      <th></th>\n",
       "      <th></th>\n",
       "      <th></th>\n",
       "    </tr>\n",
       "  </thead>\n",
       "  <tbody>\n",
       "    <tr>\n",
       "      <th>NATURAL VITAMINS</th>\n",
       "      <td>2</td>\n",
       "      <td>2</td>\n",
       "      <td>-10</td>\n",
       "      <td>100.00</td>\n",
       "    </tr>\n",
       "    <tr>\n",
       "      <th>Default_Value</th>\n",
       "      <td>1303</td>\n",
       "      <td>872</td>\n",
       "      <td>-1396</td>\n",
       "      <td>66.92</td>\n",
       "    </tr>\n",
       "    <tr>\n",
       "      <th>Unknown</th>\n",
       "      <td>1303</td>\n",
       "      <td>872</td>\n",
       "      <td>-1396</td>\n",
       "      <td>66.92</td>\n",
       "    </tr>\n",
       "    <tr>\n",
       "      <th>VALENTINE</th>\n",
       "      <td>10</td>\n",
       "      <td>4</td>\n",
       "      <td>0</td>\n",
       "      <td>40.00</td>\n",
       "    </tr>\n",
       "    <tr>\n",
       "      <th>BABY FOODS</th>\n",
       "      <td>7328</td>\n",
       "      <td>2228</td>\n",
       "      <td>-76</td>\n",
       "      <td>30.40</td>\n",
       "    </tr>\n",
       "    <tr>\n",
       "      <th>RW FRESH PROCESSED MEAT</th>\n",
       "      <td>14</td>\n",
       "      <td>4</td>\n",
       "      <td>0</td>\n",
       "      <td>28.57</td>\n",
       "    </tr>\n",
       "    <tr>\n",
       "      <th>DIAPERS &amp; DISPOSABLES</th>\n",
       "      <td>1728</td>\n",
       "      <td>462</td>\n",
       "      <td>-430</td>\n",
       "      <td>26.74</td>\n",
       "    </tr>\n",
       "    <tr>\n",
       "      <th>BABY HBC</th>\n",
       "      <td>1634</td>\n",
       "      <td>362</td>\n",
       "      <td>-164</td>\n",
       "      <td>22.15</td>\n",
       "    </tr>\n",
       "    <tr>\n",
       "      <th>AIR CARE</th>\n",
       "      <td>1856</td>\n",
       "      <td>386</td>\n",
       "      <td>-248</td>\n",
       "      <td>20.80</td>\n",
       "    </tr>\n",
       "    <tr>\n",
       "      <th>FRZN BREAKFAST FOODS</th>\n",
       "      <td>3486</td>\n",
       "      <td>694</td>\n",
       "      <td>-122</td>\n",
       "      <td>19.91</td>\n",
       "    </tr>\n",
       "    <tr>\n",
       "      <th>CAT LITTER</th>\n",
       "      <td>1062</td>\n",
       "      <td>208</td>\n",
       "      <td>-22</td>\n",
       "      <td>19.59</td>\n",
       "    </tr>\n",
       "    <tr>\n",
       "      <th>FACIAL TISS/DNR NAPKIN</th>\n",
       "      <td>2474</td>\n",
       "      <td>484</td>\n",
       "      <td>-58</td>\n",
       "      <td>19.56</td>\n",
       "    </tr>\n",
       "    <tr>\n",
       "      <th>GLASSWARE &amp; DINNERWARE</th>\n",
       "      <td>72</td>\n",
       "      <td>14</td>\n",
       "      <td>0</td>\n",
       "      <td>19.44</td>\n",
       "    </tr>\n",
       "    <tr>\n",
       "      <th>LAUNDRY ADDITIVES</th>\n",
       "      <td>1842</td>\n",
       "      <td>352</td>\n",
       "      <td>-50</td>\n",
       "      <td>19.11</td>\n",
       "    </tr>\n",
       "    <tr>\n",
       "      <th>FRUIT - SHELF STABLE</th>\n",
       "      <td>6534</td>\n",
       "      <td>1222</td>\n",
       "      <td>-38</td>\n",
       "      <td>18.70</td>\n",
       "    </tr>\n",
       "    <tr>\n",
       "      <th>VITAMINS</th>\n",
       "      <td>668</td>\n",
       "      <td>122</td>\n",
       "      <td>-36</td>\n",
       "      <td>18.26</td>\n",
       "    </tr>\n",
       "    <tr>\n",
       "      <th>HOUSEHOLD CLEANG NEEDS</th>\n",
       "      <td>3924</td>\n",
       "      <td>710</td>\n",
       "      <td>-192</td>\n",
       "      <td>18.09</td>\n",
       "    </tr>\n",
       "    <tr>\n",
       "      <th>FD WRAPS/BAGS/TRSH BG</th>\n",
       "      <td>4716</td>\n",
       "      <td>832</td>\n",
       "      <td>-96</td>\n",
       "      <td>17.64</td>\n",
       "    </tr>\n",
       "    <tr>\n",
       "      <th>ORAL HYGIENE PRODUCTS</th>\n",
       "      <td>3430</td>\n",
       "      <td>604</td>\n",
       "      <td>-208</td>\n",
       "      <td>17.61</td>\n",
       "    </tr>\n",
       "    <tr>\n",
       "      <th>FROZEN - BOXED(GROCERY)</th>\n",
       "      <td>254</td>\n",
       "      <td>44</td>\n",
       "      <td>-28</td>\n",
       "      <td>17.32</td>\n",
       "    </tr>\n",
       "    <tr>\n",
       "      <th>FROZEN BREAD/DOUGH</th>\n",
       "      <td>2482</td>\n",
       "      <td>428</td>\n",
       "      <td>-124</td>\n",
       "      <td>17.24</td>\n",
       "    </tr>\n",
       "    <tr>\n",
       "      <th>DISHWASH DETERGENTS</th>\n",
       "      <td>2396</td>\n",
       "      <td>412</td>\n",
       "      <td>-86</td>\n",
       "      <td>17.20</td>\n",
       "    </tr>\n",
       "    <tr>\n",
       "      <th>PICKLE/RELISH/PKLD VEG</th>\n",
       "      <td>2700</td>\n",
       "      <td>464</td>\n",
       "      <td>-138</td>\n",
       "      <td>17.19</td>\n",
       "    </tr>\n",
       "    <tr>\n",
       "      <th>HAIR CARE PRODUCTS</th>\n",
       "      <td>4238</td>\n",
       "      <td>726</td>\n",
       "      <td>-158</td>\n",
       "      <td>17.13</td>\n",
       "    </tr>\n",
       "    <tr>\n",
       "      <th>DOG FOODS</th>\n",
       "      <td>3846</td>\n",
       "      <td>652</td>\n",
       "      <td>-128</td>\n",
       "      <td>16.95</td>\n",
       "    </tr>\n",
       "    <tr>\n",
       "      <th>TEAS</th>\n",
       "      <td>1460</td>\n",
       "      <td>246</td>\n",
       "      <td>-38</td>\n",
       "      <td>16.85</td>\n",
       "    </tr>\n",
       "    <tr>\n",
       "      <th>RICE CAKES</th>\n",
       "      <td>500</td>\n",
       "      <td>84</td>\n",
       "      <td>0</td>\n",
       "      <td>16.80</td>\n",
       "    </tr>\n",
       "    <tr>\n",
       "      <th>CEREAL/BREAKFAST</th>\n",
       "      <td>608</td>\n",
       "      <td>102</td>\n",
       "      <td>-20</td>\n",
       "      <td>16.78</td>\n",
       "    </tr>\n",
       "    <tr>\n",
       "      <th>PAPER TOWELS</th>\n",
       "      <td>3550</td>\n",
       "      <td>592</td>\n",
       "      <td>-36</td>\n",
       "      <td>16.68</td>\n",
       "    </tr>\n",
       "    <tr>\n",
       "      <th>BATH TISSUES</th>\n",
       "      <td>4820</td>\n",
       "      <td>794</td>\n",
       "      <td>-250</td>\n",
       "      <td>16.47</td>\n",
       "    </tr>\n",
       "  </tbody>\n",
       "</table>\n",
       "</div>"
      ],
      "text/plain": [
       "                         total_quantity  Use_coupon  Coupon  Coupon%\n",
       "COMMODITY_DESC                                                      \n",
       "NATURAL VITAMINS                      2           2     -10   100.00\n",
       "Default_Value                      1303         872   -1396    66.92\n",
       "Unknown                            1303         872   -1396    66.92\n",
       "VALENTINE                            10           4       0    40.00\n",
       "BABY FOODS                         7328        2228     -76    30.40\n",
       "RW FRESH PROCESSED MEAT              14           4       0    28.57\n",
       "DIAPERS & DISPOSABLES              1728         462    -430    26.74\n",
       "BABY HBC                           1634         362    -164    22.15\n",
       "AIR CARE                           1856         386    -248    20.80\n",
       "FRZN BREAKFAST FOODS               3486         694    -122    19.91\n",
       "CAT LITTER                         1062         208     -22    19.59\n",
       "FACIAL TISS/DNR NAPKIN             2474         484     -58    19.56\n",
       "GLASSWARE & DINNERWARE               72          14       0    19.44\n",
       "LAUNDRY ADDITIVES                  1842         352     -50    19.11\n",
       "FRUIT - SHELF STABLE               6534        1222     -38    18.70\n",
       "VITAMINS                            668         122     -36    18.26\n",
       "HOUSEHOLD CLEANG NEEDS             3924         710    -192    18.09\n",
       "FD WRAPS/BAGS/TRSH BG              4716         832     -96    17.64\n",
       "ORAL HYGIENE PRODUCTS              3430         604    -208    17.61\n",
       "FROZEN - BOXED(GROCERY)             254          44     -28    17.32\n",
       "FROZEN BREAD/DOUGH                 2482         428    -124    17.24\n",
       "DISHWASH DETERGENTS                2396         412     -86    17.20\n",
       "PICKLE/RELISH/PKLD VEG             2700         464    -138    17.19\n",
       "HAIR CARE PRODUCTS                 4238         726    -158    17.13\n",
       "DOG FOODS                          3846         652    -128    16.95\n",
       "TEAS                               1460         246     -38    16.85\n",
       "RICE CAKES                          500          84       0    16.80\n",
       "CEREAL/BREAKFAST                    608         102     -20    16.78\n",
       "PAPER TOWELS                       3550         592     -36    16.68\n",
       "BATH TISSUES                       4820         794    -250    16.47"
      ]
     },
     "execution_count": 451,
     "metadata": {},
     "output_type": "execute_result"
    }
   ],
   "source": [
    "COMMODITY_Coupon.sort_values('Coupon%',ascending=False).head(30)"
   ]
  },
  {
   "cell_type": "code",
   "execution_count": 452,
   "id": "d936819e-9738-45fe-a0c5-bde7c62b4450",
   "metadata": {},
   "outputs": [
    {
     "data": {
      "text/html": [
       "<div>\n",
       "<style scoped>\n",
       "    .dataframe tbody tr th:only-of-type {\n",
       "        vertical-align: middle;\n",
       "    }\n",
       "\n",
       "    .dataframe tbody tr th {\n",
       "        vertical-align: top;\n",
       "    }\n",
       "\n",
       "    .dataframe thead th {\n",
       "        text-align: right;\n",
       "    }\n",
       "</style>\n",
       "<table border=\"1\" class=\"dataframe\">\n",
       "  <thead>\n",
       "    <tr style=\"text-align: right;\">\n",
       "      <th></th>\n",
       "      <th></th>\n",
       "      <th></th>\n",
       "      <th>SALES_VALUE</th>\n",
       "      <th>RETAIL_DISC</th>\n",
       "      <th>COUPON_DISC</th>\n",
       "      <th>COUPON_MATCH_DISC</th>\n",
       "    </tr>\n",
       "    <tr>\n",
       "      <th>HOUSEHOLD_KEY</th>\n",
       "      <th>WEEK_NO</th>\n",
       "      <th>DAY</th>\n",
       "      <th></th>\n",
       "      <th></th>\n",
       "      <th></th>\n",
       "      <th></th>\n",
       "    </tr>\n",
       "  </thead>\n",
       "  <tbody>\n",
       "    <tr>\n",
       "      <th rowspan=\"5\" valign=\"top\">1</th>\n",
       "      <th>8</th>\n",
       "      <th>51</th>\n",
       "      <td>78.66</td>\n",
       "      <td>-16.54</td>\n",
       "      <td>-1</td>\n",
       "      <td>0</td>\n",
       "    </tr>\n",
       "    <tr>\n",
       "      <th>10</th>\n",
       "      <th>67</th>\n",
       "      <td>41.10</td>\n",
       "      <td>-8.59</td>\n",
       "      <td>0</td>\n",
       "      <td>0</td>\n",
       "    </tr>\n",
       "    <tr>\n",
       "      <th>13</th>\n",
       "      <th>88</th>\n",
       "      <td>26.90</td>\n",
       "      <td>-6.72</td>\n",
       "      <td>0</td>\n",
       "      <td>0</td>\n",
       "    </tr>\n",
       "    <tr>\n",
       "      <th>14</th>\n",
       "      <th>94</th>\n",
       "      <td>63.43</td>\n",
       "      <td>-11.08</td>\n",
       "      <td>-2</td>\n",
       "      <td>-1</td>\n",
       "    </tr>\n",
       "    <tr>\n",
       "      <th>15</th>\n",
       "      <th>101</th>\n",
       "      <td>53.45</td>\n",
       "      <td>-16.42</td>\n",
       "      <td>0</td>\n",
       "      <td>0</td>\n",
       "    </tr>\n",
       "    <tr>\n",
       "      <th>...</th>\n",
       "      <th>...</th>\n",
       "      <th>...</th>\n",
       "      <td>...</td>\n",
       "      <td>...</td>\n",
       "      <td>...</td>\n",
       "      <td>...</td>\n",
       "    </tr>\n",
       "    <tr>\n",
       "      <th rowspan=\"5\" valign=\"top\">2500</th>\n",
       "      <th>21</th>\n",
       "      <th>145</th>\n",
       "      <td>50.23</td>\n",
       "      <td>-2.02</td>\n",
       "      <td>-3</td>\n",
       "      <td>0</td>\n",
       "    </tr>\n",
       "    <tr>\n",
       "      <th>22</th>\n",
       "      <th>150</th>\n",
       "      <td>55.03</td>\n",
       "      <td>-2.17</td>\n",
       "      <td>0</td>\n",
       "      <td>0</td>\n",
       "    </tr>\n",
       "    <tr>\n",
       "      <th rowspan=\"3\" valign=\"top\">26</th>\n",
       "      <th>174</th>\n",
       "      <td>110.30</td>\n",
       "      <td>-49.05</td>\n",
       "      <td>-1</td>\n",
       "      <td>0</td>\n",
       "    </tr>\n",
       "    <tr>\n",
       "      <th>175</th>\n",
       "      <td>10.59</td>\n",
       "      <td>0.00</td>\n",
       "      <td>-2</td>\n",
       "      <td>0</td>\n",
       "    </tr>\n",
       "    <tr>\n",
       "      <th>176</th>\n",
       "      <td>20.26</td>\n",
       "      <td>-2.51</td>\n",
       "      <td>0</td>\n",
       "      <td>0</td>\n",
       "    </tr>\n",
       "  </tbody>\n",
       "</table>\n",
       "<p>40506 rows × 4 columns</p>\n",
       "</div>"
      ],
      "text/plain": [
       "                           SALES_VALUE  RETAIL_DISC  COUPON_DISC  \\\n",
       "HOUSEHOLD_KEY WEEK_NO DAY                                          \n",
       "1             8       51         78.66       -16.54           -1   \n",
       "              10      67         41.10        -8.59            0   \n",
       "              13      88         26.90        -6.72            0   \n",
       "              14      94         63.43       -11.08           -2   \n",
       "              15      101        53.45       -16.42            0   \n",
       "...                                ...          ...          ...   \n",
       "2500          21      145        50.23        -2.02           -3   \n",
       "              22      150        55.03        -2.17            0   \n",
       "              26      174       110.30       -49.05           -1   \n",
       "                      175        10.59         0.00           -2   \n",
       "                      176        20.26        -2.51            0   \n",
       "\n",
       "                           COUPON_MATCH_DISC  \n",
       "HOUSEHOLD_KEY WEEK_NO DAY                     \n",
       "1             8       51                   0  \n",
       "              10      67                   0  \n",
       "              13      88                   0  \n",
       "              14      94                  -1  \n",
       "              15      101                  0  \n",
       "...                                      ...  \n",
       "2500          21      145                  0  \n",
       "              22      150                  0  \n",
       "              26      174                  0  \n",
       "                      175                  0  \n",
       "                      176                  0  \n",
       "\n",
       "[40506 rows x 4 columns]"
      ]
     },
     "execution_count": 452,
     "metadata": {},
     "output_type": "execute_result"
    }
   ],
   "source": [
    "TRANSACTION_RAW.groupby(['HOUSEHOLD_KEY','WEEK_NO','DAY']).aggregate({'SALES_VALUE':'sum','RETAIL_DISC':'sum',\n",
    "                                                                  'COUPON_DISC' :'sum','COUPON_MATCH_DISC':'sum'})"
   ]
  },
  {
   "cell_type": "code",
   "execution_count": 453,
   "id": "cce51d02-5ad6-4d76-8dbf-46ca55290b6c",
   "metadata": {},
   "outputs": [
    {
     "data": {
      "text/html": [
       "<div>\n",
       "<style scoped>\n",
       "    .dataframe tbody tr th:only-of-type {\n",
       "        vertical-align: middle;\n",
       "    }\n",
       "\n",
       "    .dataframe tbody tr th {\n",
       "        vertical-align: top;\n",
       "    }\n",
       "\n",
       "    .dataframe thead th {\n",
       "        text-align: right;\n",
       "    }\n",
       "</style>\n",
       "<table border=\"1\" class=\"dataframe\">\n",
       "  <thead>\n",
       "    <tr style=\"text-align: right;\">\n",
       "      <th></th>\n",
       "      <th>HOUSEHOLD_KEY</th>\n",
       "      <th>BASKET_ID</th>\n",
       "      <th>DAY</th>\n",
       "      <th>PRODUCT_ID</th>\n",
       "      <th>QUANTITY</th>\n",
       "      <th>SALES_VALUE</th>\n",
       "      <th>STORE_ID</th>\n",
       "      <th>RETAIL_DISC</th>\n",
       "      <th>TRANS_TIME</th>\n",
       "      <th>WEEK_NO</th>\n",
       "      <th>COUPON_DISC</th>\n",
       "      <th>COUPON_MATCH_DISC</th>\n",
       "      <th>Date</th>\n",
       "    </tr>\n",
       "  </thead>\n",
       "  <tbody>\n",
       "    <tr>\n",
       "      <th>0</th>\n",
       "      <td>2375</td>\n",
       "      <td>26984851472</td>\n",
       "      <td>1</td>\n",
       "      <td>1004906</td>\n",
       "      <td>1</td>\n",
       "      <td>1.39</td>\n",
       "      <td>364</td>\n",
       "      <td>-0.60</td>\n",
       "      <td>1631</td>\n",
       "      <td>1</td>\n",
       "      <td>0</td>\n",
       "      <td>0</td>\n",
       "      <td>2022-01-02</td>\n",
       "    </tr>\n",
       "    <tr>\n",
       "      <th>1</th>\n",
       "      <td>2375</td>\n",
       "      <td>26984851472</td>\n",
       "      <td>1</td>\n",
       "      <td>1033142</td>\n",
       "      <td>1</td>\n",
       "      <td>0.82</td>\n",
       "      <td>364</td>\n",
       "      <td>0.00</td>\n",
       "      <td>1631</td>\n",
       "      <td>1</td>\n",
       "      <td>0</td>\n",
       "      <td>0</td>\n",
       "      <td>2022-01-02</td>\n",
       "    </tr>\n",
       "    <tr>\n",
       "      <th>2</th>\n",
       "      <td>2375</td>\n",
       "      <td>26984851472</td>\n",
       "      <td>1</td>\n",
       "      <td>1036325</td>\n",
       "      <td>1</td>\n",
       "      <td>0.99</td>\n",
       "      <td>364</td>\n",
       "      <td>-0.30</td>\n",
       "      <td>1631</td>\n",
       "      <td>1</td>\n",
       "      <td>0</td>\n",
       "      <td>0</td>\n",
       "      <td>2022-01-02</td>\n",
       "    </tr>\n",
       "    <tr>\n",
       "      <th>3</th>\n",
       "      <td>2375</td>\n",
       "      <td>26984851472</td>\n",
       "      <td>1</td>\n",
       "      <td>1082185</td>\n",
       "      <td>1</td>\n",
       "      <td>1.21</td>\n",
       "      <td>364</td>\n",
       "      <td>0.00</td>\n",
       "      <td>1631</td>\n",
       "      <td>1</td>\n",
       "      <td>0</td>\n",
       "      <td>0</td>\n",
       "      <td>2022-01-02</td>\n",
       "    </tr>\n",
       "    <tr>\n",
       "      <th>4</th>\n",
       "      <td>2375</td>\n",
       "      <td>26984851472</td>\n",
       "      <td>1</td>\n",
       "      <td>8160430</td>\n",
       "      <td>1</td>\n",
       "      <td>1.50</td>\n",
       "      <td>364</td>\n",
       "      <td>-0.39</td>\n",
       "      <td>1631</td>\n",
       "      <td>1</td>\n",
       "      <td>0</td>\n",
       "      <td>0</td>\n",
       "      <td>2022-01-02</td>\n",
       "    </tr>\n",
       "  </tbody>\n",
       "</table>\n",
       "</div>"
      ],
      "text/plain": [
       "   HOUSEHOLD_KEY    BASKET_ID  DAY  PRODUCT_ID  QUANTITY  SALES_VALUE  \\\n",
       "0           2375  26984851472    1     1004906         1         1.39   \n",
       "1           2375  26984851472    1     1033142         1         0.82   \n",
       "2           2375  26984851472    1     1036325         1         0.99   \n",
       "3           2375  26984851472    1     1082185         1         1.21   \n",
       "4           2375  26984851472    1     8160430         1         1.50   \n",
       "\n",
       "   STORE_ID  RETAIL_DISC  TRANS_TIME  WEEK_NO  COUPON_DISC  COUPON_MATCH_DISC  \\\n",
       "0       364        -0.60        1631        1            0                  0   \n",
       "1       364         0.00        1631        1            0                  0   \n",
       "2       364        -0.30        1631        1            0                  0   \n",
       "3       364         0.00        1631        1            0                  0   \n",
       "4       364        -0.39        1631        1            0                  0   \n",
       "\n",
       "        Date  \n",
       "0 2022-01-02  \n",
       "1 2022-01-02  \n",
       "2 2022-01-02  \n",
       "3 2022-01-02  \n",
       "4 2022-01-02  "
      ]
     },
     "execution_count": 453,
     "metadata": {},
     "output_type": "execute_result"
    }
   ],
   "source": [
    "TRANSACTION_RAW.head()"
   ]
  },
  {
   "cell_type": "code",
   "execution_count": 454,
   "id": "2875c7f1-2810-4f0b-8a8c-3c8b8c0fe12c",
   "metadata": {},
   "outputs": [
    {
     "data": {
      "text/html": [
       "<div>\n",
       "<style scoped>\n",
       "    .dataframe tbody tr th:only-of-type {\n",
       "        vertical-align: middle;\n",
       "    }\n",
       "\n",
       "    .dataframe tbody tr th {\n",
       "        vertical-align: top;\n",
       "    }\n",
       "\n",
       "    .dataframe thead th {\n",
       "        text-align: right;\n",
       "    }\n",
       "</style>\n",
       "<table border=\"1\" class=\"dataframe\">\n",
       "  <thead>\n",
       "    <tr style=\"text-align: right;\">\n",
       "      <th></th>\n",
       "      <th>SALES_VALUE</th>\n",
       "      <th>RETAIL_DISC</th>\n",
       "      <th>COUPON_DISC</th>\n",
       "    </tr>\n",
       "    <tr>\n",
       "      <th>Date</th>\n",
       "      <th></th>\n",
       "      <th></th>\n",
       "      <th></th>\n",
       "    </tr>\n",
       "  </thead>\n",
       "  <tbody>\n",
       "    <tr>\n",
       "      <th>2022</th>\n",
       "      <td>1359551.73</td>\n",
       "      <td>-248978.11</td>\n",
       "      <td>-6693</td>\n",
       "    </tr>\n",
       "  </tbody>\n",
       "</table>\n",
       "</div>"
      ],
      "text/plain": [
       "      SALES_VALUE  RETAIL_DISC  COUPON_DISC\n",
       "Date                                       \n",
       "2022   1359551.73   -248978.11        -6693"
      ]
     },
     "execution_count": 454,
     "metadata": {},
     "output_type": "execute_result"
    }
   ],
   "source": [
    "TRANSACTION_RAW.groupby(TRANSACTION_RAW['Date'].dt.year).aggregate({'SALES_VALUE':'sum','RETAIL_DISC':'sum',\n",
    "                                                                   'COUPON_DISC':'sum'})"
   ]
  },
  {
   "cell_type": "code",
   "execution_count": 455,
   "id": "1a9c8ca3-b31a-4450-afb8-5f8e8f473403",
   "metadata": {},
   "outputs": [
    {
     "ename": "SyntaxError",
     "evalue": "invalid syntax (400963062.py, line 1)",
     "output_type": "error",
     "traceback": [
      "\u001b[1;36m  Cell \u001b[1;32mIn[455], line 1\u001b[1;36m\u001b[0m\n\u001b[1;33m    **Droping the columns**\u001b[0m\n\u001b[1;37m    ^\u001b[0m\n\u001b[1;31mSyntaxError\u001b[0m\u001b[1;31m:\u001b[0m invalid syntax\n"
     ]
    }
   ],
   "source": [
    "**Droping the columns**"
   ]
  },
  {
   "cell_type": "code",
   "execution_count": 456,
   "id": "dae48b07-ee0b-4867-ae0b-67f9722ff541",
   "metadata": {},
   "outputs": [],
   "source": [
    "from datetime import datetime"
   ]
  },
  {
   "cell_type": "code",
   "execution_count": 457,
   "id": "fe7f56c7-1106-48aa-88d7-55bb916f6944",
   "metadata": {},
   "outputs": [],
   "source": [
    "CAMPAIGN_DESC_RAW.drop(['START_DAY','END_DAY'],axis=1,inplace=True)"
   ]
  },
  {
   "cell_type": "code",
   "execution_count": 458,
   "id": "291f8348-d296-4140-b3a2-5663ea8caf23",
   "metadata": {},
   "outputs": [
    {
     "data": {
      "text/html": [
       "<div>\n",
       "<style scoped>\n",
       "    .dataframe tbody tr th:only-of-type {\n",
       "        vertical-align: middle;\n",
       "    }\n",
       "\n",
       "    .dataframe tbody tr th {\n",
       "        vertical-align: top;\n",
       "    }\n",
       "\n",
       "    .dataframe thead th {\n",
       "        text-align: right;\n",
       "    }\n",
       "</style>\n",
       "<table border=\"1\" class=\"dataframe\">\n",
       "  <thead>\n",
       "    <tr style=\"text-align: right;\">\n",
       "      <th></th>\n",
       "      <th>DESCRIPTION</th>\n",
       "      <th>CAMPAIGN</th>\n",
       "      <th>START_DATE</th>\n",
       "      <th>END_DATE</th>\n",
       "      <th>Campaign_Duration</th>\n",
       "      <th>Start_Month</th>\n",
       "      <th>End_Month</th>\n",
       "      <th>Start_Year</th>\n",
       "      <th>End_Year</th>\n",
       "    </tr>\n",
       "  </thead>\n",
       "  <tbody>\n",
       "    <tr>\n",
       "      <th>0</th>\n",
       "      <td>TypeB</td>\n",
       "      <td>24</td>\n",
       "      <td>2023-10-22</td>\n",
       "      <td>2023-12-21</td>\n",
       "      <td>60</td>\n",
       "      <td>10</td>\n",
       "      <td>12</td>\n",
       "      <td>2023</td>\n",
       "      <td>2023</td>\n",
       "    </tr>\n",
       "    <tr>\n",
       "      <th>1</th>\n",
       "      <td>TypeC</td>\n",
       "      <td>15</td>\n",
       "      <td>2023-07-02</td>\n",
       "      <td>2023-12-10</td>\n",
       "      <td>161</td>\n",
       "      <td>07</td>\n",
       "      <td>12</td>\n",
       "      <td>2023</td>\n",
       "      <td>2023</td>\n",
       "    </tr>\n",
       "    <tr>\n",
       "      <th>2</th>\n",
       "      <td>TypeB</td>\n",
       "      <td>25</td>\n",
       "      <td>2023-10-22</td>\n",
       "      <td>2023-11-23</td>\n",
       "      <td>32</td>\n",
       "      <td>10</td>\n",
       "      <td>11</td>\n",
       "      <td>2023</td>\n",
       "      <td>2023</td>\n",
       "    </tr>\n",
       "  </tbody>\n",
       "</table>\n",
       "</div>"
      ],
      "text/plain": [
       "  DESCRIPTION  CAMPAIGN START_DATE   END_DATE  Campaign_Duration Start_Month  \\\n",
       "0       TypeB        24 2023-10-22 2023-12-21                 60          10   \n",
       "1       TypeC        15 2023-07-02 2023-12-10                161          07   \n",
       "2       TypeB        25 2023-10-22 2023-11-23                 32          10   \n",
       "\n",
       "  End_Month Start_Year End_Year  \n",
       "0        12       2023     2023  \n",
       "1        12       2023     2023  \n",
       "2        11       2023     2023  "
      ]
     },
     "execution_count": 458,
     "metadata": {},
     "output_type": "execute_result"
    }
   ],
   "source": [
    "CAMPAIGN_DESC_RAW.head(3)"
   ]
  },
  {
   "cell_type": "code",
   "execution_count": 459,
   "id": "7754a56d-1a50-436f-b949-898e62f0cb21",
   "metadata": {},
   "outputs": [],
   "source": [
    "CAMPAIGN_DESC_RAW['START_DATE'] = pd.to_datetime(CAMPAIGN_DESC_RAW['START_DATE']).apply(lambda x: x.date())"
   ]
  },
  {
   "cell_type": "code",
   "execution_count": 460,
   "id": "8771588b-c95a-467e-8817-e789dfbc5410",
   "metadata": {},
   "outputs": [
    {
     "data": {
      "text/plain": [
       "pandas.core.series.Series"
      ]
     },
     "execution_count": 460,
     "metadata": {},
     "output_type": "execute_result"
    }
   ],
   "source": [
    "type(CAMPAIGN_DESC_RAW['START_DATE'])"
   ]
  },
  {
   "cell_type": "code",
   "execution_count": 461,
   "id": "36e025b7-29d4-4f7b-a4dd-ac5baef08b53",
   "metadata": {},
   "outputs": [
    {
     "data": {
      "text/plain": [
       "0     2023-10-22\n",
       "1     2023-07-02\n",
       "2     2023-10-22\n",
       "3     2023-09-08\n",
       "4     2023-10-09\n",
       "5     2023-09-17\n",
       "6     2023-09-17\n",
       "7     2023-08-11\n",
       "8     2023-08-27\n",
       "9     2023-07-30\n",
       "10    2023-06-16\n",
       "11    2023-07-16\n",
       "12    2023-05-20\n",
       "13    2023-04-23\n",
       "14    2023-04-23\n",
       "15    2023-04-09\n",
       "16    2023-03-12\n",
       "17    2023-02-17\n",
       "18    2023-02-03\n",
       "19    2023-01-29\n",
       "20    2022-12-23\n",
       "21    2023-01-13\n",
       "22    2023-01-08\n",
       "23    2022-12-13\n",
       "24    2022-12-18\n",
       "25    2022-11-20\n",
       "26    2022-10-09\n",
       "27    2022-09-17\n",
       "28    2022-08-26\n",
       "29    2022-08-13\n",
       "Name: START_DATE, dtype: object"
      ]
     },
     "execution_count": 461,
     "metadata": {},
     "output_type": "execute_result"
    }
   ],
   "source": [
    "CAMPAIGN_DESC_RAW['START_DATE'] "
   ]
  },
  {
   "cell_type": "code",
   "execution_count": 462,
   "id": "e182720c-b20d-467f-8a21-9c301a484f44",
   "metadata": {},
   "outputs": [],
   "source": [
    "CAMPAIGN_DESC_RAW['END_DATE'] = pd.to_datetime(CAMPAIGN_DESC_RAW['END_DATE']).apply(lambda x: x.date())\n"
   ]
  },
  {
   "cell_type": "code",
   "execution_count": 463,
   "id": "4fc784ef-b660-4017-bc9f-422b9d011ff0",
   "metadata": {},
   "outputs": [
    {
     "data": {
      "text/plain": [
       "pandas.core.series.Series"
      ]
     },
     "execution_count": 463,
     "metadata": {},
     "output_type": "execute_result"
    }
   ],
   "source": [
    "type(CAMPAIGN_DESC_RAW['END_DATE'])"
   ]
  },
  {
   "cell_type": "code",
   "execution_count": 464,
   "id": "82c8bdff-67ca-4e23-9d34-8e210fd9f5b4",
   "metadata": {},
   "outputs": [
    {
     "data": {
      "text/plain": [
       "DESCRIPTION          object\n",
       "CAMPAIGN               int8\n",
       "START_DATE           object\n",
       "END_DATE             object\n",
       "Campaign_Duration     int16\n",
       "Start_Month          object\n",
       "End_Month            object\n",
       "Start_Year           object\n",
       "End_Year             object\n",
       "dtype: object"
      ]
     },
     "execution_count": 464,
     "metadata": {},
     "output_type": "execute_result"
    }
   ],
   "source": [
    "CAMPAIGN_DESC_RAW.dtypes"
   ]
  },
  {
   "cell_type": "code",
   "execution_count": 465,
   "id": "aece8a70-1c38-4b2b-8a39-82e965bc2c2b",
   "metadata": {},
   "outputs": [],
   "source": [
    "COUPON_REDEMPT_RAW.drop(['DAY'],axis=1,inplace=True)"
   ]
  },
  {
   "cell_type": "code",
   "execution_count": 466,
   "id": "2cf6c981-2f3c-447a-938f-d5dde1b76423",
   "metadata": {},
   "outputs": [
    {
     "data": {
      "text/html": [
       "<div>\n",
       "<style scoped>\n",
       "    .dataframe tbody tr th:only-of-type {\n",
       "        vertical-align: middle;\n",
       "    }\n",
       "\n",
       "    .dataframe tbody tr th {\n",
       "        vertical-align: top;\n",
       "    }\n",
       "\n",
       "    .dataframe thead th {\n",
       "        text-align: right;\n",
       "    }\n",
       "</style>\n",
       "<table border=\"1\" class=\"dataframe\">\n",
       "  <thead>\n",
       "    <tr style=\"text-align: right;\">\n",
       "      <th></th>\n",
       "      <th>HOUSEHOLD_KEY</th>\n",
       "      <th>COUPON_UPC</th>\n",
       "      <th>CAMPAIGN</th>\n",
       "      <th>Date</th>\n",
       "    </tr>\n",
       "  </thead>\n",
       "  <tbody>\n",
       "    <tr>\n",
       "      <th>0</th>\n",
       "      <td>1</td>\n",
       "      <td>10000085364</td>\n",
       "      <td>8</td>\n",
       "      <td>2023-02-26</td>\n",
       "    </tr>\n",
       "    <tr>\n",
       "      <th>1</th>\n",
       "      <td>1</td>\n",
       "      <td>51700010076</td>\n",
       "      <td>8</td>\n",
       "      <td>2023-02-26</td>\n",
       "    </tr>\n",
       "    <tr>\n",
       "      <th>2</th>\n",
       "      <td>1</td>\n",
       "      <td>54200000033</td>\n",
       "      <td>8</td>\n",
       "      <td>2023-03-04</td>\n",
       "    </tr>\n",
       "  </tbody>\n",
       "</table>\n",
       "</div>"
      ],
      "text/plain": [
       "   HOUSEHOLD_KEY   COUPON_UPC  CAMPAIGN       Date\n",
       "0              1  10000085364         8 2023-02-26\n",
       "1              1  51700010076         8 2023-02-26\n",
       "2              1  54200000033         8 2023-03-04"
      ]
     },
     "execution_count": 466,
     "metadata": {},
     "output_type": "execute_result"
    }
   ],
   "source": [
    "COUPON_REDEMPT_RAW.head(3)"
   ]
  },
  {
   "cell_type": "code",
   "execution_count": 467,
   "id": "3e3e5e81-deb8-49f1-8e54-1f043ec5d997",
   "metadata": {},
   "outputs": [],
   "source": [
    "COUPON_REDEMPT_RAW['Date']=pd.to_datetime(COUPON_REDEMPT_RAW['Date']).apply(lambda x: x.date())"
   ]
  },
  {
   "cell_type": "code",
   "execution_count": 468,
   "id": "2472f8f0-7ebe-4ea9-af83-8b44f5b2a305",
   "metadata": {},
   "outputs": [
    {
     "data": {
      "text/plain": [
       "HOUSEHOLD_KEY     int16\n",
       "COUPON_UPC        int64\n",
       "CAMPAIGN           int8\n",
       "Date             object\n",
       "dtype: object"
      ]
     },
     "execution_count": 468,
     "metadata": {},
     "output_type": "execute_result"
    }
   ],
   "source": [
    "COUPON_REDEMPT_RAW.dtypes"
   ]
  },
  {
   "cell_type": "code",
   "execution_count": 469,
   "id": "b2800aef-a433-4467-9e95-abac13a4c417",
   "metadata": {},
   "outputs": [],
   "source": [
    "TRANSACTION_RAW.drop(['DAY','WEEK_NO'],axis=1,inplace=True)"
   ]
  },
  {
   "cell_type": "code",
   "execution_count": 470,
   "id": "ecdc85a7-d292-40f8-b696-182fc497d753",
   "metadata": {},
   "outputs": [
    {
     "data": {
      "text/html": [
       "<div>\n",
       "<style scoped>\n",
       "    .dataframe tbody tr th:only-of-type {\n",
       "        vertical-align: middle;\n",
       "    }\n",
       "\n",
       "    .dataframe tbody tr th {\n",
       "        vertical-align: top;\n",
       "    }\n",
       "\n",
       "    .dataframe thead th {\n",
       "        text-align: right;\n",
       "    }\n",
       "</style>\n",
       "<table border=\"1\" class=\"dataframe\">\n",
       "  <thead>\n",
       "    <tr style=\"text-align: right;\">\n",
       "      <th></th>\n",
       "      <th>HOUSEHOLD_KEY</th>\n",
       "      <th>BASKET_ID</th>\n",
       "      <th>PRODUCT_ID</th>\n",
       "      <th>QUANTITY</th>\n",
       "      <th>SALES_VALUE</th>\n",
       "      <th>STORE_ID</th>\n",
       "      <th>RETAIL_DISC</th>\n",
       "      <th>TRANS_TIME</th>\n",
       "      <th>COUPON_DISC</th>\n",
       "      <th>COUPON_MATCH_DISC</th>\n",
       "      <th>Date</th>\n",
       "    </tr>\n",
       "  </thead>\n",
       "  <tbody>\n",
       "    <tr>\n",
       "      <th>0</th>\n",
       "      <td>2375</td>\n",
       "      <td>26984851472</td>\n",
       "      <td>1004906</td>\n",
       "      <td>1</td>\n",
       "      <td>1.39</td>\n",
       "      <td>364</td>\n",
       "      <td>-0.60</td>\n",
       "      <td>1631</td>\n",
       "      <td>0</td>\n",
       "      <td>0</td>\n",
       "      <td>2022-01-02</td>\n",
       "    </tr>\n",
       "    <tr>\n",
       "      <th>1</th>\n",
       "      <td>2375</td>\n",
       "      <td>26984851472</td>\n",
       "      <td>1033142</td>\n",
       "      <td>1</td>\n",
       "      <td>0.82</td>\n",
       "      <td>364</td>\n",
       "      <td>0.00</td>\n",
       "      <td>1631</td>\n",
       "      <td>0</td>\n",
       "      <td>0</td>\n",
       "      <td>2022-01-02</td>\n",
       "    </tr>\n",
       "    <tr>\n",
       "      <th>2</th>\n",
       "      <td>2375</td>\n",
       "      <td>26984851472</td>\n",
       "      <td>1036325</td>\n",
       "      <td>1</td>\n",
       "      <td>0.99</td>\n",
       "      <td>364</td>\n",
       "      <td>-0.30</td>\n",
       "      <td>1631</td>\n",
       "      <td>0</td>\n",
       "      <td>0</td>\n",
       "      <td>2022-01-02</td>\n",
       "    </tr>\n",
       "    <tr>\n",
       "      <th>3</th>\n",
       "      <td>2375</td>\n",
       "      <td>26984851472</td>\n",
       "      <td>1082185</td>\n",
       "      <td>1</td>\n",
       "      <td>1.21</td>\n",
       "      <td>364</td>\n",
       "      <td>0.00</td>\n",
       "      <td>1631</td>\n",
       "      <td>0</td>\n",
       "      <td>0</td>\n",
       "      <td>2022-01-02</td>\n",
       "    </tr>\n",
       "    <tr>\n",
       "      <th>4</th>\n",
       "      <td>2375</td>\n",
       "      <td>26984851472</td>\n",
       "      <td>8160430</td>\n",
       "      <td>1</td>\n",
       "      <td>1.50</td>\n",
       "      <td>364</td>\n",
       "      <td>-0.39</td>\n",
       "      <td>1631</td>\n",
       "      <td>0</td>\n",
       "      <td>0</td>\n",
       "      <td>2022-01-02</td>\n",
       "    </tr>\n",
       "  </tbody>\n",
       "</table>\n",
       "</div>"
      ],
      "text/plain": [
       "   HOUSEHOLD_KEY    BASKET_ID  PRODUCT_ID  QUANTITY  SALES_VALUE  STORE_ID  \\\n",
       "0           2375  26984851472     1004906         1         1.39       364   \n",
       "1           2375  26984851472     1033142         1         0.82       364   \n",
       "2           2375  26984851472     1036325         1         0.99       364   \n",
       "3           2375  26984851472     1082185         1         1.21       364   \n",
       "4           2375  26984851472     8160430         1         1.50       364   \n",
       "\n",
       "   RETAIL_DISC  TRANS_TIME  COUPON_DISC  COUPON_MATCH_DISC       Date  \n",
       "0        -0.60        1631            0                  0 2022-01-02  \n",
       "1         0.00        1631            0                  0 2022-01-02  \n",
       "2        -0.30        1631            0                  0 2022-01-02  \n",
       "3         0.00        1631            0                  0 2022-01-02  \n",
       "4        -0.39        1631            0                  0 2022-01-02  "
      ]
     },
     "execution_count": 470,
     "metadata": {},
     "output_type": "execute_result"
    }
   ],
   "source": [
    "TRANSACTION_RAW.head()"
   ]
  },
  {
   "cell_type": "code",
   "execution_count": 471,
   "id": "4cdad852-3033-46ef-82d8-a13e1e8ccd7a",
   "metadata": {},
   "outputs": [],
   "source": [
    "TRANSACTION_RAW['Date']=pd.to_datetime(TRANSACTION_RAW['Date']).apply(lambda x: x.date())"
   ]
  },
  {
   "cell_type": "code",
   "execution_count": 472,
   "id": "3ba5be7c-3252-4ade-8434-14e1a56cb5f6",
   "metadata": {},
   "outputs": [
    {
     "data": {
      "text/plain": [
       "HOUSEHOLD_KEY          int16\n",
       "BASKET_ID              int64\n",
       "PRODUCT_ID             int32\n",
       "QUANTITY               int32\n",
       "SALES_VALUE          float64\n",
       "STORE_ID               int16\n",
       "RETAIL_DISC          float64\n",
       "TRANS_TIME             int16\n",
       "COUPON_DISC             int8\n",
       "COUPON_MATCH_DISC       int8\n",
       "Date                  object\n",
       "dtype: object"
      ]
     },
     "execution_count": 472,
     "metadata": {},
     "output_type": "execute_result"
    }
   ],
   "source": [
    "TRANSACTION_RAW.dtypes"
   ]
  },
  {
   "cell_type": "code",
   "execution_count": 473,
   "id": "31d6d4d0-6138-4115-85b8-a5931979efe4",
   "metadata": {},
   "outputs": [
    {
     "data": {
      "text/html": [
       "<div>\n",
       "<style scoped>\n",
       "    .dataframe tbody tr th:only-of-type {\n",
       "        vertical-align: middle;\n",
       "    }\n",
       "\n",
       "    .dataframe tbody tr th {\n",
       "        vertical-align: top;\n",
       "    }\n",
       "\n",
       "    .dataframe thead th {\n",
       "        text-align: right;\n",
       "    }\n",
       "</style>\n",
       "<table border=\"1\" class=\"dataframe\">\n",
       "  <thead>\n",
       "    <tr style=\"text-align: right;\">\n",
       "      <th></th>\n",
       "      <th>HOUSEHOLD_KEY</th>\n",
       "      <th>BASKET_ID</th>\n",
       "      <th>PRODUCT_ID</th>\n",
       "      <th>QUANTITY</th>\n",
       "      <th>SALES_VALUE</th>\n",
       "      <th>STORE_ID</th>\n",
       "      <th>RETAIL_DISC</th>\n",
       "      <th>TRANS_TIME</th>\n",
       "      <th>COUPON_DISC</th>\n",
       "      <th>COUPON_MATCH_DISC</th>\n",
       "      <th>Date</th>\n",
       "    </tr>\n",
       "  </thead>\n",
       "  <tbody>\n",
       "    <tr>\n",
       "      <th>0</th>\n",
       "      <td>2375</td>\n",
       "      <td>26984851472</td>\n",
       "      <td>1004906</td>\n",
       "      <td>1</td>\n",
       "      <td>1.39</td>\n",
       "      <td>364</td>\n",
       "      <td>-0.60</td>\n",
       "      <td>1631</td>\n",
       "      <td>0</td>\n",
       "      <td>0</td>\n",
       "      <td>2022-01-02</td>\n",
       "    </tr>\n",
       "    <tr>\n",
       "      <th>1</th>\n",
       "      <td>2375</td>\n",
       "      <td>26984851472</td>\n",
       "      <td>1033142</td>\n",
       "      <td>1</td>\n",
       "      <td>0.82</td>\n",
       "      <td>364</td>\n",
       "      <td>0.00</td>\n",
       "      <td>1631</td>\n",
       "      <td>0</td>\n",
       "      <td>0</td>\n",
       "      <td>2022-01-02</td>\n",
       "    </tr>\n",
       "    <tr>\n",
       "      <th>2</th>\n",
       "      <td>2375</td>\n",
       "      <td>26984851472</td>\n",
       "      <td>1036325</td>\n",
       "      <td>1</td>\n",
       "      <td>0.99</td>\n",
       "      <td>364</td>\n",
       "      <td>-0.30</td>\n",
       "      <td>1631</td>\n",
       "      <td>0</td>\n",
       "      <td>0</td>\n",
       "      <td>2022-01-02</td>\n",
       "    </tr>\n",
       "    <tr>\n",
       "      <th>3</th>\n",
       "      <td>2375</td>\n",
       "      <td>26984851472</td>\n",
       "      <td>1082185</td>\n",
       "      <td>1</td>\n",
       "      <td>1.21</td>\n",
       "      <td>364</td>\n",
       "      <td>0.00</td>\n",
       "      <td>1631</td>\n",
       "      <td>0</td>\n",
       "      <td>0</td>\n",
       "      <td>2022-01-02</td>\n",
       "    </tr>\n",
       "    <tr>\n",
       "      <th>4</th>\n",
       "      <td>2375</td>\n",
       "      <td>26984851472</td>\n",
       "      <td>8160430</td>\n",
       "      <td>1</td>\n",
       "      <td>1.50</td>\n",
       "      <td>364</td>\n",
       "      <td>-0.39</td>\n",
       "      <td>1631</td>\n",
       "      <td>0</td>\n",
       "      <td>0</td>\n",
       "      <td>2022-01-02</td>\n",
       "    </tr>\n",
       "    <tr>\n",
       "      <th>5</th>\n",
       "      <td>2375</td>\n",
       "      <td>26984851516</td>\n",
       "      <td>826249</td>\n",
       "      <td>2</td>\n",
       "      <td>1.98</td>\n",
       "      <td>364</td>\n",
       "      <td>-0.60</td>\n",
       "      <td>1642</td>\n",
       "      <td>0</td>\n",
       "      <td>0</td>\n",
       "      <td>2022-01-02</td>\n",
       "    </tr>\n",
       "    <tr>\n",
       "      <th>6</th>\n",
       "      <td>2375</td>\n",
       "      <td>26984851516</td>\n",
       "      <td>1043142</td>\n",
       "      <td>1</td>\n",
       "      <td>1.57</td>\n",
       "      <td>364</td>\n",
       "      <td>-0.68</td>\n",
       "      <td>1642</td>\n",
       "      <td>0</td>\n",
       "      <td>0</td>\n",
       "      <td>2022-01-02</td>\n",
       "    </tr>\n",
       "    <tr>\n",
       "      <th>7</th>\n",
       "      <td>2375</td>\n",
       "      <td>26984851516</td>\n",
       "      <td>1085983</td>\n",
       "      <td>1</td>\n",
       "      <td>2.99</td>\n",
       "      <td>364</td>\n",
       "      <td>-0.40</td>\n",
       "      <td>1642</td>\n",
       "      <td>0</td>\n",
       "      <td>0</td>\n",
       "      <td>2022-01-02</td>\n",
       "    </tr>\n",
       "    <tr>\n",
       "      <th>8</th>\n",
       "      <td>2375</td>\n",
       "      <td>26984851516</td>\n",
       "      <td>1102651</td>\n",
       "      <td>1</td>\n",
       "      <td>1.89</td>\n",
       "      <td>364</td>\n",
       "      <td>0.00</td>\n",
       "      <td>1642</td>\n",
       "      <td>0</td>\n",
       "      <td>0</td>\n",
       "      <td>2022-01-02</td>\n",
       "    </tr>\n",
       "    <tr>\n",
       "      <th>9</th>\n",
       "      <td>2375</td>\n",
       "      <td>26984851516</td>\n",
       "      <td>6423775</td>\n",
       "      <td>1</td>\n",
       "      <td>2.00</td>\n",
       "      <td>364</td>\n",
       "      <td>-0.79</td>\n",
       "      <td>1642</td>\n",
       "      <td>0</td>\n",
       "      <td>0</td>\n",
       "      <td>2022-01-02</td>\n",
       "    </tr>\n",
       "  </tbody>\n",
       "</table>\n",
       "</div>"
      ],
      "text/plain": [
       "   HOUSEHOLD_KEY    BASKET_ID  PRODUCT_ID  QUANTITY  SALES_VALUE  STORE_ID  \\\n",
       "0           2375  26984851472     1004906         1         1.39       364   \n",
       "1           2375  26984851472     1033142         1         0.82       364   \n",
       "2           2375  26984851472     1036325         1         0.99       364   \n",
       "3           2375  26984851472     1082185         1         1.21       364   \n",
       "4           2375  26984851472     8160430         1         1.50       364   \n",
       "5           2375  26984851516      826249         2         1.98       364   \n",
       "6           2375  26984851516     1043142         1         1.57       364   \n",
       "7           2375  26984851516     1085983         1         2.99       364   \n",
       "8           2375  26984851516     1102651         1         1.89       364   \n",
       "9           2375  26984851516     6423775         1         2.00       364   \n",
       "\n",
       "   RETAIL_DISC  TRANS_TIME  COUPON_DISC  COUPON_MATCH_DISC        Date  \n",
       "0        -0.60        1631            0                  0  2022-01-02  \n",
       "1         0.00        1631            0                  0  2022-01-02  \n",
       "2        -0.30        1631            0                  0  2022-01-02  \n",
       "3         0.00        1631            0                  0  2022-01-02  \n",
       "4        -0.39        1631            0                  0  2022-01-02  \n",
       "5        -0.60        1642            0                  0  2022-01-02  \n",
       "6        -0.68        1642            0                  0  2022-01-02  \n",
       "7        -0.40        1642            0                  0  2022-01-02  \n",
       "8         0.00        1642            0                  0  2022-01-02  \n",
       "9        -0.79        1642            0                  0  2022-01-02  "
      ]
     },
     "execution_count": 473,
     "metadata": {},
     "output_type": "execute_result"
    }
   ],
   "source": [
    "TRANSACTION_RAW.head(10)"
   ]
  },
  {
   "cell_type": "code",
   "execution_count": 474,
   "id": "6280bcff-f3ce-4d63-80e1-5b97ebec4bac",
   "metadata": {},
   "outputs": [
    {
     "ename": "SyntaxError",
     "evalue": "invalid syntax (2598695907.py, line 1)",
     "output_type": "error",
     "traceback": [
      "\u001b[1;36m  Cell \u001b[1;32mIn[474], line 1\u001b[1;36m\u001b[0m\n\u001b[1;33m    **Now loading the table to Db**\u001b[0m\n\u001b[1;37m    ^\u001b[0m\n\u001b[1;31mSyntaxError\u001b[0m\u001b[1;31m:\u001b[0m invalid syntax\n"
     ]
    }
   ],
   "source": [
    "**Now loading the table to Db**"
   ]
  },
  {
   "cell_type": "code",
   "execution_count": 475,
   "id": "d9bb4984-fd06-4329-b74a-ecc32403389a",
   "metadata": {},
   "outputs": [],
   "source": [
    "from sqlalchemy import create_engine\n",
    "from sqlalchemy.engine import URL\n",
    "import snowflake.connector as snowCtx\n",
    "from snowflake.connector.pandas_tools import write_pandas\n",
    "import pandas as pd\n",
    "import getpass"
   ]
  },
  {
   "cell_type": "code",
   "execution_count": 476,
   "id": "363a8cfd-d700-4f16-84bb-3ebd554eca67",
   "metadata": {},
   "outputs": [],
   "source": [
    " conn = snowflake.connector.connect(\n",
    "        user=\"MAUU\",\n",
    "        password=\"Mauu@1623\",\n",
    "        account=\"gq46029.ap-southeast-1\",  # Use the full account identifier\n",
    "        database=\"RETAILS\",  # Ensure this database exists\n",
    "        schema=\"PUBLIC\",    # Ensure this schema exists\n",
    "        warehouse=\"COMPUTE_WH\"  # Ensure this warehouse is available\n",
    "    )\n"
   ]
  },
  {
   "cell_type": "code",
   "execution_count": 477,
   "id": "034688aa-236e-4f5a-accb-81e9eab32572",
   "metadata": {},
   "outputs": [],
   "source": [
    "cur=conn.cursor()"
   ]
  },
  {
   "cell_type": "code",
   "execution_count": 478,
   "id": "860e10ca-53b0-44f7-a5c8-9dbb1f0f42e3",
   "metadata": {},
   "outputs": [
    {
     "data": {
      "text/plain": [
       "<snowflake.connector.cursor.SnowflakeCursor at 0x23a630df7a0>"
      ]
     },
     "execution_count": 478,
     "metadata": {},
     "output_type": "execute_result"
    }
   ],
   "source": [
    "cur.execute(''' CREATE OR REPLACE TABLE COUPON_REDEMPT_NEW\n",
    "(HOUSEHOLD_KEY NUMBER(38,0),\n",
    "COUPON_UPC NUMBER(38,0),\n",
    "CAMPAIGN NUMBER(38,0),\n",
    "Date Date\n",
    ")''')"
   ]
  },
  {
   "cell_type": "code",
   "execution_count": 479,
   "id": "6daae16b-4ca9-48b4-b463-076881389377",
   "metadata": {},
   "outputs": [
    {
     "data": {
      "text/plain": [
       "<snowflake.connector.cursor.SnowflakeCursor at 0x23a630df7a0>"
      ]
     },
     "execution_count": 479,
     "metadata": {},
     "output_type": "execute_result"
    }
   ],
   "source": [
    "cur.execute('''CREATE OR REPLACE TABLE TRANSACTION_NEW\n",
    "(HOUSEHOLD_KEY NUMBER(38,0),\n",
    "BASKET_ID NUMBER(38,0),\n",
    "PRODUCT_ID NUMBER(38,0),\n",
    "QUANTITY NUMBER(38,0),\n",
    "SALES_VALUE FLOAT,\n",
    "STORE_ID NUMBER(38,0),\n",
    "RETAIL_DISC FLOAT,\n",
    "TRANS_TIME NUMBER(38,0),\n",
    "COUPON_DISC FLOAT,\n",
    "COUPON_MATCH_DISC FLOAT,\n",
    "Date Date\n",
    ")\n",
    "''')"
   ]
  },
  {
   "cell_type": "code",
   "execution_count": 480,
   "id": "5d59431d-112f-4f0b-a468-e1f7b078c514",
   "metadata": {},
   "outputs": [
    {
     "data": {
      "text/html": [
       "<div>\n",
       "<style scoped>\n",
       "    .dataframe tbody tr th:only-of-type {\n",
       "        vertical-align: middle;\n",
       "    }\n",
       "\n",
       "    .dataframe tbody tr th {\n",
       "        vertical-align: top;\n",
       "    }\n",
       "\n",
       "    .dataframe thead th {\n",
       "        text-align: right;\n",
       "    }\n",
       "</style>\n",
       "<table border=\"1\" class=\"dataframe\">\n",
       "  <thead>\n",
       "    <tr style=\"text-align: right;\">\n",
       "      <th></th>\n",
       "      <th>DESCRIPTION</th>\n",
       "      <th>CAMPAIGN</th>\n",
       "      <th>START_DATE</th>\n",
       "      <th>END_DATE</th>\n",
       "      <th>Campaign_Duration</th>\n",
       "      <th>Start_Month</th>\n",
       "      <th>End_Month</th>\n",
       "      <th>Start_Year</th>\n",
       "      <th>End_Year</th>\n",
       "    </tr>\n",
       "  </thead>\n",
       "  <tbody>\n",
       "    <tr>\n",
       "      <th>0</th>\n",
       "      <td>TypeB</td>\n",
       "      <td>24</td>\n",
       "      <td>2023-10-22</td>\n",
       "      <td>2023-12-21</td>\n",
       "      <td>60</td>\n",
       "      <td>10</td>\n",
       "      <td>12</td>\n",
       "      <td>2023</td>\n",
       "      <td>2023</td>\n",
       "    </tr>\n",
       "    <tr>\n",
       "      <th>1</th>\n",
       "      <td>TypeC</td>\n",
       "      <td>15</td>\n",
       "      <td>2023-07-02</td>\n",
       "      <td>2023-12-10</td>\n",
       "      <td>161</td>\n",
       "      <td>07</td>\n",
       "      <td>12</td>\n",
       "      <td>2023</td>\n",
       "      <td>2023</td>\n",
       "    </tr>\n",
       "    <tr>\n",
       "      <th>2</th>\n",
       "      <td>TypeB</td>\n",
       "      <td>25</td>\n",
       "      <td>2023-10-22</td>\n",
       "      <td>2023-11-23</td>\n",
       "      <td>32</td>\n",
       "      <td>10</td>\n",
       "      <td>11</td>\n",
       "      <td>2023</td>\n",
       "      <td>2023</td>\n",
       "    </tr>\n",
       "    <tr>\n",
       "      <th>3</th>\n",
       "      <td>TypeC</td>\n",
       "      <td>20</td>\n",
       "      <td>2023-09-08</td>\n",
       "      <td>2023-11-17</td>\n",
       "      <td>70</td>\n",
       "      <td>09</td>\n",
       "      <td>11</td>\n",
       "      <td>2023</td>\n",
       "      <td>2023</td>\n",
       "    </tr>\n",
       "    <tr>\n",
       "      <th>4</th>\n",
       "      <td>TypeB</td>\n",
       "      <td>23</td>\n",
       "      <td>2023-10-09</td>\n",
       "      <td>2023-11-16</td>\n",
       "      <td>38</td>\n",
       "      <td>10</td>\n",
       "      <td>11</td>\n",
       "      <td>2023</td>\n",
       "      <td>2023</td>\n",
       "    </tr>\n",
       "  </tbody>\n",
       "</table>\n",
       "</div>"
      ],
      "text/plain": [
       "  DESCRIPTION  CAMPAIGN  START_DATE    END_DATE  Campaign_Duration  \\\n",
       "0       TypeB        24  2023-10-22  2023-12-21                 60   \n",
       "1       TypeC        15  2023-07-02  2023-12-10                161   \n",
       "2       TypeB        25  2023-10-22  2023-11-23                 32   \n",
       "3       TypeC        20  2023-09-08  2023-11-17                 70   \n",
       "4       TypeB        23  2023-10-09  2023-11-16                 38   \n",
       "\n",
       "  Start_Month End_Month Start_Year End_Year  \n",
       "0          10        12       2023     2023  \n",
       "1          07        12       2023     2023  \n",
       "2          10        11       2023     2023  \n",
       "3          09        11       2023     2023  \n",
       "4          10        11       2023     2023  "
      ]
     },
     "execution_count": 480,
     "metadata": {},
     "output_type": "execute_result"
    }
   ],
   "source": [
    "CAMPAIGN_DESC_RAW.head() ## cleaned raw dataframe"
   ]
  },
  {
   "cell_type": "code",
   "execution_count": 481,
   "id": "13b830b3-9045-4172-8b2c-cfe2458d6d21",
   "metadata": {},
   "outputs": [
    {
     "data": {
      "text/plain": [
       "<snowflake.connector.cursor.SnowflakeCursor at 0x23a630df7a0>"
      ]
     },
     "execution_count": 481,
     "metadata": {},
     "output_type": "execute_result"
    }
   ],
   "source": [
    "cur.execute('''\n",
    "CREATE OR REPLACE TABLE CAMPAIGN_DESC_NEW\n",
    "(DESCRIPTION VARCHAR(10),\n",
    "CAMPAIGN NUMBER(38,0),\n",
    "Start_date date,\n",
    "End_date  date,\n",
    "Campaign_Duration NUMBER(38,0),\n",
    "Start_month VARCHAR(10),\n",
    "End_month VARCHAR(10),\n",
    "Start_Year INT,\n",
    "End_Year INT)''')"
   ]
  },
  {
   "cell_type": "code",
   "execution_count": 482,
   "id": "58b0ee82-f22c-4820-a494-334554be5e60",
   "metadata": {},
   "outputs": [
    {
     "name": "stdout",
     "output_type": "stream",
     "text": [
      "True,1,30\n"
     ]
    }
   ],
   "source": [
    "success, nchunks, nrows, _ = write_pandas(conn, CAMPAIGN_DESC_RAW,'CAMPAIGN_DESC_NEW',quote_identifiers=False)\n",
    "print(str(success)+','+str(nchunks)+','+str(nrows))"
   ]
  },
  {
   "cell_type": "code",
   "execution_count": 483,
   "id": "c62c0a35-bf77-4e74-b393-7fd4eda90894",
   "metadata": {},
   "outputs": [
    {
     "name": "stdout",
     "output_type": "stream",
     "text": [
      "True,1,2318\n"
     ]
    }
   ],
   "source": [
    "success, nchunks, nrows, _ = write_pandas(conn, COUPON_REDEMPT_RAW,'COUPON_REDEMPT_NEW',quote_identifiers=False)\n",
    "print(str(success)+','+str(nchunks)+','+str(nrows))"
   ]
  },
  {
   "cell_type": "code",
   "execution_count": 484,
   "id": "11a45f4a-62f8-408e-b36a-7a9853a9680b",
   "metadata": {},
   "outputs": [
    {
     "name": "stdout",
     "output_type": "stream",
     "text": [
      "True,1,450416\n"
     ]
    }
   ],
   "source": [
    "success, nchunks, nrows, _ = write_pandas(conn,TRANSACTION_RAW ,'TRANSACTION_NEW',quote_identifiers=False)\n",
    "print(str(success)+','+str(nchunks)+','+str(nrows))"
   ]
  },
  {
   "cell_type": "code",
   "execution_count": null,
   "id": "ca4eeaea-53fa-47ad-95df-3e020692d7ac",
   "metadata": {},
   "outputs": [],
   "source": []
  }
 ],
 "metadata": {
  "kernelspec": {
   "display_name": "Python 3 (ipykernel)",
   "language": "python",
   "name": "python3"
  },
  "language_info": {
   "codemirror_mode": {
    "name": "ipython",
    "version": 3
   },
   "file_extension": ".py",
   "mimetype": "text/x-python",
   "name": "python",
   "nbconvert_exporter": "python",
   "pygments_lexer": "ipython3",
   "version": "3.12.5"
  },
  "widgets": {
   "application/vnd.jupyter.widget-state+json": {
    "state": {},
    "version_major": 2,
    "version_minor": 0
   }
  }
 },
 "nbformat": 4,
 "nbformat_minor": 5
}
